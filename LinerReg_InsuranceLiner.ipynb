{
 "cells": [
  {
   "cell_type": "code",
   "execution_count": 1,
   "id": "00615352",
   "metadata": {},
   "outputs": [
    {
     "data": {
      "text/html": [
       "<div>\n",
       "<style scoped>\n",
       "    .dataframe tbody tr th:only-of-type {\n",
       "        vertical-align: middle;\n",
       "    }\n",
       "\n",
       "    .dataframe tbody tr th {\n",
       "        vertical-align: top;\n",
       "    }\n",
       "\n",
       "    .dataframe thead th {\n",
       "        text-align: right;\n",
       "    }\n",
       "</style>\n",
       "<table border=\"1\" class=\"dataframe\">\n",
       "  <thead>\n",
       "    <tr style=\"text-align: right;\">\n",
       "      <th></th>\n",
       "      <th>age</th>\n",
       "      <th>sex</th>\n",
       "      <th>bmi</th>\n",
       "      <th>children</th>\n",
       "      <th>smoker</th>\n",
       "      <th>region</th>\n",
       "      <th>charges</th>\n",
       "    </tr>\n",
       "  </thead>\n",
       "  <tbody>\n",
       "    <tr>\n",
       "      <th>0</th>\n",
       "      <td>19</td>\n",
       "      <td>female</td>\n",
       "      <td>27.900</td>\n",
       "      <td>0</td>\n",
       "      <td>yes</td>\n",
       "      <td>southwest</td>\n",
       "      <td>16884.92400</td>\n",
       "    </tr>\n",
       "    <tr>\n",
       "      <th>1</th>\n",
       "      <td>18</td>\n",
       "      <td>male</td>\n",
       "      <td>33.770</td>\n",
       "      <td>1</td>\n",
       "      <td>no</td>\n",
       "      <td>southeast</td>\n",
       "      <td>1725.55230</td>\n",
       "    </tr>\n",
       "    <tr>\n",
       "      <th>2</th>\n",
       "      <td>28</td>\n",
       "      <td>male</td>\n",
       "      <td>33.000</td>\n",
       "      <td>3</td>\n",
       "      <td>no</td>\n",
       "      <td>southeast</td>\n",
       "      <td>4449.46200</td>\n",
       "    </tr>\n",
       "    <tr>\n",
       "      <th>3</th>\n",
       "      <td>33</td>\n",
       "      <td>male</td>\n",
       "      <td>22.705</td>\n",
       "      <td>0</td>\n",
       "      <td>no</td>\n",
       "      <td>northwest</td>\n",
       "      <td>21984.47061</td>\n",
       "    </tr>\n",
       "    <tr>\n",
       "      <th>4</th>\n",
       "      <td>32</td>\n",
       "      <td>male</td>\n",
       "      <td>28.880</td>\n",
       "      <td>0</td>\n",
       "      <td>no</td>\n",
       "      <td>northwest</td>\n",
       "      <td>3866.85520</td>\n",
       "    </tr>\n",
       "  </tbody>\n",
       "</table>\n",
       "</div>"
      ],
      "text/plain": [
       "   age     sex     bmi  children smoker     region      charges\n",
       "0   19  female  27.900         0    yes  southwest  16884.92400\n",
       "1   18    male  33.770         1     no  southeast   1725.55230\n",
       "2   28    male  33.000         3     no  southeast   4449.46200\n",
       "3   33    male  22.705         0     no  northwest  21984.47061\n",
       "4   32    male  28.880         0     no  northwest   3866.85520"
      ]
     },
     "execution_count": 1,
     "metadata": {},
     "output_type": "execute_result"
    }
   ],
   "source": [
    "import pandas as pd\n",
    "\n",
    "inr = pd.read_csv('insuranceLiner.csv')\n",
    "\n",
    "inr.head()"
   ]
  },
  {
   "cell_type": "code",
   "execution_count": 2,
   "id": "d4db8f95",
   "metadata": {},
   "outputs": [
    {
     "data": {
      "text/plain": [
       "(1338, 7)"
      ]
     },
     "execution_count": 2,
     "metadata": {},
     "output_type": "execute_result"
    }
   ],
   "source": [
    "inr.shape"
   ]
  },
  {
   "cell_type": "code",
   "execution_count": 4,
   "id": "f8479a24",
   "metadata": {},
   "outputs": [
    {
     "name": "stdout",
     "output_type": "stream",
     "text": [
      "<class 'pandas.core.frame.DataFrame'>\n",
      "RangeIndex: 1338 entries, 0 to 1337\n",
      "Data columns (total 7 columns):\n",
      " #   Column    Non-Null Count  Dtype  \n",
      "---  ------    --------------  -----  \n",
      " 0   age       1338 non-null   int64  \n",
      " 1   sex       1338 non-null   object \n",
      " 2   bmi       1338 non-null   float64\n",
      " 3   children  1338 non-null   int64  \n",
      " 4   smoker    1338 non-null   object \n",
      " 5   region    1338 non-null   object \n",
      " 6   charges   1338 non-null   float64\n",
      "dtypes: float64(2), int64(2), object(3)\n",
      "memory usage: 73.3+ KB\n"
     ]
    }
   ],
   "source": [
    "inr.info()"
   ]
  },
  {
   "cell_type": "code",
   "execution_count": 5,
   "id": "c724a3b6",
   "metadata": {},
   "outputs": [
    {
     "data": {
      "text/plain": [
       "Index([], dtype='object')"
      ]
     },
     "execution_count": 5,
     "metadata": {},
     "output_type": "execute_result"
    }
   ],
   "source": [
    "inr.columns[inr.isnull().sum() > 0]"
   ]
  },
  {
   "cell_type": "code",
   "execution_count": 6,
   "id": "44888e62",
   "metadata": {},
   "outputs": [
    {
     "data": {
      "text/plain": [
       "age         0\n",
       "sex         0\n",
       "bmi         0\n",
       "children    0\n",
       "smoker      0\n",
       "region      0\n",
       "charges     0\n",
       "dtype: int64"
      ]
     },
     "execution_count": 6,
     "metadata": {},
     "output_type": "execute_result"
    }
   ],
   "source": [
    "inr.isnull().sum()"
   ]
  },
  {
   "cell_type": "code",
   "execution_count": 7,
   "id": "2fd3c8cf",
   "metadata": {},
   "outputs": [
    {
     "data": {
      "text/plain": [
       "male      676\n",
       "female    662\n",
       "Name: sex, dtype: int64"
      ]
     },
     "execution_count": 7,
     "metadata": {},
     "output_type": "execute_result"
    }
   ],
   "source": [
    "inr.sex.value_counts()"
   ]
  },
  {
   "cell_type": "code",
   "execution_count": 9,
   "id": "d7b982e5",
   "metadata": {},
   "outputs": [
    {
     "data": {
      "text/plain": [
       "southeast    364\n",
       "southwest    325\n",
       "northwest    325\n",
       "northeast    324\n",
       "Name: region, dtype: int64"
      ]
     },
     "execution_count": 9,
     "metadata": {},
     "output_type": "execute_result"
    }
   ],
   "source": [
    "inr.smoker.value_counts()\n",
    "inr.region.value_counts()"
   ]
  },
  {
   "cell_type": "code",
   "execution_count": 65,
   "id": "43c5a197",
   "metadata": {},
   "outputs": [],
   "source": [
    "from sklearn.preprocessing import LabelEncoder\n",
    "\n",
    "le = LabelEncoder()"
   ]
  },
  {
   "cell_type": "code",
   "execution_count": 66,
   "id": "06d5e614",
   "metadata": {},
   "outputs": [],
   "source": [
    "inr.sex = le.fit_transform(inr.sex)\n",
    "inr.smoker =  le.fit_transform(inr.smoker)\n",
    "inr.region = le.fit_transform(inr.region)"
   ]
  },
  {
   "cell_type": "code",
   "execution_count": 67,
   "id": "81408037",
   "metadata": {},
   "outputs": [
    {
     "data": {
      "text/plain": [
       "2    364\n",
       "1    325\n",
       "3    325\n",
       "0    324\n",
       "Name: region, dtype: int64"
      ]
     },
     "execution_count": 67,
     "metadata": {},
     "output_type": "execute_result"
    }
   ],
   "source": [
    "inr.sex.value_counts()\n",
    "inr.smoker.value_counts()\n",
    "inr.region.value_counts()"
   ]
  },
  {
   "cell_type": "code",
   "execution_count": 68,
   "id": "319267ca",
   "metadata": {},
   "outputs": [
    {
     "name": "stdout",
     "output_type": "stream",
     "text": [
      "<class 'pandas.core.frame.DataFrame'>\n",
      "RangeIndex: 1338 entries, 0 to 1337\n",
      "Data columns (total 7 columns):\n",
      " #   Column    Non-Null Count  Dtype  \n",
      "---  ------    --------------  -----  \n",
      " 0   age       1338 non-null   int64  \n",
      " 1   sex       1338 non-null   int32  \n",
      " 2   bmi       1338 non-null   float64\n",
      " 3   children  1338 non-null   int64  \n",
      " 4   smoker    1338 non-null   int32  \n",
      " 5   region    1338 non-null   int32  \n",
      " 6   charges   1338 non-null   float64\n",
      "dtypes: float64(2), int32(3), int64(2)\n",
      "memory usage: 57.6 KB\n"
     ]
    }
   ],
   "source": [
    "inr.info()"
   ]
  },
  {
   "cell_type": "code",
   "execution_count": 69,
   "id": "e394e4aa",
   "metadata": {},
   "outputs": [],
   "source": [
    "from sklearn.model_selection import train_test_split\n",
    "\n",
    "inr_train,  inr_test = train_test_split(inr, test_size=.2)"
   ]
  },
  {
   "cell_type": "code",
   "execution_count": 70,
   "id": "4d0a1eb9",
   "metadata": {},
   "outputs": [],
   "source": [
    "inr_train_x = inr_train.iloc[ : , 0: -1]\n",
    "inr_train_y = inr_train.iloc[ : , -1]"
   ]
  },
  {
   "cell_type": "code",
   "execution_count": 71,
   "id": "348bcd78",
   "metadata": {},
   "outputs": [],
   "source": [
    "inr_test_x = inr_test.iloc[ : , 0: -1]\n",
    "inr_test_y = inr_test.iloc[ : , -1]"
   ]
  },
  {
   "cell_type": "code",
   "execution_count": 72,
   "id": "48d3dbcf",
   "metadata": {},
   "outputs": [
    {
     "data": {
      "text/plain": [
       "LinearRegression()"
      ]
     },
     "execution_count": 72,
     "metadata": {},
     "output_type": "execute_result"
    }
   ],
   "source": [
    "from sklearn.linear_model import LinearRegression\n",
    "\n",
    "reg_inr = LinearRegression()\n",
    "\n",
    "reg_inr.fit(inr_train_x, inr_train_y)"
   ]
  },
  {
   "cell_type": "code",
   "execution_count": 73,
   "id": "6dead510",
   "metadata": {},
   "outputs": [
    {
     "data": {
      "text/plain": [
       "0.7517038623947502"
      ]
     },
     "execution_count": 73,
     "metadata": {},
     "output_type": "execute_result"
    }
   ],
   "source": [
    "Rsquare = reg_inr.score(inr_train_x, inr_train_y)\n",
    "Rsquare"
   ]
  },
  {
   "cell_type": "code",
   "execution_count": 74,
   "id": "99fb0658",
   "metadata": {},
   "outputs": [
    {
     "data": {
      "text/plain": [
       "0.7503023790216256"
      ]
     },
     "execution_count": 74,
     "metadata": {},
     "output_type": "execute_result"
    }
   ],
   "source": [
    "N = inr_train_x.shape[0]\n",
    "K = inr_train_x.shape[1]\n",
    "\n",
    "AdjRsquare = 1 - (1-Rsquare)*(N-1)/(N-K-1)\n",
    "AdjRsquare"
   ]
  },
  {
   "cell_type": "code",
   "execution_count": 75,
   "id": "b762a6f8",
   "metadata": {},
   "outputs": [],
   "source": [
    "pred_train = reg_inr.predict(inr_train_x)\n",
    "pred_test = reg_inr.predict(inr_test_x)"
   ]
  },
  {
   "cell_type": "code",
   "execution_count": 76,
   "id": "65838d05",
   "metadata": {},
   "outputs": [],
   "source": [
    "err_train = inr_train_y - pred_train\n",
    "err_test = inr_test_y - pred_test"
   ]
  },
  {
   "cell_type": "code",
   "execution_count": 77,
   "id": "75dcc283",
   "metadata": {},
   "outputs": [
    {
     "data": {
      "text/plain": [
       "5.125470141767063e-13"
      ]
     },
     "execution_count": 77,
     "metadata": {},
     "output_type": "execute_result"
    }
   ],
   "source": [
    "import numpy as np\n",
    "np.mean(err_train)"
   ]
  },
  {
   "cell_type": "code",
   "execution_count": 78,
   "id": "ca8feae7",
   "metadata": {
    "scrolled": true
   },
   "outputs": [
    {
     "data": {
      "image/png": "[encoded data removed]",
      "text/plain": [
       "<Figure size 432x288 with 1 Axes>"
      ]
     },
     "metadata": {
      "needs_background": "light"
     },
     "output_type": "display_data"
    }
   ],
   "source": [
    "import matplotlib.pyplot as plt\n",
    "\n",
    "plt.hist(err_train, bins =30, edgecolor='r');"
   ]
  },
  {
   "cell_type": "code",
   "execution_count": 79,
   "id": "bceb30e6",
   "metadata": {},
   "outputs": [
    {
     "data": {
      "image/png": "[encoded data removed]",
      "text/plain": [
       "<Figure size 432x288 with 1 Axes>"
      ]
     },
     "metadata": {
      "needs_background": "light"
     },
     "output_type": "display_data"
    }
   ],
   "source": [
    "plt.plot(err_train, \"*\");"
   ]
  },
  {
   "cell_type": "code",
   "execution_count": 80,
   "id": "641ce7fd",
   "metadata": {},
   "outputs": [],
   "source": [
    "pred_actual = pd.DataFrame({'Actual': inr_train_y, 'Predict' : pred_train})"
   ]
  },
  {
   "cell_type": "code",
   "execution_count": 81,
   "id": "d78ab915",
   "metadata": {},
   "outputs": [
    {
     "name": "stderr",
     "output_type": "stream",
     "text": [
      "D:\\DataScience_Utilities\\lib\\site-packages\\seaborn\\_decorators.py:36: FutureWarning: Pass the following variables as keyword args: x, y. From version 0.12, the only valid positional argument will be `data`, and passing other arguments without an explicit keyword will result in an error or misinterpretation.\n",
      "  warnings.warn(\n"
     ]
    },
    {
     "data": {
      "image/png": "[encoded data removed]",
      "text/plain": [
       "<Figure size 432x288 with 1 Axes>"
      ]
     },
     "metadata": {
      "needs_background": "light"
     },
     "output_type": "display_data"
    }
   ],
   "source": [
    "import seaborn as sns\n",
    "\n",
    "sns.regplot('Actual', 'Predict', data=pred_actual);"
   ]
  },
  {
   "cell_type": "code",
   "execution_count": 82,
   "id": "32ba5a0b",
   "metadata": {},
   "outputs": [],
   "source": [
    "def remove_outliers(df,   col,  k):   \n",
    "        mean = df[col].mean()\n",
    "        global df1  # output \n",
    "        sd = df[col].std()    \n",
    "        final_list = [x for x in df[col] if (x > mean - k * sd)]\n",
    "        final_list = [x for x in final_list if (x < mean + k * sd)]       \n",
    "        df1 = df.loc[df[col].isin(final_list)] ; print(df1.shape)     \n",
    "        print(\"Number of outliers removed == >\"   ,  df.shape[0]  - df1.shape[0])"
   ]
  },
  {
   "cell_type": "code",
   "execution_count": 83,
   "id": "e2c2386b",
   "metadata": {},
   "outputs": [
    {
     "name": "stdout",
     "output_type": "stream",
     "text": [
      "(1231, 7)\n",
      "Number of outliers removed == > 107\n"
     ]
    }
   ],
   "source": [
    "remove_outliers(inr, 'charges', 2)"
   ]
  },
  {
   "cell_type": "code",
   "execution_count": 84,
   "id": "0f253485",
   "metadata": {},
   "outputs": [],
   "source": [
    "inr = df1"
   ]
  },
  {
   "cell_type": "code",
   "execution_count": 85,
   "id": "0f16a473",
   "metadata": {},
   "outputs": [],
   "source": [
    "from sklearn.model_selection import train_test_split\n",
    "\n",
    "inr_train,  inr_test = train_test_split(inr, test_size=.2)"
   ]
  },
  {
   "cell_type": "code",
   "execution_count": 86,
   "id": "193c413b",
   "metadata": {},
   "outputs": [],
   "source": [
    "inr_train_x = inr_train.iloc[ : , 0: -1]\n",
    "inr_train_y = inr_train.iloc[ : , -1]"
   ]
  },
  {
   "cell_type": "code",
   "execution_count": 87,
   "id": "93e1028a",
   "metadata": {},
   "outputs": [],
   "source": [
    "inr_test_x = inr_test.iloc[ : , 0: -1]\n",
    "inr_test_y = inr_test.iloc[ : , -1]"
   ]
  },
  {
   "cell_type": "code",
   "execution_count": 88,
   "id": "c9265dcc",
   "metadata": {},
   "outputs": [
    {
     "data": {
      "text/plain": [
       "LinearRegression()"
      ]
     },
     "execution_count": 88,
     "metadata": {},
     "output_type": "execute_result"
    }
   ],
   "source": [
    "from sklearn.linear_model import LinearRegression\n",
    "\n",
    "reg_inr = LinearRegression()\n",
    "\n",
    "reg_inr.fit(inr_train_x, inr_train_y)"
   ]
  },
  {
   "cell_type": "code",
   "execution_count": 89,
   "id": "e1a52746",
   "metadata": {},
   "outputs": [
    {
     "data": {
      "text/plain": [
       "0.6139821022652135"
      ]
     },
     "execution_count": 89,
     "metadata": {},
     "output_type": "execute_result"
    }
   ],
   "source": [
    "Rsquare = reg_inr.score(inr_train_x, inr_train_y)\n",
    "Rsquare"
   ]
  },
  {
   "cell_type": "code",
   "execution_count": 91,
   "id": "e2a5861f",
   "metadata": {
    "scrolled": true
   },
   "outputs": [
    {
     "data": {
      "text/plain": [
       "0.6116114703446314"
      ]
     },
     "execution_count": 91,
     "metadata": {},
     "output_type": "execute_result"
    }
   ],
   "source": [
    "N = inr_train_x.shape[0]\n",
    "K = inr_train_x.shape[1]\n",
    "\n",
    "AdjRsquare = 1 - (1-Rsquare)*(N-1)/(N-K-1)\n",
    "AdjRsquare"
   ]
  },
  {
   "cell_type": "code",
   "execution_count": 90,
   "id": "c0a55f19",
   "metadata": {},
   "outputs": [],
   "source": [
    "pred_train = reg_inr.predict(inr_train_x)\n",
    "pred_test = reg_inr.predict(inr_test_x)"
   ]
  },
  {
   "cell_type": "code",
   "execution_count": 92,
   "id": "5318db08",
   "metadata": {},
   "outputs": [],
   "source": [
    "err_train = inr_train_y - pred_train\n",
    "err_test = inr_test_y - pred_test"
   ]
  },
  {
   "cell_type": "code",
   "execution_count": 93,
   "id": "67cb9317",
   "metadata": {},
   "outputs": [
    {
     "data": {
      "image/png": "[encoded data removed]",
      "text/plain": [
       "<Figure size 432x288 with 1 Axes>"
      ]
     },
     "metadata": {
      "needs_background": "light"
     },
     "output_type": "display_data"
    }
   ],
   "source": [
    "import matplotlib.pyplot as plt\n",
    "\n",
    "plt.hist(err_train, bins =30, edgecolor='r');"
   ]
  },
  {
   "cell_type": "code",
   "execution_count": 95,
   "id": "8e0cd32a",
   "metadata": {},
   "outputs": [
    {
     "name": "stderr",
     "output_type": "stream",
     "text": [
      "D:\\DataScience_Utilities\\lib\\site-packages\\seaborn\\_decorators.py:36: FutureWarning: Pass the following variables as keyword args: x, y. From version 0.12, the only valid positional argument will be `data`, and passing other arguments without an explicit keyword will result in an error or misinterpretation.\n",
      "  warnings.warn(\n"
     ]
    },
    {
     "data": {
      "image/png": "[encoded data removed]",
      "text/plain": [
       "<Figure size 432x288 with 1 Axes>"
      ]
     },
     "metadata": {
      "needs_background": "light"
     },
     "output_type": "display_data"
    }
   ],
   "source": [
    "pred_actual = pd.DataFrame({'Actual': inr_train_y, 'Predict' : pred_train})\n",
    "\n",
    "import seaborn as sns\n",
    "\n",
    "sns.regplot('Actual', 'Predict', data=pred_actual);"
   ]
  },
  {
   "cell_type": "code",
   "execution_count": null,
   "id": "2f3e4894",
   "metadata": {},
   "outputs": [],
   "source": [
    "# Calculate the MAPE to see what  % of erros are existing"
   ]
  },
  {
   "cell_type": "code",
   "execution_count": null,
   "id": "2e26d377",
   "metadata": {},
   "outputs": [],
   "source": []
  },
  {
   "cell_type": "code",
   "execution_count": null,
   "id": "3eca0f50",
   "metadata": {},
   "outputs": [],
   "source": []
  },
  {
   "cell_type": "code",
   "execution_count": null,
   "id": "d6c00ab4",
   "metadata": {},
   "outputs": [],
   "source": []
  }
 ],
 "metadata": {
  "kernelspec": {
   "display_name": "Python 3 (ipykernel)",
   "language": "python",
   "name": "python3"
  },
  "language_info": {
   "codemirror_mode": {
    "name": "ipython",
    "version": 3
   },
   "file_extension": ".py",
   "mimetype": "text/x-python",
   "name": "python",
   "nbconvert_exporter": "python",
   "pygments_lexer": "ipython3",
   "version": "3.9.7"
  }
 },
 "nbformat": 4,
 "nbformat_minor": 5
}
