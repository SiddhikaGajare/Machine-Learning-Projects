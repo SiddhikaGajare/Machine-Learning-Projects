{
 "cells": [
  {
   "cell_type": "code",
   "execution_count": 1,
   "id": "f5306910",
   "metadata": {},
   "outputs": [
    {
     "data": {
      "text/html": [
       "<div>\n",
       "<style scoped>\n",
       "    .dataframe tbody tr th:only-of-type {\n",
       "        vertical-align: middle;\n",
       "    }\n",
       "\n",
       "    .dataframe tbody tr th {\n",
       "        vertical-align: top;\n",
       "    }\n",
       "\n",
       "    .dataframe thead th {\n",
       "        text-align: right;\n",
       "    }\n",
       "</style>\n",
       "<table border=\"1\" class=\"dataframe\">\n",
       "  <thead>\n",
       "    <tr style=\"text-align: right;\">\n",
       "      <th></th>\n",
       "      <th>age</th>\n",
       "      <th>workclass</th>\n",
       "      <th>fnlwgt</th>\n",
       "      <th>education</th>\n",
       "      <th>educational-num</th>\n",
       "      <th>marital-status</th>\n",
       "      <th>occupation</th>\n",
       "      <th>relationship</th>\n",
       "      <th>race</th>\n",
       "      <th>gender</th>\n",
       "      <th>capital-gain</th>\n",
       "      <th>capital-loss</th>\n",
       "      <th>hours-per-week</th>\n",
       "      <th>native-country</th>\n",
       "      <th>income</th>\n",
       "    </tr>\n",
       "  </thead>\n",
       "  <tbody>\n",
       "    <tr>\n",
       "      <th>0</th>\n",
       "      <td>25</td>\n",
       "      <td>Private</td>\n",
       "      <td>226802</td>\n",
       "      <td>11th</td>\n",
       "      <td>7</td>\n",
       "      <td>Never-married</td>\n",
       "      <td>Machine-op-inspct</td>\n",
       "      <td>Own-child</td>\n",
       "      <td>Black</td>\n",
       "      <td>Male</td>\n",
       "      <td>0</td>\n",
       "      <td>0</td>\n",
       "      <td>40</td>\n",
       "      <td>United-States</td>\n",
       "      <td>&lt;=50K</td>\n",
       "    </tr>\n",
       "    <tr>\n",
       "      <th>1</th>\n",
       "      <td>38</td>\n",
       "      <td>Private</td>\n",
       "      <td>89814</td>\n",
       "      <td>HS-grad</td>\n",
       "      <td>9</td>\n",
       "      <td>Married-civ-spouse</td>\n",
       "      <td>Farming-fishing</td>\n",
       "      <td>Husband</td>\n",
       "      <td>White</td>\n",
       "      <td>Male</td>\n",
       "      <td>0</td>\n",
       "      <td>0</td>\n",
       "      <td>50</td>\n",
       "      <td>United-States</td>\n",
       "      <td>&lt;=50K</td>\n",
       "    </tr>\n",
       "    <tr>\n",
       "      <th>2</th>\n",
       "      <td>28</td>\n",
       "      <td>Local-gov</td>\n",
       "      <td>336951</td>\n",
       "      <td>Assoc-acdm</td>\n",
       "      <td>12</td>\n",
       "      <td>Married-civ-spouse</td>\n",
       "      <td>Protective-serv</td>\n",
       "      <td>Husband</td>\n",
       "      <td>White</td>\n",
       "      <td>Male</td>\n",
       "      <td>0</td>\n",
       "      <td>0</td>\n",
       "      <td>40</td>\n",
       "      <td>United-States</td>\n",
       "      <td>&gt;50K</td>\n",
       "    </tr>\n",
       "    <tr>\n",
       "      <th>3</th>\n",
       "      <td>44</td>\n",
       "      <td>Private</td>\n",
       "      <td>160323</td>\n",
       "      <td>Some-college</td>\n",
       "      <td>10</td>\n",
       "      <td>Married-civ-spouse</td>\n",
       "      <td>Machine-op-inspct</td>\n",
       "      <td>Husband</td>\n",
       "      <td>Black</td>\n",
       "      <td>Male</td>\n",
       "      <td>7688</td>\n",
       "      <td>0</td>\n",
       "      <td>40</td>\n",
       "      <td>United-States</td>\n",
       "      <td>&gt;50K</td>\n",
       "    </tr>\n",
       "    <tr>\n",
       "      <th>4</th>\n",
       "      <td>18</td>\n",
       "      <td>?</td>\n",
       "      <td>103497</td>\n",
       "      <td>Some-college</td>\n",
       "      <td>10</td>\n",
       "      <td>Never-married</td>\n",
       "      <td>?</td>\n",
       "      <td>Own-child</td>\n",
       "      <td>White</td>\n",
       "      <td>Female</td>\n",
       "      <td>0</td>\n",
       "      <td>0</td>\n",
       "      <td>30</td>\n",
       "      <td>United-States</td>\n",
       "      <td>&lt;=50K</td>\n",
       "    </tr>\n",
       "  </tbody>\n",
       "</table>\n",
       "</div>"
      ],
      "text/plain": [
       "   age  workclass  fnlwgt     education  educational-num      marital-status  \\\n",
       "0   25    Private  226802          11th                7       Never-married   \n",
       "1   38    Private   89814       HS-grad                9  Married-civ-spouse   \n",
       "2   28  Local-gov  336951    Assoc-acdm               12  Married-civ-spouse   \n",
       "3   44    Private  160323  Some-college               10  Married-civ-spouse   \n",
       "4   18          ?  103497  Some-college               10       Never-married   \n",
       "\n",
       "          occupation relationship   race  gender  capital-gain  capital-loss  \\\n",
       "0  Machine-op-inspct    Own-child  Black    Male             0             0   \n",
       "1    Farming-fishing      Husband  White    Male             0             0   \n",
       "2    Protective-serv      Husband  White    Male             0             0   \n",
       "3  Machine-op-inspct      Husband  Black    Male          7688             0   \n",
       "4                  ?    Own-child  White  Female             0             0   \n",
       "\n",
       "   hours-per-week native-country income  \n",
       "0              40  United-States  <=50K  \n",
       "1              50  United-States  <=50K  \n",
       "2              40  United-States   >50K  \n",
       "3              40  United-States   >50K  \n",
       "4              30  United-States  <=50K  "
      ]
     },
     "execution_count": 1,
     "metadata": {},
     "output_type": "execute_result"
    }
   ],
   "source": [
    "# https://machinelearningmastery.com/imbalanced-classification-with-the-adult-income-dataset/\n",
    "\n",
    "import pandas as pd\n",
    "\n",
    "ad = pd.read_csv('adultKNN.csv')\n",
    "\n",
    "ad.head()"
   ]
  },
  {
   "cell_type": "code",
   "execution_count": 2,
   "id": "9cc05f41",
   "metadata": {},
   "outputs": [
    {
     "data": {
      "text/plain": [
       "(48842, 15)"
      ]
     },
     "execution_count": 2,
     "metadata": {},
     "output_type": "execute_result"
    }
   ],
   "source": [
    "ad.shape"
   ]
  },
  {
   "cell_type": "code",
   "execution_count": 3,
   "id": "6dea164d",
   "metadata": {},
   "outputs": [
    {
     "data": {
      "text/plain": [
       "Index(['age', 'workclass', 'fnlwgt', 'education', 'educational-num',\n",
       "       'marital-status', 'occupation', 'relationship', 'race', 'gender',\n",
       "       'capital-gain', 'capital-loss', 'hours-per-week', 'native-country',\n",
       "       'income'],\n",
       "      dtype='object')"
      ]
     },
     "execution_count": 3,
     "metadata": {},
     "output_type": "execute_result"
    }
   ],
   "source": [
    "ad.columns"
   ]
  },
  {
   "cell_type": "code",
   "execution_count": 4,
   "id": "e810eb78",
   "metadata": {},
   "outputs": [
    {
     "data": {
      "text/plain": [
       "age                0\n",
       "workclass          0\n",
       "fnlwgt             0\n",
       "education          0\n",
       "educational-num    0\n",
       "marital-status     0\n",
       "occupation         0\n",
       "relationship       0\n",
       "race               0\n",
       "gender             0\n",
       "capital-gain       0\n",
       "capital-loss       0\n",
       "hours-per-week     0\n",
       "native-country     0\n",
       "income             0\n",
       "dtype: int64"
      ]
     },
     "execution_count": 4,
     "metadata": {},
     "output_type": "execute_result"
    }
   ],
   "source": [
    "ad.isnull().sum() # No Nulls hence find value counts n replace the ? with NAN"
   ]
  },
  {
   "cell_type": "code",
   "execution_count": 7,
   "id": "764d1163",
   "metadata": {},
   "outputs": [
    {
     "data": {
      "text/plain": [
       "Index(['age', 'workclass', 'fnlwgt', 'education', 'educationalnum',\n",
       "       'maritalstatus', 'occupation', 'relationship', 'race', 'gender',\n",
       "       'capitalgain', 'capitalloss', 'hoursperweek', 'nativecountry',\n",
       "       'income'],\n",
       "      dtype='object')"
      ]
     },
     "execution_count": 7,
     "metadata": {},
     "output_type": "execute_result"
    }
   ],
   "source": [
    "# Rename the colnames for simplicity\n",
    "\n",
    "ad.rename(columns = {'educational-num': 'educationalnum', 'marital-status': 'maritalstatus'}, inplace = True)\n",
    "ad.rename(columns = {'capital-gain': 'capitalgain', 'capital-loss': 'capitalloss', \n",
    "                     'hours-per-week':'hoursperweek', 'native-country':'nativecountry'}, \n",
    "          inplace = True)\n",
    "ad.columns"
   ]
  },
  {
   "cell_type": "code",
   "execution_count": 8,
   "id": "8af8df78",
   "metadata": {},
   "outputs": [
    {
     "data": {
      "text/plain": [
       "<=50K    37155\n",
       ">50K     11687\n",
       "Name: income, dtype: int64"
      ]
     },
     "execution_count": 8,
     "metadata": {},
     "output_type": "execute_result"
    }
   ],
   "source": [
    "ad.workclass.value_counts() # '?'\n",
    "ad.education.value_counts()\n",
    "ad.occupation.value_counts()# '?'\n",
    "ad.fnlwgt.value_counts()\n",
    "ad.educationalnum.value_counts() # Num of years edu persued\n",
    "ad.maritalstatus.value_counts()\n",
    "ad.relationship.value_counts()\n",
    "ad.race.value_counts()\n",
    "ad.gender.value_counts()\n",
    "ad.capitalgain.value_counts()\n",
    "ad.capitalloss.value_counts()\n",
    "ad.hoursperweek.value_counts()\n",
    "ad.nativecountry.value_counts()# '?'\n",
    "ad.income.value_counts()"
   ]
  },
  {
   "cell_type": "code",
   "execution_count": 9,
   "id": "868108a3",
   "metadata": {},
   "outputs": [
    {
     "data": {
      "text/plain": [
       "Index(['workclass', 'occupation', 'nativecountry'], dtype='object')"
      ]
     },
     "execution_count": 9,
     "metadata": {},
     "output_type": "execute_result"
    }
   ],
   "source": [
    "ad.columns[ad.isin({'?'}).sum() > 0]"
   ]
  },
  {
   "cell_type": "code",
   "execution_count": 10,
   "id": "c353f786",
   "metadata": {},
   "outputs": [],
   "source": [
    "# Lets convert ? to Null\n",
    "import numpy as np\n",
    "\n",
    "ad = ad.replace({'?' : np.nan})"
   ]
  },
  {
   "cell_type": "code",
   "execution_count": 11,
   "id": "1894b748",
   "metadata": {},
   "outputs": [
    {
     "data": {
      "text/plain": [
       "age                  0\n",
       "workclass         2799\n",
       "fnlwgt               0\n",
       "education            0\n",
       "educationalnum       0\n",
       "maritalstatus        0\n",
       "occupation        2809\n",
       "relationship         0\n",
       "race                 0\n",
       "gender               0\n",
       "capitalgain          0\n",
       "capitalloss          0\n",
       "hoursperweek         0\n",
       "nativecountry      857\n",
       "income               0\n",
       "dtype: int64"
      ]
     },
     "execution_count": 11,
     "metadata": {},
     "output_type": "execute_result"
    }
   ],
   "source": [
    "ad.columns[ad.isin({'?'}).sum() > 0] # REturns zero values\n",
    "\n",
    "ad.isnull().sum()"
   ]
  },
  {
   "cell_type": "code",
   "execution_count": 12,
   "id": "05f0e60e",
   "metadata": {},
   "outputs": [
    {
     "data": {
      "text/plain": [
       "United-States                 43832\n",
       "Mexico                          951\n",
       "Philippines                     295\n",
       "Germany                         206\n",
       "Puerto-Rico                     184\n",
       "Canada                          182\n",
       "El-Salvador                     155\n",
       "India                           151\n",
       "Cuba                            138\n",
       "England                         127\n",
       "China                           122\n",
       "South                           115\n",
       "Jamaica                         106\n",
       "Italy                           105\n",
       "Dominican-Republic              103\n",
       "Japan                            92\n",
       "Guatemala                        88\n",
       "Poland                           87\n",
       "Vietnam                          86\n",
       "Columbia                         85\n",
       "Haiti                            75\n",
       "Portugal                         67\n",
       "Taiwan                           65\n",
       "Iran                             59\n",
       "Greece                           49\n",
       "Nicaragua                        49\n",
       "Peru                             46\n",
       "Ecuador                          45\n",
       "France                           38\n",
       "Ireland                          37\n",
       "Hong                             30\n",
       "Thailand                         30\n",
       "Cambodia                         28\n",
       "Trinadad&Tobago                  27\n",
       "Yugoslavia                       23\n",
       "Outlying-US(Guam-USVI-etc)       23\n",
       "Laos                             23\n",
       "Scotland                         21\n",
       "Honduras                         20\n",
       "Hungary                          19\n",
       "Holand-Netherlands                1\n",
       "Name: nativecountry, dtype: int64"
      ]
     },
     "execution_count": 12,
     "metadata": {},
     "output_type": "execute_result"
    }
   ],
   "source": [
    "#ad.occupation.value_counts() # Other-service\n",
    "#ad.workclass.value_counts() # Private\n",
    "ad.nativecountry.value_counts() # Unite"
   ]
  },
  {
   "cell_type": "code",
   "execution_count": 13,
   "id": "0e4aa7cd",
   "metadata": {},
   "outputs": [
    {
     "data": {
      "text/html": [
       "<div>\n",
       "<style scoped>\n",
       "    .dataframe tbody tr th:only-of-type {\n",
       "        vertical-align: middle;\n",
       "    }\n",
       "\n",
       "    .dataframe tbody tr th {\n",
       "        vertical-align: top;\n",
       "    }\n",
       "\n",
       "    .dataframe thead th {\n",
       "        text-align: right;\n",
       "    }\n",
       "</style>\n",
       "<table border=\"1\" class=\"dataframe\">\n",
       "  <thead>\n",
       "    <tr style=\"text-align: right;\">\n",
       "      <th></th>\n",
       "      <th>Workclass</th>\n",
       "      <th>Occ</th>\n",
       "      <th>Nat</th>\n",
       "      <th>Wts</th>\n",
       "    </tr>\n",
       "  </thead>\n",
       "  <tbody>\n",
       "    <tr>\n",
       "      <th>7974</th>\n",
       "      <td>Private</td>\n",
       "      <td>Exec-managerial</td>\n",
       "      <td>United-States</td>\n",
       "      <td>1490400</td>\n",
       "    </tr>\n",
       "    <tr>\n",
       "      <th>30730</th>\n",
       "      <td>Private</td>\n",
       "      <td>Exec-managerial</td>\n",
       "      <td>United-States</td>\n",
       "      <td>1484705</td>\n",
       "    </tr>\n",
       "    <tr>\n",
       "      <th>34419</th>\n",
       "      <td>Private</td>\n",
       "      <td>Craft-repair</td>\n",
       "      <td>United-States</td>\n",
       "      <td>1455435</td>\n",
       "    </tr>\n",
       "    <tr>\n",
       "      <th>33020</th>\n",
       "      <td>Private</td>\n",
       "      <td>Other-service</td>\n",
       "      <td>United-States</td>\n",
       "      <td>1366120</td>\n",
       "    </tr>\n",
       "    <tr>\n",
       "      <th>31850</th>\n",
       "      <td>Private</td>\n",
       "      <td>Tech-support</td>\n",
       "      <td>United-States</td>\n",
       "      <td>1268339</td>\n",
       "    </tr>\n",
       "    <tr>\n",
       "      <th>...</th>\n",
       "      <td>...</td>\n",
       "      <td>...</td>\n",
       "      <td>...</td>\n",
       "      <td>...</td>\n",
       "    </tr>\n",
       "    <tr>\n",
       "      <th>1060</th>\n",
       "      <td>Private</td>\n",
       "      <td>Prof-specialty</td>\n",
       "      <td>United-States</td>\n",
       "      <td>13769</td>\n",
       "    </tr>\n",
       "    <tr>\n",
       "      <th>7668</th>\n",
       "      <td>Private</td>\n",
       "      <td>Exec-managerial</td>\n",
       "      <td>United-States</td>\n",
       "      <td>13769</td>\n",
       "    </tr>\n",
       "    <tr>\n",
       "      <th>43488</th>\n",
       "      <td>Private</td>\n",
       "      <td>Machine-op-inspct</td>\n",
       "      <td>United-States</td>\n",
       "      <td>13769</td>\n",
       "    </tr>\n",
       "    <tr>\n",
       "      <th>16044</th>\n",
       "      <td>State-gov</td>\n",
       "      <td>Protective-serv</td>\n",
       "      <td>United-States</td>\n",
       "      <td>13492</td>\n",
       "    </tr>\n",
       "    <tr>\n",
       "      <th>33377</th>\n",
       "      <td>NaN</td>\n",
       "      <td>NaN</td>\n",
       "      <td>United-States</td>\n",
       "      <td>12285</td>\n",
       "    </tr>\n",
       "  </tbody>\n",
       "</table>\n",
       "<p>48842 rows × 4 columns</p>\n",
       "</div>"
      ],
      "text/plain": [
       "       Workclass                Occ            Nat      Wts\n",
       "7974     Private    Exec-managerial  United-States  1490400\n",
       "30730    Private    Exec-managerial  United-States  1484705\n",
       "34419    Private       Craft-repair  United-States  1455435\n",
       "33020    Private      Other-service  United-States  1366120\n",
       "31850    Private       Tech-support  United-States  1268339\n",
       "...          ...                ...            ...      ...\n",
       "1060     Private     Prof-specialty  United-States    13769\n",
       "7668     Private    Exec-managerial  United-States    13769\n",
       "43488    Private  Machine-op-inspct  United-States    13769\n",
       "16044  State-gov    Protective-serv  United-States    13492\n",
       "33377        NaN                NaN  United-States    12285\n",
       "\n",
       "[48842 rows x 4 columns]"
      ]
     },
     "execution_count": 13,
     "metadata": {},
     "output_type": "execute_result"
    }
   ],
   "source": [
    "ad.workclass.value_counts()\n",
    "ad.occupation.value_counts()\n",
    "\n",
    "wt = pd.DataFrame({\"Workclass\":ad.workclass, 'Occ' : ad.occupation, 'Nat':ad.nativecountry, 'Wts':ad.fnlwgt})\n",
    "wt.sort_values('Wts', ascending = False)"
   ]
  },
  {
   "cell_type": "code",
   "execution_count": 14,
   "id": "fdd3dbf4",
   "metadata": {},
   "outputs": [],
   "source": [
    "ad.occupation.fillna('Other-service', inplace=True)\n",
    "ad.workclass.fillna('Private', inplace=True)\n",
    "ad.nativecountry.fillna('United-States', inplace=True)"
   ]
  },
  {
   "cell_type": "code",
   "execution_count": 15,
   "id": "07eba290",
   "metadata": {},
   "outputs": [
    {
     "data": {
      "text/plain": [
       "Index(['workclass', 'education', 'maritalstatus', 'occupation', 'relationship',\n",
       "       'race', 'gender', 'nativecountry', 'income'],\n",
       "      dtype='object')"
      ]
     },
     "execution_count": 15,
     "metadata": {},
     "output_type": "execute_result"
    }
   ],
   "source": [
    "ad.columns[ad.dtypes == 'object']"
   ]
  },
  {
   "cell_type": "code",
   "execution_count": 16,
   "id": "4c76cc65",
   "metadata": {},
   "outputs": [
    {
     "data": {
      "text/plain": [
       "Husband           19716\n",
       "Not-in-family     12583\n",
       "Own-child          7581\n",
       "Unmarried          5125\n",
       "Wife               2331\n",
       "Other-relative     1506\n",
       "Name: relationship, dtype: int64"
      ]
     },
     "execution_count": 16,
     "metadata": {},
     "output_type": "execute_result"
    }
   ],
   "source": [
    "ad.relationship.value_counts()"
   ]
  },
  {
   "cell_type": "code",
   "execution_count": 17,
   "id": "d83249c0",
   "metadata": {},
   "outputs": [],
   "source": [
    "from sklearn.preprocessing import LabelEncoder\n",
    "\n",
    "le = LabelEncoder()"
   ]
  },
  {
   "cell_type": "code",
   "execution_count": 18,
   "id": "54b46e93",
   "metadata": {},
   "outputs": [],
   "source": [
    "ad.workclass = le.fit_transform(ad.workclass)\n",
    "ad.education = le.fit_transform(ad.education)\n",
    "ad.maritalstatus = le.fit_transform(ad.maritalstatus)\n",
    "ad.occupation = le.fit_transform(ad.occupation)\n",
    "ad.relationship = le.fit_transform(ad.relationship)\n",
    "ad.race = le.fit_transform(ad.race)\n",
    "ad.gender = le.fit_transform(ad.gender)\n",
    "ad.nativecountry = le.fit_transform(ad.nativecountry)\n",
    "ad.income = le.fit_transform(ad.income) # (<=50K : 0, >50K : 1)"
   ]
  },
  {
   "cell_type": "code",
   "execution_count": 19,
   "id": "630dddad",
   "metadata": {},
   "outputs": [
    {
     "data": {
      "text/plain": [
       "Index([], dtype='object')"
      ]
     },
     "execution_count": 19,
     "metadata": {},
     "output_type": "execute_result"
    }
   ],
   "source": [
    "ad.columns[ad.dtypes == 'object']"
   ]
  },
  {
   "cell_type": "code",
   "execution_count": 20,
   "id": "8767bf31",
   "metadata": {},
   "outputs": [
    {
     "name": "stdout",
     "output_type": "stream",
     "text": [
      "<class 'pandas.core.frame.DataFrame'>\n",
      "RangeIndex: 48842 entries, 0 to 48841\n",
      "Data columns (total 15 columns):\n",
      " #   Column          Non-Null Count  Dtype\n",
      "---  ------          --------------  -----\n",
      " 0   age             48842 non-null  int64\n",
      " 1   workclass       48842 non-null  int32\n",
      " 2   fnlwgt          48842 non-null  int64\n",
      " 3   education       48842 non-null  int32\n",
      " 4   educationalnum  48842 non-null  int64\n",
      " 5   maritalstatus   48842 non-null  int32\n",
      " 6   occupation      48842 non-null  int32\n",
      " 7   relationship    48842 non-null  int32\n",
      " 8   race            48842 non-null  int32\n",
      " 9   gender          48842 non-null  int32\n",
      " 10  capitalgain     48842 non-null  int64\n",
      " 11  capitalloss     48842 non-null  int64\n",
      " 12  hoursperweek    48842 non-null  int64\n",
      " 13  nativecountry   48842 non-null  int32\n",
      " 14  income          48842 non-null  int32\n",
      "dtypes: int32(9), int64(6)\n",
      "memory usage: 3.9 MB\n"
     ]
    }
   ],
   "source": [
    "ad.info()"
   ]
  },
  {
   "cell_type": "code",
   "execution_count": 21,
   "id": "19e656f1",
   "metadata": {},
   "outputs": [
    {
     "data": {
      "text/html": [
       "<div>\n",
       "<style scoped>\n",
       "    .dataframe tbody tr th:only-of-type {\n",
       "        vertical-align: middle;\n",
       "    }\n",
       "\n",
       "    .dataframe tbody tr th {\n",
       "        vertical-align: top;\n",
       "    }\n",
       "\n",
       "    .dataframe thead th {\n",
       "        text-align: right;\n",
       "    }\n",
       "</style>\n",
       "<table border=\"1\" class=\"dataframe\">\n",
       "  <thead>\n",
       "    <tr style=\"text-align: right;\">\n",
       "      <th></th>\n",
       "      <th>age</th>\n",
       "      <th>workclass</th>\n",
       "      <th>fnlwgt</th>\n",
       "      <th>education</th>\n",
       "      <th>educationalnum</th>\n",
       "      <th>maritalstatus</th>\n",
       "      <th>occupation</th>\n",
       "      <th>relationship</th>\n",
       "      <th>race</th>\n",
       "      <th>gender</th>\n",
       "      <th>capitalgain</th>\n",
       "      <th>capitalloss</th>\n",
       "      <th>hoursperweek</th>\n",
       "      <th>nativecountry</th>\n",
       "      <th>income</th>\n",
       "    </tr>\n",
       "  </thead>\n",
       "  <tbody>\n",
       "    <tr>\n",
       "      <th>0</th>\n",
       "      <td>25</td>\n",
       "      <td>3</td>\n",
       "      <td>226802</td>\n",
       "      <td>1</td>\n",
       "      <td>7</td>\n",
       "      <td>4</td>\n",
       "      <td>6</td>\n",
       "      <td>3</td>\n",
       "      <td>2</td>\n",
       "      <td>1</td>\n",
       "      <td>0</td>\n",
       "      <td>0</td>\n",
       "      <td>40</td>\n",
       "      <td>38</td>\n",
       "      <td>0</td>\n",
       "    </tr>\n",
       "    <tr>\n",
       "      <th>1</th>\n",
       "      <td>38</td>\n",
       "      <td>3</td>\n",
       "      <td>89814</td>\n",
       "      <td>11</td>\n",
       "      <td>9</td>\n",
       "      <td>2</td>\n",
       "      <td>4</td>\n",
       "      <td>0</td>\n",
       "      <td>4</td>\n",
       "      <td>1</td>\n",
       "      <td>0</td>\n",
       "      <td>0</td>\n",
       "      <td>50</td>\n",
       "      <td>38</td>\n",
       "      <td>0</td>\n",
       "    </tr>\n",
       "    <tr>\n",
       "      <th>2</th>\n",
       "      <td>28</td>\n",
       "      <td>1</td>\n",
       "      <td>336951</td>\n",
       "      <td>7</td>\n",
       "      <td>12</td>\n",
       "      <td>2</td>\n",
       "      <td>10</td>\n",
       "      <td>0</td>\n",
       "      <td>4</td>\n",
       "      <td>1</td>\n",
       "      <td>0</td>\n",
       "      <td>0</td>\n",
       "      <td>40</td>\n",
       "      <td>38</td>\n",
       "      <td>1</td>\n",
       "    </tr>\n",
       "    <tr>\n",
       "      <th>3</th>\n",
       "      <td>44</td>\n",
       "      <td>3</td>\n",
       "      <td>160323</td>\n",
       "      <td>15</td>\n",
       "      <td>10</td>\n",
       "      <td>2</td>\n",
       "      <td>6</td>\n",
       "      <td>0</td>\n",
       "      <td>2</td>\n",
       "      <td>1</td>\n",
       "      <td>7688</td>\n",
       "      <td>0</td>\n",
       "      <td>40</td>\n",
       "      <td>38</td>\n",
       "      <td>1</td>\n",
       "    </tr>\n",
       "    <tr>\n",
       "      <th>4</th>\n",
       "      <td>18</td>\n",
       "      <td>3</td>\n",
       "      <td>103497</td>\n",
       "      <td>15</td>\n",
       "      <td>10</td>\n",
       "      <td>4</td>\n",
       "      <td>7</td>\n",
       "      <td>3</td>\n",
       "      <td>4</td>\n",
       "      <td>0</td>\n",
       "      <td>0</td>\n",
       "      <td>0</td>\n",
       "      <td>30</td>\n",
       "      <td>38</td>\n",
       "      <td>0</td>\n",
       "    </tr>\n",
       "  </tbody>\n",
       "</table>\n",
       "</div>"
      ],
      "text/plain": [
       "   age  workclass  fnlwgt  education  educationalnum  maritalstatus  \\\n",
       "0   25          3  226802          1               7              4   \n",
       "1   38          3   89814         11               9              2   \n",
       "2   28          1  336951          7              12              2   \n",
       "3   44          3  160323         15              10              2   \n",
       "4   18          3  103497         15              10              4   \n",
       "\n",
       "   occupation  relationship  race  gender  capitalgain  capitalloss  \\\n",
       "0           6             3     2       1            0            0   \n",
       "1           4             0     4       1            0            0   \n",
       "2          10             0     4       1            0            0   \n",
       "3           6             0     2       1         7688            0   \n",
       "4           7             3     4       0            0            0   \n",
       "\n",
       "   hoursperweek  nativecountry  income  \n",
       "0            40             38       0  \n",
       "1            50             38       0  \n",
       "2            40             38       1  \n",
       "3            40             38       1  \n",
       "4            30             38       0  "
      ]
     },
     "execution_count": 21,
     "metadata": {},
     "output_type": "execute_result"
    }
   ],
   "source": [
    "ad.head()"
   ]
  },
  {
   "cell_type": "code",
   "execution_count": 30,
   "id": "e81c748b",
   "metadata": {},
   "outputs": [
    {
     "data": {
      "text/html": [
       "<div>\n",
       "<style scoped>\n",
       "    .dataframe tbody tr th:only-of-type {\n",
       "        vertical-align: middle;\n",
       "    }\n",
       "\n",
       "    .dataframe tbody tr th {\n",
       "        vertical-align: top;\n",
       "    }\n",
       "\n",
       "    .dataframe thead th {\n",
       "        text-align: right;\n",
       "    }\n",
       "</style>\n",
       "<table border=\"1\" class=\"dataframe\">\n",
       "  <thead>\n",
       "    <tr style=\"text-align: right;\">\n",
       "      <th></th>\n",
       "      <th>age</th>\n",
       "      <th>workclass</th>\n",
       "      <th>fnlwgt</th>\n",
       "      <th>education</th>\n",
       "      <th>educationalnum</th>\n",
       "      <th>maritalstatus</th>\n",
       "      <th>occupation</th>\n",
       "      <th>relationship</th>\n",
       "      <th>race</th>\n",
       "      <th>gender</th>\n",
       "      <th>capitalgain</th>\n",
       "      <th>capitalloss</th>\n",
       "      <th>hoursperweek</th>\n",
       "      <th>nativecountry</th>\n",
       "    </tr>\n",
       "  </thead>\n",
       "  <tbody>\n",
       "    <tr>\n",
       "      <th>32251</th>\n",
       "      <td>32</td>\n",
       "      <td>3</td>\n",
       "      <td>207668</td>\n",
       "      <td>11</td>\n",
       "      <td>9</td>\n",
       "      <td>2</td>\n",
       "      <td>2</td>\n",
       "      <td>0</td>\n",
       "      <td>4</td>\n",
       "      <td>1</td>\n",
       "      <td>0</td>\n",
       "      <td>0</td>\n",
       "      <td>50</td>\n",
       "      <td>38</td>\n",
       "    </tr>\n",
       "    <tr>\n",
       "      <th>47268</th>\n",
       "      <td>18</td>\n",
       "      <td>3</td>\n",
       "      <td>194561</td>\n",
       "      <td>15</td>\n",
       "      <td>10</td>\n",
       "      <td>4</td>\n",
       "      <td>7</td>\n",
       "      <td>3</td>\n",
       "      <td>4</td>\n",
       "      <td>1</td>\n",
       "      <td>0</td>\n",
       "      <td>0</td>\n",
       "      <td>37</td>\n",
       "      <td>38</td>\n",
       "    </tr>\n",
       "    <tr>\n",
       "      <th>1780</th>\n",
       "      <td>65</td>\n",
       "      <td>3</td>\n",
       "      <td>258973</td>\n",
       "      <td>15</td>\n",
       "      <td>10</td>\n",
       "      <td>6</td>\n",
       "      <td>7</td>\n",
       "      <td>1</td>\n",
       "      <td>4</td>\n",
       "      <td>0</td>\n",
       "      <td>401</td>\n",
       "      <td>0</td>\n",
       "      <td>14</td>\n",
       "      <td>38</td>\n",
       "    </tr>\n",
       "    <tr>\n",
       "      <th>21481</th>\n",
       "      <td>43</td>\n",
       "      <td>0</td>\n",
       "      <td>144778</td>\n",
       "      <td>9</td>\n",
       "      <td>13</td>\n",
       "      <td>4</td>\n",
       "      <td>3</td>\n",
       "      <td>1</td>\n",
       "      <td>4</td>\n",
       "      <td>1</td>\n",
       "      <td>0</td>\n",
       "      <td>0</td>\n",
       "      <td>40</td>\n",
       "      <td>38</td>\n",
       "    </tr>\n",
       "    <tr>\n",
       "      <th>31849</th>\n",
       "      <td>31</td>\n",
       "      <td>3</td>\n",
       "      <td>115488</td>\n",
       "      <td>11</td>\n",
       "      <td>9</td>\n",
       "      <td>2</td>\n",
       "      <td>4</td>\n",
       "      <td>0</td>\n",
       "      <td>4</td>\n",
       "      <td>1</td>\n",
       "      <td>0</td>\n",
       "      <td>0</td>\n",
       "      <td>40</td>\n",
       "      <td>38</td>\n",
       "    </tr>\n",
       "  </tbody>\n",
       "</table>\n",
       "</div>"
      ],
      "text/plain": [
       "       age  workclass  fnlwgt  education  educationalnum  maritalstatus  \\\n",
       "32251   32          3  207668         11               9              2   \n",
       "47268   18          3  194561         15              10              4   \n",
       "1780    65          3  258973         15              10              6   \n",
       "21481   43          0  144778          9              13              4   \n",
       "31849   31          3  115488         11               9              2   \n",
       "\n",
       "       occupation  relationship  race  gender  capitalgain  capitalloss  \\\n",
       "32251           2             0     4       1            0            0   \n",
       "47268           7             3     4       1            0            0   \n",
       "1780            7             1     4       0          401            0   \n",
       "21481           3             1     4       1            0            0   \n",
       "31849           4             0     4       1            0            0   \n",
       "\n",
       "       hoursperweek  nativecountry  \n",
       "32251            50             38  \n",
       "47268            37             38  \n",
       "1780             14             38  \n",
       "21481            40             38  \n",
       "31849            40             38  "
      ]
     },
     "execution_count": 30,
     "metadata": {},
     "output_type": "execute_result"
    }
   ],
   "source": [
    "# Model building for Logistic regression\n",
    "\n",
    "# https://towardsdatascience.com/building-a-logistic-regression-in-python-step-by-step-becd4d56c9c8\n",
    "\n",
    "from sklearn.model_selection import train_test_split\n",
    "\n",
    "ad_train, ad_test = train_test_split(ad, test_size = .2)\n",
    "\n",
    "ad_train_x = ad_train.iloc[ : , 0:-1] \n",
    "ad_train_y = ad_train.iloc[:, -1]\n",
    "\n",
    "ad_test_x = ad_test.iloc[ : , 0:-1] \n",
    "ad_test_y = ad_test.iloc[:, -1]\n",
    "\n",
    "ad_test_x.head()"
   ]
  },
  {
   "cell_type": "code",
   "execution_count": 24,
   "id": "63b69329",
   "metadata": {},
   "outputs": [],
   "source": [
    "from sklearn.linear_model import LogisticRegression\n",
    "\n",
    "logreg = LogisticRegression()"
   ]
  },
  {
   "cell_type": "code",
   "execution_count": 31,
   "id": "6143dade",
   "metadata": {},
   "outputs": [
    {
     "data": {
      "text/plain": [
       "LogisticRegression()"
      ]
     },
     "execution_count": 31,
     "metadata": {},
     "output_type": "execute_result"
    }
   ],
   "source": [
    "logreg.fit(ad_train_x, ad_train_y)"
   ]
  },
  {
   "cell_type": "code",
   "execution_count": 32,
   "id": "9a55b6b0",
   "metadata": {},
   "outputs": [
    {
     "name": "stdout",
     "output_type": "stream",
     "text": [
      "Accuracy of logistic regression classifier on test set: 0.79\n"
     ]
    }
   ],
   "source": [
    "ad_pred_y = logreg.predict(ad_test_x)\n",
    "print('Accuracy of logistic regression classifier on test set: {:.2f}'.format(logreg.score(ad_test_x, ad_test_y)))"
   ]
  },
  {
   "cell_type": "code",
   "execution_count": 33,
   "id": "5ee00ef2",
   "metadata": {},
   "outputs": [
    {
     "name": "stdout",
     "output_type": "stream",
     "text": [
      "[[7028  373]\n",
      " [1693  675]]\n"
     ]
    }
   ],
   "source": [
    "from sklearn.metrics import confusion_matrix\n",
    "\n",
    "confusion_matrix = confusion_matrix(ad_test_y, ad_pred_y)\n",
    "print(confusion_matrix)"
   ]
  },
  {
   "cell_type": "code",
   "execution_count": 35,
   "id": "b31bb63e",
   "metadata": {},
   "outputs": [
    {
     "name": "stdout",
     "output_type": "stream",
     "text": [
      "              precision    recall  f1-score   support\n",
      "\n",
      "           0       0.81      0.95      0.87      7401\n",
      "           1       0.64      0.29      0.40      2368\n",
      "\n",
      "    accuracy                           0.79      9769\n",
      "   macro avg       0.72      0.62      0.63      9769\n",
      "weighted avg       0.77      0.79      0.76      9769\n",
      "\n"
     ]
    }
   ],
   "source": [
    "from sklearn.metrics import classification_report\n",
    "\n",
    "print(classification_report(ad_test_y, ad_pred_y))"
   ]
  },
  {
   "cell_type": "code",
   "execution_count": null,
   "id": "e0b3fbd2",
   "metadata": {},
   "outputs": [],
   "source": [
    "from sklearn.metrics import roc_auc_score\n",
    "from sklearn.metrics import roc_curve\n",
    "\n",
    "logit_roc_auc = roc_auc_score(y_test, logreg.predict(X_test))\n",
    "fpr, tpr, thresholds = roc_curve(y_test, logreg.predict_proba(X_test)[:,1])\n",
    "\n",
    "plt.figure()\n",
    "plt.plot(fpr, tpr, label='Logistic Regression (area = %0.2f)' % logit_roc_auc)\n",
    "plt.plot([0, 1], [0, 1],'r--')\n",
    "plt.xlim([0.0, 1.0])\n",
    "plt.ylim([0.0, 1.05])\n",
    "plt.xlabel('False Positive Rate')\n",
    "plt.ylabel('True Positive Rate')\n",
    "plt.title('Receiver operating characteristic')\n",
    "plt.legend(loc=\"lower right\")\n",
    "plt.savefig('Log_ROC')\n",
    "plt.show()"
   ]
  },
  {
   "cell_type": "code",
   "execution_count": null,
   "id": "48cfaa30",
   "metadata": {},
   "outputs": [],
   "source": []
  },
  {
   "cell_type": "code",
   "execution_count": null,
   "id": "78a6d7b6",
   "metadata": {},
   "outputs": [],
   "source": []
  },
  {
   "cell_type": "code",
   "execution_count": null,
   "id": "fe26548f",
   "metadata": {},
   "outputs": [],
   "source": []
  },
  {
   "cell_type": "code",
   "execution_count": null,
   "id": "2b6df59f",
   "metadata": {},
   "outputs": [],
   "source": []
  },
  {
   "cell_type": "code",
   "execution_count": null,
   "id": "12f618da",
   "metadata": {},
   "outputs": [],
   "source": []
  }
 ],
 "metadata": {
  "kernelspec": {
   "display_name": "Python 3",
   "language": "python",
   "name": "python3"
  },
  "language_info": {
   "codemirror_mode": {
    "name": "ipython",
    "version": 3
   },
   "file_extension": ".py",
   "mimetype": "text/x-python",
   "name": "python",
   "nbconvert_exporter": "python",
   "pygments_lexer": "ipython3",
   "version": "3.8.8"
  }
 },
 "nbformat": 4,
 "nbformat_minor": 5
}
