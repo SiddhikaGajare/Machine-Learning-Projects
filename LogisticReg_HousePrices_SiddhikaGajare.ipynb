{
 "cells": [
  {
   "cell_type": "code",
   "execution_count": 1,
   "id": "01a977ed",
   "metadata": {},
   "outputs": [
    {
     "data": {
      "text/html": [
       "<div>\n",
       "<style scoped>\n",
       "    .dataframe tbody tr th:only-of-type {\n",
       "        vertical-align: middle;\n",
       "    }\n",
       "\n",
       "    .dataframe tbody tr th {\n",
       "        vertical-align: top;\n",
       "    }\n",
       "\n",
       "    .dataframe thead th {\n",
       "        text-align: right;\n",
       "    }\n",
       "</style>\n",
       "<table border=\"1\" class=\"dataframe\">\n",
       "  <thead>\n",
       "    <tr style=\"text-align: right;\">\n",
       "      <th></th>\n",
       "      <th>Id</th>\n",
       "      <th>Dwell_Type</th>\n",
       "      <th>Zone_Class</th>\n",
       "      <th>LotFrontage</th>\n",
       "      <th>LotArea</th>\n",
       "      <th>Road_Type</th>\n",
       "      <th>Alley</th>\n",
       "      <th>Property_Shape</th>\n",
       "      <th>LandContour</th>\n",
       "      <th>Utilities</th>\n",
       "      <th>...</th>\n",
       "      <th>PoolArea</th>\n",
       "      <th>PoolQC</th>\n",
       "      <th>Fence</th>\n",
       "      <th>MiscFeature</th>\n",
       "      <th>MiscVal</th>\n",
       "      <th>MoSold</th>\n",
       "      <th>YrSold</th>\n",
       "      <th>SaleType</th>\n",
       "      <th>SaleCondition</th>\n",
       "      <th>Property_Sale_Price</th>\n",
       "    </tr>\n",
       "  </thead>\n",
       "  <tbody>\n",
       "    <tr>\n",
       "      <th>0</th>\n",
       "      <td>1</td>\n",
       "      <td>60</td>\n",
       "      <td>RL</td>\n",
       "      <td>65.0</td>\n",
       "      <td>8450</td>\n",
       "      <td>Pave</td>\n",
       "      <td>NaN</td>\n",
       "      <td>Reg</td>\n",
       "      <td>Lvl</td>\n",
       "      <td>AllPub</td>\n",
       "      <td>...</td>\n",
       "      <td>0</td>\n",
       "      <td>NaN</td>\n",
       "      <td>NaN</td>\n",
       "      <td>NaN</td>\n",
       "      <td>0</td>\n",
       "      <td>2</td>\n",
       "      <td>2008</td>\n",
       "      <td>WD</td>\n",
       "      <td>Normal</td>\n",
       "      <td>208500</td>\n",
       "    </tr>\n",
       "    <tr>\n",
       "      <th>1</th>\n",
       "      <td>2</td>\n",
       "      <td>20</td>\n",
       "      <td>RL</td>\n",
       "      <td>80.0</td>\n",
       "      <td>9600</td>\n",
       "      <td>Pave</td>\n",
       "      <td>NaN</td>\n",
       "      <td>Reg</td>\n",
       "      <td>Lvl</td>\n",
       "      <td>AllPub</td>\n",
       "      <td>...</td>\n",
       "      <td>0</td>\n",
       "      <td>NaN</td>\n",
       "      <td>NaN</td>\n",
       "      <td>NaN</td>\n",
       "      <td>0</td>\n",
       "      <td>5</td>\n",
       "      <td>2007</td>\n",
       "      <td>WD</td>\n",
       "      <td>Normal</td>\n",
       "      <td>181500</td>\n",
       "    </tr>\n",
       "    <tr>\n",
       "      <th>2</th>\n",
       "      <td>3</td>\n",
       "      <td>60</td>\n",
       "      <td>RL</td>\n",
       "      <td>68.0</td>\n",
       "      <td>11250</td>\n",
       "      <td>Pave</td>\n",
       "      <td>NaN</td>\n",
       "      <td>IR1</td>\n",
       "      <td>Lvl</td>\n",
       "      <td>AllPub</td>\n",
       "      <td>...</td>\n",
       "      <td>0</td>\n",
       "      <td>NaN</td>\n",
       "      <td>NaN</td>\n",
       "      <td>NaN</td>\n",
       "      <td>0</td>\n",
       "      <td>9</td>\n",
       "      <td>2008</td>\n",
       "      <td>WD</td>\n",
       "      <td>Normal</td>\n",
       "      <td>223500</td>\n",
       "    </tr>\n",
       "    <tr>\n",
       "      <th>3</th>\n",
       "      <td>4</td>\n",
       "      <td>70</td>\n",
       "      <td>RL</td>\n",
       "      <td>60.0</td>\n",
       "      <td>9550</td>\n",
       "      <td>Pave</td>\n",
       "      <td>NaN</td>\n",
       "      <td>IR1</td>\n",
       "      <td>Lvl</td>\n",
       "      <td>AllPub</td>\n",
       "      <td>...</td>\n",
       "      <td>0</td>\n",
       "      <td>NaN</td>\n",
       "      <td>NaN</td>\n",
       "      <td>NaN</td>\n",
       "      <td>0</td>\n",
       "      <td>2</td>\n",
       "      <td>2006</td>\n",
       "      <td>WD</td>\n",
       "      <td>Abnorml</td>\n",
       "      <td>140000</td>\n",
       "    </tr>\n",
       "    <tr>\n",
       "      <th>4</th>\n",
       "      <td>5</td>\n",
       "      <td>60</td>\n",
       "      <td>RL</td>\n",
       "      <td>84.0</td>\n",
       "      <td>14260</td>\n",
       "      <td>Pave</td>\n",
       "      <td>NaN</td>\n",
       "      <td>IR1</td>\n",
       "      <td>Lvl</td>\n",
       "      <td>AllPub</td>\n",
       "      <td>...</td>\n",
       "      <td>0</td>\n",
       "      <td>NaN</td>\n",
       "      <td>NaN</td>\n",
       "      <td>NaN</td>\n",
       "      <td>0</td>\n",
       "      <td>12</td>\n",
       "      <td>2008</td>\n",
       "      <td>WD</td>\n",
       "      <td>Normal</td>\n",
       "      <td>250000</td>\n",
       "    </tr>\n",
       "  </tbody>\n",
       "</table>\n",
       "<p>5 rows × 81 columns</p>\n",
       "</div>"
      ],
      "text/plain": [
       "   Id  Dwell_Type Zone_Class  LotFrontage  LotArea Road_Type Alley  \\\n",
       "0   1          60         RL         65.0     8450      Pave   NaN   \n",
       "1   2          20         RL         80.0     9600      Pave   NaN   \n",
       "2   3          60         RL         68.0    11250      Pave   NaN   \n",
       "3   4          70         RL         60.0     9550      Pave   NaN   \n",
       "4   5          60         RL         84.0    14260      Pave   NaN   \n",
       "\n",
       "  Property_Shape LandContour Utilities  ... PoolArea PoolQC Fence MiscFeature  \\\n",
       "0            Reg         Lvl    AllPub  ...        0    NaN   NaN         NaN   \n",
       "1            Reg         Lvl    AllPub  ...        0    NaN   NaN         NaN   \n",
       "2            IR1         Lvl    AllPub  ...        0    NaN   NaN         NaN   \n",
       "3            IR1         Lvl    AllPub  ...        0    NaN   NaN         NaN   \n",
       "4            IR1         Lvl    AllPub  ...        0    NaN   NaN         NaN   \n",
       "\n",
       "  MiscVal MoSold YrSold  SaleType  SaleCondition  Property_Sale_Price  \n",
       "0       0      2   2008        WD         Normal               208500  \n",
       "1       0      5   2007        WD         Normal               181500  \n",
       "2       0      9   2008        WD         Normal               223500  \n",
       "3       0      2   2006        WD        Abnorml               140000  \n",
       "4       0     12   2008        WD         Normal               250000  \n",
       "\n",
       "[5 rows x 81 columns]"
      ]
     },
     "execution_count": 1,
     "metadata": {},
     "output_type": "execute_result"
    }
   ],
   "source": [
    "import pandas as pd\n",
    "\n",
    "pr = pd.read_csv('HousePrices.csv')\n",
    "\n",
    "pr.head()"
   ]
  },
  {
   "cell_type": "code",
   "execution_count": 2,
   "id": "16d7df96",
   "metadata": {},
   "outputs": [],
   "source": [
    "pd.options.display.max_rows = None"
   ]
  },
  {
   "cell_type": "code",
   "execution_count": 3,
   "id": "0d0051e6",
   "metadata": {},
   "outputs": [
    {
     "data": {
      "text/plain": [
       "(2073, 81)"
      ]
     },
     "execution_count": 3,
     "metadata": {},
     "output_type": "execute_result"
    }
   ],
   "source": [
    "pr.shape"
   ]
  },
  {
   "cell_type": "code",
   "execution_count": 4,
   "id": "1a23b6be",
   "metadata": {},
   "outputs": [
    {
     "data": {
      "text/plain": [
       "Index(['Id', 'Dwell_Type', 'Zone_Class', 'LotFrontage', 'LotArea', 'Road_Type',\n",
       "       'Alley', 'Property_Shape', 'LandContour', 'Utilities', 'LotConfig',\n",
       "       'LandSlope', 'Neighborhood', 'Condition1', 'Condition2',\n",
       "       'Dwelling_Type', 'HouseStyle', 'OverallQual', 'OverallCond',\n",
       "       'YearBuilt', 'YearRemodAdd', 'RoofStyle', 'RoofMatl', 'Exterior1st',\n",
       "       'Exterior2nd', 'MasVnrType', 'MasVnrArea', 'ExterQual', 'ExterCond',\n",
       "       'Foundation', 'BsmtQual', 'BsmtCond', 'BsmtExposure', 'BsmtFinType1',\n",
       "       'BsmtFinSF1', 'BsmtFinType2', 'BsmtFinSF2', 'BsmtUnfSF', 'TotalBsmtSF',\n",
       "       'Heating', 'HeatingQC', 'CentralAir', 'Electrical', '1stFlrSF',\n",
       "       '2ndFlrSF', 'LowQualFinSF', 'GrLivArea', 'BsmtFullBath', 'BsmtHalfBath',\n",
       "       'FullBath', 'HalfBath', 'BedroomAbvGr', 'KitchenAbvGr', 'KitchenQual',\n",
       "       'TotRmsAbvGrd', 'Functional', 'Fireplaces', 'FireplaceQu', 'GarageType',\n",
       "       'GarageYrBlt', 'GarageFinish', 'GarageCars', 'GarageArea', 'GarageQual',\n",
       "       'GarageCond', 'PavedDrive', 'WoodDeckSF', 'OpenPorchSF',\n",
       "       'EnclosedPorch', '3SsnPorch', 'ScreenPorch', 'PoolArea', 'PoolQC',\n",
       "       'Fence', 'MiscFeature', 'MiscVal', 'MoSold', 'YrSold', 'SaleType',\n",
       "       'SaleCondition', 'Property_Sale_Price'],\n",
       "      dtype='object')"
      ]
     },
     "execution_count": 4,
     "metadata": {},
     "output_type": "execute_result"
    }
   ],
   "source": [
    "pr.columns"
   ]
  },
  {
   "cell_type": "code",
   "execution_count": 5,
   "id": "6ef2c6ad",
   "metadata": {},
   "outputs": [
    {
     "data": {
      "text/plain": [
       "43"
      ]
     },
     "execution_count": 5,
     "metadata": {},
     "output_type": "execute_result"
    }
   ],
   "source": [
    "len(pr.columns[pr.dtypes == 'object'])"
   ]
  },
  {
   "cell_type": "code",
   "execution_count": 6,
   "id": "08366f1e",
   "metadata": {},
   "outputs": [
    {
     "data": {
      "text/plain": [
       "Index(['Zone_Class', 'Road_Type', 'Alley', 'Property_Shape', 'LandContour',\n",
       "       'Utilities', 'LotConfig', 'LandSlope', 'Neighborhood', 'Condition1',\n",
       "       'Condition2', 'Dwelling_Type', 'HouseStyle', 'RoofStyle', 'RoofMatl',\n",
       "       'Exterior1st', 'Exterior2nd', 'MasVnrType', 'ExterQual', 'ExterCond',\n",
       "       'Foundation', 'BsmtQual', 'BsmtCond', 'BsmtExposure', 'BsmtFinType1',\n",
       "       'BsmtFinType2', 'Heating', 'HeatingQC', 'CentralAir', 'Electrical',\n",
       "       'KitchenQual', 'Functional', 'FireplaceQu', 'GarageType',\n",
       "       'GarageFinish', 'GarageQual', 'GarageCond', 'PavedDrive', 'PoolQC',\n",
       "       'Fence', 'MiscFeature', 'SaleType', 'SaleCondition'],\n",
       "      dtype='object')"
      ]
     },
     "execution_count": 6,
     "metadata": {},
     "output_type": "execute_result"
    }
   ],
   "source": [
    "pr.columns[pr.dtypes == 'object']"
   ]
  },
  {
   "cell_type": "code",
   "execution_count": 7,
   "id": "1e64036b",
   "metadata": {},
   "outputs": [
    {
     "data": {
      "text/plain": [
       "Index(['LotFrontage', 'Alley', 'MasVnrType', 'MasVnrArea', 'BsmtQual',\n",
       "       'BsmtCond', 'BsmtExposure', 'BsmtFinType1', 'BsmtFinType2',\n",
       "       'Electrical', 'FireplaceQu', 'GarageType', 'GarageYrBlt',\n",
       "       'GarageFinish', 'GarageQual', 'GarageCond', 'PoolQC', 'Fence',\n",
       "       'MiscFeature'],\n",
       "      dtype='object')"
      ]
     },
     "execution_count": 7,
     "metadata": {},
     "output_type": "execute_result"
    }
   ],
   "source": [
    "pr.columns[((pr.isnull().sum()/pr.shape[0])*100).round(2)>0]"
   ]
  },
  {
   "cell_type": "code",
   "execution_count": 8,
   "id": "227fc03f",
   "metadata": {},
   "outputs": [
    {
     "data": {
      "text/plain": [
       "Id                      0.000000\n",
       "Dwell_Type              0.000000\n",
       "Zone_Class              0.000000\n",
       "LotFrontage            15.436565\n",
       "LotArea                 0.000000\n",
       "Road_Type               0.000000\n",
       "Alley                  93.777135\n",
       "Property_Shape          0.000000\n",
       "LandContour             0.000000\n",
       "Utilities               0.000000\n",
       "LotConfig               0.000000\n",
       "LandSlope               0.000000\n",
       "Neighborhood            0.000000\n",
       "Condition1              0.000000\n",
       "Condition2              0.000000\n",
       "Dwelling_Type           0.000000\n",
       "HouseStyle              0.000000\n",
       "OverallQual             0.000000\n",
       "OverallCond             0.000000\n",
       "YearBuilt               0.000000\n",
       "YearRemodAdd            0.000000\n",
       "RoofStyle               0.000000\n",
       "RoofMatl                0.000000\n",
       "Exterior1st             0.000000\n",
       "Exterior2nd             0.000000\n",
       "MasVnrType              0.675350\n",
       "MasVnrArea              0.675350\n",
       "ExterQual               0.000000\n",
       "ExterCond               0.000000\n",
       "Foundation              0.000000\n",
       "BsmtQual                2.846117\n",
       "BsmtCond                2.846117\n",
       "BsmtExposure            2.942595\n",
       "BsmtFinType1            2.846117\n",
       "BsmtFinSF1              0.000000\n",
       "BsmtFinType2            2.894356\n",
       "BsmtFinSF2              0.000000\n",
       "BsmtUnfSF               0.000000\n",
       "TotalBsmtSF             0.000000\n",
       "Heating                 0.000000\n",
       "HeatingQC               0.000000\n",
       "CentralAir              0.000000\n",
       "Electrical              0.048239\n",
       "1stFlrSF                0.000000\n",
       "2ndFlrSF                0.000000\n",
       "LowQualFinSF            0.000000\n",
       "GrLivArea               0.000000\n",
       "BsmtFullBath            0.000000\n",
       "BsmtHalfBath            0.000000\n",
       "FullBath                0.000000\n",
       "HalfBath                0.000000\n",
       "BedroomAbvGr            0.000000\n",
       "KitchenAbvGr            0.000000\n",
       "KitchenQual             0.000000\n",
       "TotRmsAbvGrd            0.000000\n",
       "Functional              0.000000\n",
       "Fireplaces              0.000000\n",
       "FireplaceQu            47.660396\n",
       "GarageType              5.451037\n",
       "GarageYrBlt             5.451037\n",
       "GarageFinish            5.451037\n",
       "GarageCars              0.000000\n",
       "GarageArea              0.000000\n",
       "GarageQual              5.451037\n",
       "GarageCond              5.451037\n",
       "PavedDrive              0.000000\n",
       "WoodDeckSF              0.000000\n",
       "OpenPorchSF             0.000000\n",
       "EnclosedPorch           0.000000\n",
       "3SsnPorch               0.000000\n",
       "ScreenPorch             0.000000\n",
       "PoolArea                0.000000\n",
       "PoolQC                 99.614086\n",
       "Fence                  80.511336\n",
       "MiscFeature            96.140859\n",
       "MiscVal                 0.000000\n",
       "MoSold                  0.000000\n",
       "YrSold                  0.000000\n",
       "SaleType                0.000000\n",
       "SaleCondition           0.000000\n",
       "Property_Sale_Price     0.000000\n",
       "dtype: float64"
      ]
     },
     "execution_count": 8,
     "metadata": {},
     "output_type": "execute_result"
    }
   ],
   "source": [
    "pr.isnull().sum()/pr.shape[0]*100"
   ]
  },
  {
   "cell_type": "code",
   "execution_count": 9,
   "id": "d96996cc",
   "metadata": {},
   "outputs": [
    {
     "data": {
      "text/plain": [
       "(2073, 75)"
      ]
     },
     "execution_count": 9,
     "metadata": {},
     "output_type": "execute_result"
    }
   ],
   "source": [
    "# We drop Column Id since it is an unique identifier\n",
    "\n",
    "pr = pr.drop(['FireplaceQu', 'PoolQC', 'Fence',\n",
    "       'MiscFeature', 'Id', 'Alley'], axis = 1)\n",
    "pr.shape"
   ]
  },
  {
   "cell_type": "code",
   "execution_count": 10,
   "id": "91a85d86",
   "metadata": {},
   "outputs": [],
   "source": [
    "\n",
    "pr.LotFrontage.fillna(pr.LotFrontage.mean(), inplace = True)\n",
    "pr.MasVnrType.fillna('None', inplace = True)\n",
    "pr.MasVnrArea.fillna(pr.MasVnrArea.mean(), inplace = True)\n",
    "pr.BsmtQual.fillna('TA', inplace = True)\n",
    "pr.BsmtCond.fillna('TA', inplace = True)\n",
    "pr.BsmtExposure.fillna('No', inplace = True)\n",
    "pr.BsmtFinType1.fillna('Unf', inplace = True)\n",
    "pr.BsmtFinType2.fillna('Unf', inplace = True)\n",
    "pr.Electrical.fillna('S8rkr', inplace = True)\n",
    "pr.GarageType.fillna('Attchd', inplace = True)\n",
    "pr.GarageYrBlt.fillna(pr.GarageYrBlt.mean(), inplace = True)\n",
    "pr.GarageFinish.fillna('Unf', inplace = True)\n",
    "pr.GarageQual.fillna('TA', inplace = True)\n",
    "pr.GarageCond.fillna('TA', inplace = True)"
   ]
  },
  {
   "cell_type": "code",
   "execution_count": 11,
   "id": "0263fa93",
   "metadata": {},
   "outputs": [
    {
     "data": {
      "text/plain": [
       "['YearBuilt', 'YearRemodAdd', 'GarageYrBlt', 'YrSold']"
      ]
     },
     "execution_count": 11,
     "metadata": {},
     "output_type": "execute_result"
    }
   ],
   "source": [
    "Year_features = [feature for feature in pr.columns if  'Yr' in feature or 'Year'in feature]\n",
    "Year_features"
   ]
  },
  {
   "cell_type": "code",
   "execution_count": 12,
   "id": "2a5b9711",
   "metadata": {},
   "outputs": [
    {
     "name": "stdout",
     "output_type": "stream",
     "text": [
      "Feature  :  YearBuilt 117\n",
      "Feature  :  YearRemodAdd 72\n",
      "Feature  :  GarageYrBlt 103\n",
      "Feature  :  YrSold 5\n"
     ]
    }
   ],
   "source": [
    "# The year entity has to be handeled sepearately as a unique attribute instaed as values/numbers \n",
    "for vals in Year_features :\n",
    "    print('Feature  : ', vals,len(pr[vals].unique()))"
   ]
  },
  {
   "cell_type": "code",
   "execution_count": 13,
   "id": "fb258ec2",
   "metadata": {
    "scrolled": true
   },
   "outputs": [
    {
     "name": "stdout",
     "output_type": "stream",
     "text": [
      "Feature  :  YearBuilt [2003 1976 2001 1915 2000 1993 2004 1973 1931 1939 1965 2005 1962 2006\n",
      " 1960 1929 1970 1967 1958 1930 2002 1968 2007 1951 1957 1927 1920 1966\n",
      " 1959 1994 1954 1953 1955 1983 1975 1997 1934 1963 1981 1964 1999 1972\n",
      " 1921 1945 1982 1998 1956 1948 1910 1995 1991 2009 1950 1961 1977 1985\n",
      " 1979 1885 1919 1990 1969 1935 1988 1971 1952 1936 1923 1924 1984 1926\n",
      " 1940 1941 1987 1986 2008 1908 1892 1916 1932 1918 1912 1947 1925 1900\n",
      " 1980 1989 1992 1949 1880 1928 1978 1922 1996 2010 1946 1913 1937 1942\n",
      " 1938 1974 1893 1914 1906 1890 1898 1904 1882 1875 1911 1917 1872 1905\n",
      " 1902 1943 1944 1909 1903]\n",
      "Min :  1872 25%: 1922.0 50%: 1952.0 75%: 1981.0 Max: 2010 \n",
      "\n",
      "Feature  :  YearRemodAdd [2003 1976 2002 1970 2000 1995 2005 1973 1950 1965 2006 1962 2007 1960\n",
      " 2001 1967 2004 2008 1997 1959 1990 1955 1983 1980 1966 1963 1987 1964\n",
      " 1972 1996 1998 1989 1953 1956 1968 1981 1992 2009 1982 1961 1993 1999\n",
      " 1985 1979 1977 1969 1958 1991 1971 1952 1975 2010 1984 1986 1994 1988\n",
      " 1954 1957 1951 1978 1974 2017 2011 2014 2016 2020 2012 2018 2015 2023\n",
      " 2022 2019]\n",
      "Min :  1950 25%: 1967.75 50%: 1985.5 75%: 2003.25 Max: 2023 \n",
      "\n",
      "Feature  :  GarageYrBlt [2003.         1976.         2001.         1998.         2000.\n",
      " 1993.         2004.         1973.         1931.         1939.\n",
      " 1965.         2005.         1962.         2006.         1960.\n",
      " 1991.         1970.         1967.         1958.         1930.\n",
      " 2002.         1968.         2007.         2008.         1957.\n",
      " 1927.         1920.         1966.         1959.         1995.\n",
      " 1954.         1953.         1980.41836735 1983.         1977.\n",
      " 1997.         1985.         1963.         1981.         1964.\n",
      " 1999.         1935.         1990.         1945.         1987.\n",
      " 1989.         1915.         1956.         1948.         1974.\n",
      " 2009.         1950.         1961.         1921.         1910.\n",
      " 1979.         1951.         1969.         1936.         1975.\n",
      " 1971.         1923.         1984.         1926.         1955.\n",
      " 1986.         1988.         1916.         1932.         1972.\n",
      " 1918.         1980.         1924.         1996.         1940.\n",
      " 1949.         1994.         1978.         1982.         1992.\n",
      " 1925.         1941.         2010.         1947.         1937.\n",
      " 1942.         1938.         1952.         1928.         1922.\n",
      " 1934.         1906.         1914.         1946.         1908.\n",
      " 1929.         1933.         2014.         2017.         2016.\n",
      " 2013.         2019.         2015.        ]\n",
      "Min :  1906.0 25%: 1938.5 50%: 1966.0 75%: 1990.5 Max: 2019.0 \n",
      "\n",
      "Feature  :  YrSold [2008 2007 2006 2009 2010]\n",
      "Min :  2006 25%: 2007.0 50%: 2008.0 75%: 2009.0 Max: 2010 \n",
      "\n"
     ]
    }
   ],
   "source": [
    "import numpy as np\n",
    "\n",
    "for vals in Year_features :\n",
    "    print('Feature  : ', vals,pr[vals].unique())\n",
    "    print('Min : ',min(pr[vals].unique()), '25%:',np.quantile(pr[vals].unique(),0.25),\n",
    "          '50%:',np.quantile(pr[vals].unique(),0.5),'75%:',np.quantile(pr[vals].unique(),0.75),'Max:',max(pr[vals].unique()),'\\n')"
   ]
  },
  {
   "cell_type": "code",
   "execution_count": 14,
   "id": "2ad0f2f0",
   "metadata": {},
   "outputs": [
    {
     "data": {
      "text/plain": [
       "5    800\n",
       "4    712\n",
       "3    366\n",
       "2    194\n",
       "1      1\n",
       "Name: YearBuilt, dtype: int64"
      ]
     },
     "execution_count": 14,
     "metadata": {},
     "output_type": "execute_result"
    }
   ],
   "source": [
    "# Categorize the YearBuilt column\n",
    "pr.loc[pr['YearBuilt'] <= 1872, 'YearBuilt'] = 1\n",
    "pr.loc[(pr['YearBuilt'] > 1872) & (pr['YearBuilt'] <= 1922), 'YearBuilt'] = 2\n",
    "pr.loc[(pr['YearBuilt'] > 1922) & (pr['YearBuilt'] <= 1952), 'YearBuilt'] = 3\n",
    "pr.loc[(pr['YearBuilt'] > 1952) & (pr['YearBuilt'] <= 1981), 'YearBuilt'] = 4\n",
    "pr.loc[pr['YearBuilt'] > 1981, 'YearBuilt'] = 5\n",
    "\n",
    "pr.YearBuilt.value_counts()"
   ]
  },
  {
   "cell_type": "code",
   "execution_count": 15,
   "id": "dc0868a8",
   "metadata": {},
   "outputs": [
    {
     "data": {
      "text/plain": [
       "4    659\n",
       "5    584\n",
       "3    354\n",
       "2    253\n",
       "1    223\n",
       "Name: YearRemodAdd, dtype: int64"
      ]
     },
     "execution_count": 15,
     "metadata": {},
     "output_type": "execute_result"
    }
   ],
   "source": [
    "# Categorize the YearRemodAdd column\n",
    "\n",
    "# Min :  1950 25%: 1967.75 50%: 1985.5 75%: 2003.25 Max: 2023\n",
    "\n",
    "pr.loc[pr['YearRemodAdd'] <= 1950, 'YearRemodAdd'] = 1\n",
    "pr.loc[(pr['YearRemodAdd'] > 1950) & (pr['YearRemodAdd'] <= 1967), 'YearRemodAdd'] = 2\n",
    "pr.loc[(pr['YearRemodAdd'] > 1967) & (pr['YearRemodAdd'] <= 1985), 'YearRemodAdd'] = 3\n",
    "pr.loc[(pr['YearRemodAdd'] > 1985) & (pr['YearRemodAdd'] <= 2003), 'YearRemodAdd'] = 4\n",
    "pr.loc[pr['YearRemodAdd'] > 2003, 'YearRemodAdd'] = 5\n",
    "\n",
    "pr.YearRemodAdd.value_counts()"
   ]
  },
  {
   "cell_type": "code",
   "execution_count": 16,
   "id": "5e9648bd",
   "metadata": {},
   "outputs": [
    {
     "data": {
      "text/plain": [
       "5.0    1009\n",
       "4.0     814\n",
       "3.0     206\n",
       "2.0      43\n",
       "1.0       1\n",
       "Name: GarageYrBlt, dtype: int64"
      ]
     },
     "execution_count": 16,
     "metadata": {},
     "output_type": "execute_result"
    }
   ],
   "source": [
    "# Categorize the GarageYrBlt column\n",
    "\n",
    "# Min :  1906.0 25%: nan 50%: nan 75%: nan Max: 2019.0\n",
    "\n",
    "pr.loc[pr['GarageYrBlt'] <= 1906, 'GarageYrBlt'] = 1\n",
    "pr.loc[(pr['GarageYrBlt'] > 1906) & (pr['GarageYrBlt'] <= 1922), 'GarageYrBlt'] = 2\n",
    "pr.loc[(pr['GarageYrBlt'] > 1922) & (pr['GarageYrBlt'] <= 1952), 'GarageYrBlt'] = 3\n",
    "pr.loc[(pr['GarageYrBlt'] > 1952) & (pr['GarageYrBlt'] <= 1981), 'GarageYrBlt'] = 4\n",
    "pr.loc[pr['GarageYrBlt'] > 1981, 'GarageYrBlt'] = 5\n",
    "\n",
    "pr.GarageYrBlt.value_counts()"
   ]
  },
  {
   "cell_type": "code",
   "execution_count": 17,
   "id": "65816848",
   "metadata": {},
   "outputs": [],
   "source": [
    "from sklearn.preprocessing import LabelEncoder\n",
    "\n",
    "le = LabelEncoder()\n",
    "\n",
    "pr[pr.select_dtypes(include = ['object']).columns] = pr[pr.select_dtypes(include = ['object']).columns].apply(le.fit_transform)"
   ]
  },
  {
   "cell_type": "code",
   "execution_count": 18,
   "id": "3c899601",
   "metadata": {},
   "outputs": [
    {
     "data": {
      "text/plain": [
       "array([], shape=(0, 75), dtype=object)"
      ]
     },
     "execution_count": 18,
     "metadata": {},
     "output_type": "execute_result"
    }
   ],
   "source": [
    "# We'll make sure none of our columns have Object Datatype\n",
    "\n",
    "pr.columns[pr.columns.dtype != 'object']"
   ]
  },
  {
   "cell_type": "code",
   "execution_count": 19,
   "id": "0a0b2538",
   "metadata": {},
   "outputs": [
    {
     "data": {
      "text/plain": [
       "163990.0"
      ]
     },
     "execution_count": 19,
     "metadata": {},
     "output_type": "execute_result"
    }
   ],
   "source": [
    "# Lets analyse our Target variable\n",
    "\n",
    "pr.Property_Sale_Price.describe().round(3)\n",
    "np.median(pr.Property_Sale_Price).round(3)"
   ]
  },
  {
   "cell_type": "code",
   "execution_count": 20,
   "id": "935de228",
   "metadata": {},
   "outputs": [
    {
     "data": {
      "text/plain": [
       "1    1037\n",
       "0    1036\n",
       "Name: Property_Sale_Price, dtype: int64"
      ]
     },
     "execution_count": 20,
     "metadata": {},
     "output_type": "execute_result"
    }
   ],
   "source": [
    "# Since we need to perform Logistic Regression over this Dataset we will categorize our Target Variable to \n",
    "# High n Low based on 50% or Median of Property_sale_PRice Column \n",
    "\n",
    "\n",
    "pr.loc[pr['Property_Sale_Price'] <= 163989, 'Property_Sale_Price'] = 0 # Low Price\n",
    "pr.loc[(pr['Property_Sale_Price'] > 163989) & (pr['Property_Sale_Price'] >= 163990), 'Property_Sale_Price'] = 1 # High Price\n",
    "\n",
    "pr.Property_Sale_Price.value_counts()"
   ]
  },
  {
   "cell_type": "code",
   "execution_count": 21,
   "id": "1b04f2d4",
   "metadata": {},
   "outputs": [],
   "source": [
    "from sklearn.model_selection import train_test_split\n",
    "\n",
    "pr_train, pr_test = train_test_split(pr, test_size =.2)\n",
    "\n",
    "pr_train_x = pr_train.iloc[ : , 0:-1]\n",
    "pr_train_y = pr_train.iloc[ : , -1]\n",
    "\n",
    "pr_test_x = pr_test.iloc[ : , 0:-1]\n",
    "pr_test_y = pr_test.iloc[ : , -1]"
   ]
  },
  {
   "cell_type": "code",
   "execution_count": 22,
   "id": "90d2f365",
   "metadata": {},
   "outputs": [
    {
     "name": "stderr",
     "output_type": "stream",
     "text": [
      "C:\\Users\\siddhikag\\Anaconda3\\lib\\site-packages\\sklearn\\linear_model\\_logistic.py:763: ConvergenceWarning: lbfgs failed to converge (status=1):\n",
      "STOP: TOTAL NO. of ITERATIONS REACHED LIMIT.\n",
      "\n",
      "Increase the number of iterations (max_iter) or scale the data as shown in:\n",
      "    https://scikit-learn.org/stable/modules/preprocessing.html\n",
      "Please also refer to the documentation for alternative solver options:\n",
      "    https://scikit-learn.org/stable/modules/linear_model.html#logistic-regression\n",
      "  n_iter_i = _check_optimize_result(\n"
     ]
    },
    {
     "data": {
      "text/plain": [
       "LogisticRegression()"
      ]
     },
     "execution_count": 22,
     "metadata": {},
     "output_type": "execute_result"
    }
   ],
   "source": [
    "from sklearn.linear_model import LogisticRegression\n",
    "\n",
    "prl = LogisticRegression()\n",
    "\n",
    "prl.fit(pr_train_x, pr_train_y)"
   ]
  },
  {
   "cell_type": "code",
   "execution_count": 27,
   "id": "65e07e02",
   "metadata": {},
   "outputs": [
    {
     "name": "stdout",
     "output_type": "stream",
     "text": [
      "ConfusionMatrix\n",
      "[[170  30]\n",
      " [ 38 177]] \n",
      "\n",
      "AccuracyScore 83.61 \n",
      "\n",
      "PresionScore 85.51 \n",
      "\n",
      "Recall_Score 82.33 \n",
      "\n",
      "F1_score 83.89 \n",
      "\n",
      "Roc_Scr 83.66\n"
     ]
    }
   ],
   "source": [
    "from sklearn.metrics import confusion_matrix\n",
    "from sklearn.metrics import precision_score\n",
    "from sklearn.metrics import recall_score\n",
    "from sklearn.metrics import f1_score\n",
    "from sklearn.metrics import accuracy_score\n",
    "from sklearn.metrics import roc_auc_score\n",
    "\n",
    "pr_pred_y = prl.predict(pr_test_x)\n",
    "\n",
    "ConfusionMatrix = confusion_matrix(pr_test_y, pr_pred_y) \n",
    "print('ConfusionMatrix')\n",
    "print(ConfusionMatrix,'\\n')\n",
    "\n",
    "AccuracyScore = prl.score(pr_test_x, pr_test_y)\n",
    "print('AccuracyScore',(AccuracyScore*100).round(2),'\\n')\n",
    "\n",
    "PresionScore = precision_score(pr_test_y, pr_pred_y)\n",
    "print('PresionScore',(PresionScore*100).round(2),'\\n')\n",
    "\n",
    "Recall_Score = recall_score(pr_test_y, pr_pred_y)\n",
    "print('Recall_Score',(Recall_Score*100).round(2),'\\n')\n",
    "\n",
    "F1_score = f1_score(pr_test_y, pr_pred_y)\n",
    "print('F1_score',(F1_score*100).round(2),'\\n')\n",
    "\n",
    "Roc_Scr = roc_auc_score(pr_test_y, pr_pred_y)\n",
    "print('Roc_Scr',(Roc_Scr*100).round(2))"
   ]
  },
  {
   "cell_type": "code",
   "execution_count": 28,
   "id": "c72286b4",
   "metadata": {},
   "outputs": [
    {
     "data": {
      "image/png": "[encoded data removed]",
      "text/plain": [
       "<Figure size 576x360 with 1 Axes>"
      ]
     },
     "metadata": {
      "needs_background": "light"
     },
     "output_type": "display_data"
    }
   ],
   "source": [
    "from sklearn.metrics import roc_curve\n",
    "import matplotlib.patches as mpatches\n",
    "import matplotlib.pyplot as plt\n",
    "\n",
    "# set the figure size\n",
    "plt.rcParams['figure.figsize']=(8,5)\n",
    "\n",
    "fpr, tpr, thresholds = roc_curve(pr_test_y, pr_pred_y)\n",
    "\n",
    "# plot the ROC curve\n",
    "plt.plot(fpr,tpr,label=' AUC Score = %0.3f'%(Roc_Scr))\n",
    "\n",
    "# set limits for x and y axes\n",
    "plt.xlim([0.0, 1.0])\n",
    "plt.ylim([0.0, 1.0])\n",
    "\n",
    "# plot the straight line showing worst prediction for the model\n",
    "plt.plot([0, 1], [0, 1],'r--')\n",
    "\n",
    "# add the AUC score\n",
    "plt.xlabel('False positive rate (1-Specificity)')\n",
    "plt.ylabel('True positive rate (Sensitivity)')\n",
    "\n",
    "plt.legend(loc='lower right')\n",
    "\n",
    "plt.grid(True)"
   ]
  },
  {
   "cell_type": "code",
   "execution_count": null,
   "id": "bb596ea6",
   "metadata": {},
   "outputs": [],
   "source": []
  }
 ],
 "metadata": {
  "kernelspec": {
   "display_name": "Python 3 (ipykernel)",
   "language": "python",
   "name": "python3"
  },
  "language_info": {
   "codemirror_mode": {
    "name": "ipython",
    "version": 3
   },
   "file_extension": ".py",
   "mimetype": "text/x-python",
   "name": "python",
   "nbconvert_exporter": "python",
   "pygments_lexer": "ipython3",
   "version": "3.9.7"
  }
 },
 "nbformat": 4,
 "nbformat_minor": 5
}
