{
 "cells": [
  {
   "cell_type": "code",
   "execution_count": null,
   "id": "96b69641",
   "metadata": {},
   "outputs": [],
   "source": [
    "Problem Statement \n",
    "\n",
    "# The many millions of teenage consumers using social networking sites have attracted the attention of marketers\n",
    "#struggling to find an edge in an increasingly competitive market. One way to gain this edge i`xs to identify segments of teenagers who share similar tastes, \n",
    "#so that clients can avoid targeting advertisements to teens with no interest in the product being sold. \n",
    "# Build K-means clustering model to classify the interest of teenagers by using various attributes.\n"
   ]
  },
  {
   "cell_type": "code",
   "execution_count": 8,
   "id": "61abf5cc",
   "metadata": {},
   "outputs": [
    {
     "data": {
      "text/html": [
       "<div>\n",
       "<style scoped>\n",
       "    .dataframe tbody tr th:only-of-type {\n",
       "        vertical-align: middle;\n",
       "    }\n",
       "\n",
       "    .dataframe tbody tr th {\n",
       "        vertical-align: top;\n",
       "    }\n",
       "\n",
       "    .dataframe thead th {\n",
       "        text-align: right;\n",
       "    }\n",
       "</style>\n",
       "<table border=\"1\" class=\"dataframe\">\n",
       "  <thead>\n",
       "    <tr style=\"text-align: right;\">\n",
       "      <th></th>\n",
       "      <th>gradyear</th>\n",
       "      <th>gender</th>\n",
       "      <th>age</th>\n",
       "      <th>friends</th>\n",
       "      <th>basketball</th>\n",
       "      <th>football</th>\n",
       "      <th>soccer</th>\n",
       "      <th>softball</th>\n",
       "      <th>volleyball</th>\n",
       "      <th>swimming</th>\n",
       "      <th>...</th>\n",
       "      <th>blonde</th>\n",
       "      <th>mall</th>\n",
       "      <th>shopping</th>\n",
       "      <th>clothes</th>\n",
       "      <th>hollister</th>\n",
       "      <th>abercrombie</th>\n",
       "      <th>die</th>\n",
       "      <th>death</th>\n",
       "      <th>drunk</th>\n",
       "      <th>drugs</th>\n",
       "    </tr>\n",
       "  </thead>\n",
       "  <tbody>\n",
       "    <tr>\n",
       "      <th>0</th>\n",
       "      <td>2006</td>\n",
       "      <td>M</td>\n",
       "      <td>18.982</td>\n",
       "      <td>7</td>\n",
       "      <td>0</td>\n",
       "      <td>0</td>\n",
       "      <td>0</td>\n",
       "      <td>0</td>\n",
       "      <td>0</td>\n",
       "      <td>0</td>\n",
       "      <td>...</td>\n",
       "      <td>0</td>\n",
       "      <td>0</td>\n",
       "      <td>0</td>\n",
       "      <td>0</td>\n",
       "      <td>0</td>\n",
       "      <td>0</td>\n",
       "      <td>0</td>\n",
       "      <td>0</td>\n",
       "      <td>0</td>\n",
       "      <td>0</td>\n",
       "    </tr>\n",
       "    <tr>\n",
       "      <th>1</th>\n",
       "      <td>2006</td>\n",
       "      <td>F</td>\n",
       "      <td>18.801</td>\n",
       "      <td>0</td>\n",
       "      <td>0</td>\n",
       "      <td>1</td>\n",
       "      <td>0</td>\n",
       "      <td>0</td>\n",
       "      <td>0</td>\n",
       "      <td>0</td>\n",
       "      <td>...</td>\n",
       "      <td>0</td>\n",
       "      <td>1</td>\n",
       "      <td>0</td>\n",
       "      <td>0</td>\n",
       "      <td>0</td>\n",
       "      <td>0</td>\n",
       "      <td>0</td>\n",
       "      <td>0</td>\n",
       "      <td>0</td>\n",
       "      <td>0</td>\n",
       "    </tr>\n",
       "    <tr>\n",
       "      <th>2</th>\n",
       "      <td>2006</td>\n",
       "      <td>M</td>\n",
       "      <td>18.335</td>\n",
       "      <td>69</td>\n",
       "      <td>0</td>\n",
       "      <td>1</td>\n",
       "      <td>0</td>\n",
       "      <td>0</td>\n",
       "      <td>0</td>\n",
       "      <td>0</td>\n",
       "      <td>...</td>\n",
       "      <td>0</td>\n",
       "      <td>0</td>\n",
       "      <td>0</td>\n",
       "      <td>0</td>\n",
       "      <td>0</td>\n",
       "      <td>0</td>\n",
       "      <td>0</td>\n",
       "      <td>1</td>\n",
       "      <td>0</td>\n",
       "      <td>0</td>\n",
       "    </tr>\n",
       "    <tr>\n",
       "      <th>3</th>\n",
       "      <td>2006</td>\n",
       "      <td>F</td>\n",
       "      <td>18.875</td>\n",
       "      <td>0</td>\n",
       "      <td>0</td>\n",
       "      <td>0</td>\n",
       "      <td>0</td>\n",
       "      <td>0</td>\n",
       "      <td>0</td>\n",
       "      <td>0</td>\n",
       "      <td>...</td>\n",
       "      <td>0</td>\n",
       "      <td>0</td>\n",
       "      <td>0</td>\n",
       "      <td>0</td>\n",
       "      <td>0</td>\n",
       "      <td>0</td>\n",
       "      <td>0</td>\n",
       "      <td>0</td>\n",
       "      <td>0</td>\n",
       "      <td>0</td>\n",
       "    </tr>\n",
       "    <tr>\n",
       "      <th>4</th>\n",
       "      <td>2006</td>\n",
       "      <td>NaN</td>\n",
       "      <td>18.995</td>\n",
       "      <td>10</td>\n",
       "      <td>0</td>\n",
       "      <td>0</td>\n",
       "      <td>0</td>\n",
       "      <td>0</td>\n",
       "      <td>0</td>\n",
       "      <td>0</td>\n",
       "      <td>...</td>\n",
       "      <td>0</td>\n",
       "      <td>0</td>\n",
       "      <td>2</td>\n",
       "      <td>0</td>\n",
       "      <td>0</td>\n",
       "      <td>0</td>\n",
       "      <td>0</td>\n",
       "      <td>0</td>\n",
       "      <td>1</td>\n",
       "      <td>1</td>\n",
       "    </tr>\n",
       "  </tbody>\n",
       "</table>\n",
       "<p>5 rows × 40 columns</p>\n",
       "</div>"
      ],
      "text/plain": [
       "   gradyear gender     age  friends  basketball  football  soccer  softball  \\\n",
       "0      2006      M  18.982        7           0         0       0         0   \n",
       "1      2006      F  18.801        0           0         1       0         0   \n",
       "2      2006      M  18.335       69           0         1       0         0   \n",
       "3      2006      F  18.875        0           0         0       0         0   \n",
       "4      2006    NaN  18.995       10           0         0       0         0   \n",
       "\n",
       "   volleyball  swimming  ...  blonde  mall  shopping  clothes  hollister  \\\n",
       "0           0         0  ...       0     0         0        0          0   \n",
       "1           0         0  ...       0     1         0        0          0   \n",
       "2           0         0  ...       0     0         0        0          0   \n",
       "3           0         0  ...       0     0         0        0          0   \n",
       "4           0         0  ...       0     0         2        0          0   \n",
       "\n",
       "   abercrombie  die  death  drunk  drugs  \n",
       "0            0    0      0      0      0  \n",
       "1            0    0      0      0      0  \n",
       "2            0    0      1      0      0  \n",
       "3            0    0      0      0      0  \n",
       "4            0    0      0      1      1  \n",
       "\n",
       "[5 rows x 40 columns]"
      ]
     },
     "execution_count": 8,
     "metadata": {},
     "output_type": "execute_result"
    }
   ],
   "source": [
    "import pandas as pd\n",
    "\n",
    "sn = pd.read_csv('snsdata.csv')\n",
    "sn.head()"
   ]
  },
  {
   "cell_type": "code",
   "execution_count": 9,
   "id": "ed622a86",
   "metadata": {},
   "outputs": [
    {
     "name": "stdout",
     "output_type": "stream",
     "text": [
      "<class 'pandas.core.frame.DataFrame'>\n",
      "RangeIndex: 30000 entries, 0 to 29999\n",
      "Data columns (total 40 columns):\n",
      " #   Column        Non-Null Count  Dtype  \n",
      "---  ------        --------------  -----  \n",
      " 0   gradyear      30000 non-null  int64  \n",
      " 1   gender        27276 non-null  object \n",
      " 2   age           24914 non-null  float64\n",
      " 3   friends       30000 non-null  int64  \n",
      " 4   basketball    30000 non-null  int64  \n",
      " 5   football      30000 non-null  int64  \n",
      " 6   soccer        30000 non-null  int64  \n",
      " 7   softball      30000 non-null  int64  \n",
      " 8   volleyball    30000 non-null  int64  \n",
      " 9   swimming      30000 non-null  int64  \n",
      " 10  cheerleading  30000 non-null  int64  \n",
      " 11  baseball      30000 non-null  int64  \n",
      " 12  tennis        30000 non-null  int64  \n",
      " 13  sports        30000 non-null  int64  \n",
      " 14  cute          30000 non-null  int64  \n",
      " 15  sex           30000 non-null  int64  \n",
      " 16  sexy          30000 non-null  int64  \n",
      " 17  hot           30000 non-null  int64  \n",
      " 18  kissed        30000 non-null  int64  \n",
      " 19  dance         30000 non-null  int64  \n",
      " 20  band          30000 non-null  int64  \n",
      " 21  marching      30000 non-null  int64  \n",
      " 22  music         30000 non-null  int64  \n",
      " 23  rock          30000 non-null  int64  \n",
      " 24  god           30000 non-null  int64  \n",
      " 25  church        30000 non-null  int64  \n",
      " 26  jesus         30000 non-null  int64  \n",
      " 27  bible         30000 non-null  int64  \n",
      " 28  hair          30000 non-null  int64  \n",
      " 29  dress         30000 non-null  int64  \n",
      " 30  blonde        30000 non-null  int64  \n",
      " 31  mall          30000 non-null  int64  \n",
      " 32  shopping      30000 non-null  int64  \n",
      " 33  clothes       30000 non-null  int64  \n",
      " 34  hollister     30000 non-null  int64  \n",
      " 35  abercrombie   30000 non-null  int64  \n",
      " 36  die           30000 non-null  int64  \n",
      " 37  death         30000 non-null  int64  \n",
      " 38  drunk         30000 non-null  int64  \n",
      " 39  drugs         30000 non-null  int64  \n",
      "dtypes: float64(1), int64(38), object(1)\n",
      "memory usage: 9.2+ MB\n"
     ]
    },
    {
     "data": {
      "text/plain": [
       "(30000, 40)"
      ]
     },
     "execution_count": 9,
     "metadata": {},
     "output_type": "execute_result"
    }
   ],
   "source": [
    "sn.info()\n",
    "sn.shape"
   ]
  },
  {
   "cell_type": "code",
   "execution_count": 10,
   "id": "d06736dd",
   "metadata": {},
   "outputs": [
    {
     "data": {
      "text/plain": [
       "gradyear           0\n",
       "gender          2724\n",
       "age             5086\n",
       "friends            0\n",
       "basketball         0\n",
       "football           0\n",
       "soccer             0\n",
       "softball           0\n",
       "volleyball         0\n",
       "swimming           0\n",
       "cheerleading       0\n",
       "baseball           0\n",
       "tennis             0\n",
       "sports             0\n",
       "cute               0\n",
       "sex                0\n",
       "sexy               0\n",
       "hot                0\n",
       "kissed             0\n",
       "dance              0\n",
       "band               0\n",
       "marching           0\n",
       "music              0\n",
       "rock               0\n",
       "god                0\n",
       "church             0\n",
       "jesus              0\n",
       "bible              0\n",
       "hair               0\n",
       "dress              0\n",
       "blonde             0\n",
       "mall               0\n",
       "shopping           0\n",
       "clothes            0\n",
       "hollister          0\n",
       "abercrombie        0\n",
       "die                0\n",
       "death              0\n",
       "drunk              0\n",
       "drugs              0\n",
       "dtype: int64"
      ]
     },
     "execution_count": 10,
     "metadata": {},
     "output_type": "execute_result"
    }
   ],
   "source": [
    "sn.isnull().sum()"
   ]
  },
  {
   "cell_type": "code",
   "execution_count": 25,
   "id": "6ddad5d7",
   "metadata": {},
   "outputs": [],
   "source": [
    "sn.gender.fillna('F', inplace=True)\n",
    "sn.age.fillna(sn.age.mean(), inplace=True)"
   ]
  },
  {
   "cell_type": "code",
   "execution_count": 16,
   "id": "69b31182",
   "metadata": {},
   "outputs": [
    {
     "data": {
      "text/plain": [
       "Index(['gender'], dtype='object')"
      ]
     },
     "execution_count": 16,
     "metadata": {},
     "output_type": "execute_result"
    }
   ],
   "source": [
    "sn.columns[sn.dtypes == 'object']"
   ]
  },
  {
   "cell_type": "code",
   "execution_count": 27,
   "id": "43f2109e",
   "metadata": {},
   "outputs": [
    {
     "name": "stdout",
     "output_type": "stream",
     "text": [
      "<class 'pandas.core.frame.DataFrame'>\n",
      "RangeIndex: 30000 entries, 0 to 29999\n",
      "Data columns (total 40 columns):\n",
      " #   Column        Non-Null Count  Dtype  \n",
      "---  ------        --------------  -----  \n",
      " 0   gradyear      30000 non-null  int64  \n",
      " 1   gender        30000 non-null  float64\n",
      " 2   age           30000 non-null  float64\n",
      " 3   friends       30000 non-null  int64  \n",
      " 4   basketball    30000 non-null  int64  \n",
      " 5   football      30000 non-null  int64  \n",
      " 6   soccer        30000 non-null  int64  \n",
      " 7   softball      30000 non-null  int64  \n",
      " 8   volleyball    30000 non-null  int64  \n",
      " 9   swimming      30000 non-null  int64  \n",
      " 10  cheerleading  30000 non-null  int64  \n",
      " 11  baseball      30000 non-null  int64  \n",
      " 12  tennis        30000 non-null  int64  \n",
      " 13  sports        30000 non-null  int64  \n",
      " 14  cute          30000 non-null  int64  \n",
      " 15  sex           30000 non-null  int64  \n",
      " 16  sexy          30000 non-null  int64  \n",
      " 17  hot           30000 non-null  int64  \n",
      " 18  kissed        30000 non-null  int64  \n",
      " 19  dance         30000 non-null  int64  \n",
      " 20  band          30000 non-null  int64  \n",
      " 21  marching      30000 non-null  int64  \n",
      " 22  music         30000 non-null  int64  \n",
      " 23  rock          30000 non-null  int64  \n",
      " 24  god           30000 non-null  int64  \n",
      " 25  church        30000 non-null  int64  \n",
      " 26  jesus         30000 non-null  int64  \n",
      " 27  bible         30000 non-null  int64  \n",
      " 28  hair          30000 non-null  int64  \n",
      " 29  dress         30000 non-null  int64  \n",
      " 30  blonde        30000 non-null  int64  \n",
      " 31  mall          30000 non-null  int64  \n",
      " 32  shopping      30000 non-null  int64  \n",
      " 33  clothes       30000 non-null  int64  \n",
      " 34  hollister     30000 non-null  int64  \n",
      " 35  abercrombie   30000 non-null  int64  \n",
      " 36  die           30000 non-null  int64  \n",
      " 37  death         30000 non-null  int64  \n",
      " 38  drunk         30000 non-null  int64  \n",
      " 39  drugs         30000 non-null  int64  \n",
      "dtypes: float64(2), int64(38)\n",
      "memory usage: 9.2 MB\n"
     ]
    }
   ],
   "source": [
    "sn.gender = sn.gender.replace({'F':1, 'M':0})\n",
    "sn.info()"
   ]
  },
  {
   "cell_type": "code",
   "execution_count": 23,
   "id": "adc81b1b",
   "metadata": {},
   "outputs": [
    {
     "data": {
      "text/plain": [
       "gradyear           0\n",
       "gender          2724\n",
       "age             5086\n",
       "friends            0\n",
       "basketball         0\n",
       "football           0\n",
       "soccer             0\n",
       "softball           0\n",
       "volleyball         0\n",
       "swimming           0\n",
       "cheerleading       0\n",
       "baseball           0\n",
       "tennis             0\n",
       "sports             0\n",
       "cute               0\n",
       "sex                0\n",
       "sexy               0\n",
       "hot                0\n",
       "kissed             0\n",
       "dance              0\n",
       "band               0\n",
       "marching           0\n",
       "music              0\n",
       "rock               0\n",
       "god                0\n",
       "church             0\n",
       "jesus              0\n",
       "bible              0\n",
       "hair               0\n",
       "dress              0\n",
       "blonde             0\n",
       "mall               0\n",
       "shopping           0\n",
       "clothes            0\n",
       "hollister          0\n",
       "abercrombie        0\n",
       "die                0\n",
       "death              0\n",
       "drunk              0\n",
       "drugs              0\n",
       "dtype: int64"
      ]
     },
     "execution_count": 23,
     "metadata": {},
     "output_type": "execute_result"
    }
   ],
   "source": [
    "sn.isnull().sum()"
   ]
  },
  {
   "cell_type": "code",
   "execution_count": null,
   "id": "e838d8cb",
   "metadata": {},
   "outputs": [],
   "source": [
    "# We cannot sample our data since the problem statemetn just wants to \n",
    "# know where the mjority people are involved"
   ]
  },
  {
   "cell_type": "code",
   "execution_count": 28,
   "id": "31a2dab5",
   "metadata": {},
   "outputs": [],
   "source": [
    "from sklearn.cluster import KMeans\n",
    "\n",
    "kmeans_sns = KMeans(n_clusters=3)\n",
    "\n",
    "# value of K is 3"
   ]
  },
  {
   "cell_type": "code",
   "execution_count": 29,
   "id": "38b8dc94",
   "metadata": {},
   "outputs": [
    {
     "data": {
      "text/plain": [
       "KMeans(n_clusters=3)"
      ]
     },
     "execution_count": 29,
     "metadata": {},
     "output_type": "execute_result"
    }
   ],
   "source": [
    "kmeans_sns.fit(sn)"
   ]
  },
  {
   "cell_type": "code",
   "execution_count": 1,
   "id": "4d9c9bb4",
   "metadata": {},
   "outputs": [],
   "source": [
    "list(kmeans_sns.labels_)"
   ]
  },
  {
   "cell_type": "code",
   "execution_count": 33,
   "id": "2e2f8d22",
   "metadata": {},
   "outputs": [
    {
     "data": {
      "text/plain": [
       "(3, 40)"
      ]
     },
     "execution_count": 33,
     "metadata": {},
     "output_type": "execute_result"
    }
   ],
   "source": [
    "kmeans_sns.cluster_centers_.shape"
   ]
  },
  {
   "cell_type": "code",
   "execution_count": 34,
   "id": "2f4de702",
   "metadata": {},
   "outputs": [
    {
     "data": {
      "text/plain": [
       "array([[2.00745392e+03, 8.08174359e-01, 1.80412788e+01, 1.08365128e+01,\n",
       "        2.39442291e-01, 2.36371873e-01, 2.05869029e-01, 1.29158907e-01,\n",
       "        1.24377108e-01, 1.23370413e-01, 9.32199124e-02, 9.70453516e-02,\n",
       "        8.34549756e-02, 1.32783007e-01, 2.88719988e-01, 2.07479740e-01,\n",
       "        1.32229325e-01, 1.14763175e-01, 9.71963558e-02, 3.85110988e-01,\n",
       "        2.85498565e-01, 3.67443499e-02, 7.17622188e-01, 2.31690743e-01,\n",
       "        4.21351991e-01, 2.13570242e-01, 9.77500378e-02, 2.03352293e-02,\n",
       "        4.02778477e-01, 9.93607490e-02, 8.00322142e-02, 2.27361957e-01,\n",
       "        3.11873962e-01, 1.40584890e-01, 5.61232194e-02, 4.14758142e-02,\n",
       "        1.78637942e-01, 1.06206272e-01, 8.47133437e-02, 6.13076962e-02],\n",
       "       [2.00768894e+03, 9.07327586e-01, 1.77341023e+01, 1.42673851e+02,\n",
       "        3.77873563e-01, 2.90229885e-01, 2.47126437e-01, 2.50000000e-01,\n",
       "        2.04022989e-01, 1.56609195e-01, 1.98275862e-01, 1.35057471e-01,\n",
       "        9.62643678e-02, 1.39367816e-01, 4.74856322e-01, 2.29166667e-01,\n",
       "        1.93247126e-01, 1.96120690e-01, 1.21408046e-01, 5.49568966e-01,\n",
       "        2.99568966e-01, 4.38218391e-02, 7.72988506e-01, 2.52155172e-01,\n",
       "        6.32183908e-01, 3.63505747e-01, 1.49425287e-01, 2.87356322e-02,\n",
       "        5.33764368e-01, 1.59482759e-01, 1.32902299e-01, 4.20977011e-01,\n",
       "        4.97844828e-01, 1.68821839e-01, 1.33620690e-01, 9.91379310e-02,\n",
       "        2.09051724e-01, 1.41522989e-01, 1.20689655e-01, 4.95689655e-02],\n",
       "       [2.00757465e+03, 8.53334859e-01, 1.79277577e+01, 5.62284636e+01,\n",
       "        3.13122068e-01, 2.82461961e-01, 2.57293216e-01, 2.19883309e-01,\n",
       "        1.76066812e-01, 1.55931816e-01, 1.22526027e-01, 1.18064295e-01,\n",
       "        9.47260039e-02, 1.56389429e-01, 3.76272738e-01, 2.10616634e-01,\n",
       "        1.53300538e-01, 1.42432216e-01, 1.13945773e-01, 4.96396293e-01,\n",
       "        3.31655417e-01, 4.88502460e-02, 7.78171834e-01, 2.68390344e-01,\n",
       "        5.38611143e-01, 3.08431530e-01, 1.38656904e-01, 2.24230637e-02,\n",
       "        4.49834115e-01, 1.29619037e-01, 1.36483240e-01, 2.99508065e-01,\n",
       "        4.23406933e-01, 1.63253632e-01, 9.09506921e-02, 6.55531404e-02,\n",
       "        1.92540899e-01, 1.28131793e-01, 9.01498684e-02, 6.01761812e-02]])"
      ]
     },
     "execution_count": 34,
     "metadata": {},
     "output_type": "execute_result"
    }
   ],
   "source": [
    "kmeans_sns.cluster_centers_"
   ]
  },
  {
   "cell_type": "code",
   "execution_count": null,
   "id": "7cca934a",
   "metadata": {},
   "outputs": [],
   "source": [
    "# lets find SSD"
   ]
  },
  {
   "cell_type": "code",
   "execution_count": 36,
   "id": "87fd2c32",
   "metadata": {},
   "outputs": [
    {
     "data": {
      "text/plain": [
       "-11293526.647981428"
      ]
     },
     "execution_count": 36,
     "metadata": {},
     "output_type": "execute_result"
    }
   ],
   "source": [
    "kmeans_sns.score(sn)"
   ]
  },
  {
   "cell_type": "code",
   "execution_count": null,
   "id": "e9319d38",
   "metadata": {},
   "outputs": [],
   "source": [
    "# this is the ssd for k=3 , while plotting ignpre minus sign"
   ]
  },
  {
   "cell_type": "code",
   "execution_count": null,
   "id": "350e7b2e",
   "metadata": {},
   "outputs": [],
   "source": [
    "# now we bilud the elnow plot"
   ]
  },
  {
   "cell_type": "code",
   "execution_count": 43,
   "id": "90afdd0d",
   "metadata": {},
   "outputs": [],
   "source": [
    "import numpy as np\n",
    "empty_list  = []\n",
    "for i in range (1, 11):\n",
    "    knn = KMeans(n_clusters= i )\n",
    "    knn.fit(sn)\n",
    "    acc = np.round(np.abs(knn.score(sn)))\n",
    "    empty_list.append(acc)\n",
    "    \n",
    "df = pd.DataFrame({'Acc' : empty_list, 'K' : range(1,11)})"
   ]
  },
  {
   "cell_type": "code",
   "execution_count": 44,
   "id": "ef29664b",
   "metadata": {
    "scrolled": false
   },
   "outputs": [
    {
     "data": {
      "text/html": [
       "<div>\n",
       "<style scoped>\n",
       "    .dataframe tbody tr th:only-of-type {\n",
       "        vertical-align: middle;\n",
       "    }\n",
       "\n",
       "    .dataframe tbody tr th {\n",
       "        vertical-align: top;\n",
       "    }\n",
       "\n",
       "    .dataframe thead th {\n",
       "        text-align: right;\n",
       "    }\n",
       "</style>\n",
       "<table border=\"1\" class=\"dataframe\">\n",
       "  <thead>\n",
       "    <tr style=\"text-align: right;\">\n",
       "      <th></th>\n",
       "      <th>Acc</th>\n",
       "      <th>K</th>\n",
       "    </tr>\n",
       "  </thead>\n",
       "  <tbody>\n",
       "    <tr>\n",
       "      <th>0</th>\n",
       "      <td>42274975.0</td>\n",
       "      <td>1</td>\n",
       "    </tr>\n",
       "    <tr>\n",
       "      <th>1</th>\n",
       "      <td>18609121.0</td>\n",
       "      <td>2</td>\n",
       "    </tr>\n",
       "    <tr>\n",
       "      <th>2</th>\n",
       "      <td>11298651.0</td>\n",
       "      <td>3</td>\n",
       "    </tr>\n",
       "    <tr>\n",
       "      <th>3</th>\n",
       "      <td>8117271.0</td>\n",
       "      <td>4</td>\n",
       "    </tr>\n",
       "    <tr>\n",
       "      <th>4</th>\n",
       "      <td>6330443.0</td>\n",
       "      <td>5</td>\n",
       "    </tr>\n",
       "    <tr>\n",
       "      <th>5</th>\n",
       "      <td>5061099.0</td>\n",
       "      <td>6</td>\n",
       "    </tr>\n",
       "    <tr>\n",
       "      <th>6</th>\n",
       "      <td>4037397.0</td>\n",
       "      <td>7</td>\n",
       "    </tr>\n",
       "    <tr>\n",
       "      <th>7</th>\n",
       "      <td>3108441.0</td>\n",
       "      <td>8</td>\n",
       "    </tr>\n",
       "    <tr>\n",
       "      <th>8</th>\n",
       "      <td>2559560.0</td>\n",
       "      <td>9</td>\n",
       "    </tr>\n",
       "    <tr>\n",
       "      <th>9</th>\n",
       "      <td>2219945.0</td>\n",
       "      <td>10</td>\n",
       "    </tr>\n",
       "  </tbody>\n",
       "</table>\n",
       "</div>"
      ],
      "text/plain": [
       "          Acc   K\n",
       "0  42274975.0   1\n",
       "1  18609121.0   2\n",
       "2  11298651.0   3\n",
       "3   8117271.0   4\n",
       "4   6330443.0   5\n",
       "5   5061099.0   6\n",
       "6   4037397.0   7\n",
       "7   3108441.0   8\n",
       "8   2559560.0   9\n",
       "9   2219945.0  10"
      ]
     },
     "execution_count": 44,
     "metadata": {},
     "output_type": "execute_result"
    }
   ],
   "source": [
    "df.sort_values('Acc', ascending=False)\n",
    "#df"
   ]
  },
  {
   "cell_type": "code",
   "execution_count": 51,
   "id": "5af794fa",
   "metadata": {},
   "outputs": [
    {
     "data": {
      "text/plain": [
       "Text(0.5, 1.0, 'Emplbow Plot')"
      ]
     },
     "execution_count": 51,
     "metadata": {},
     "output_type": "execute_result"
    },
    {
     "data": {
      "image/png": "[encoded data removed]",
      "text/plain": [
       "<Figure size 432x432 with 1 Axes>"
      ]
     },
     "metadata": {
      "needs_background": "light"
     },
     "output_type": "display_data"
    }
   ],
   "source": [
    "import matplotlib.pyplot as plt\n",
    "\n",
    "num = list(range(1, 11))\n",
    "plt.figure(figsize=(6,6))\n",
    "plt.plot(num, empty_list, marker = \"*\")\n",
    "plt.xlabel(\"Num. of clusters\")\n",
    "plt.ylabel(\"SSD of points\")\n",
    "plt.grid()\n",
    "plt.title('Emplbow Plot')"
   ]
  },
  {
   "cell_type": "code",
   "execution_count": 53,
   "id": "ba52758b",
   "metadata": {},
   "outputs": [
    {
     "data": {
      "text/plain": [
       "[42274975.0,\n",
       " 18609121.0,\n",
       " 11298651.0,\n",
       " 8117271.0,\n",
       " 6330443.0,\n",
       " 5061099.0,\n",
       " 4037397.0,\n",
       " 3108441.0,\n",
       " 2559560.0,\n",
       " 2219945.0]"
      ]
     },
     "execution_count": 53,
     "metadata": {},
     "output_type": "execute_result"
    }
   ],
   "source": [
    "empty_list"
   ]
  },
  {
   "cell_type": "code",
   "execution_count": 54,
   "id": "5ae54590",
   "metadata": {},
   "outputs": [
    {
     "data": {
      "text/plain": [
       "55.98076403356832"
      ]
     },
     "execution_count": 54,
     "metadata": {},
     "output_type": "execute_result"
    }
   ],
   "source": [
    "# in order to chose the most appropriate value of k we do the for loop thing n \n",
    "# then perform these manual operation to see where the % becomes little stable\n",
    "(42274975 - 18609121)*100/42274975 # % drop of SSd when k changes from 1pt to 2pt"
   ]
  },
  {
   "cell_type": "code",
   "execution_count": null,
   "id": "d1606e77",
   "metadata": {},
   "outputs": [],
   "source": [
    "# Doing thosse multiple times we seee the k is stable at 5\n",
    "\n",
    "# So K = 5"
   ]
  },
  {
   "cell_type": "code",
   "execution_count": 56,
   "id": "e26afa10",
   "metadata": {},
   "outputs": [
    {
     "data": {
      "text/plain": [
       "-6329431.472246915"
      ]
     },
     "execution_count": 56,
     "metadata": {},
     "output_type": "execute_result"
    }
   ],
   "source": [
    "kmeans_sns = KMeans(n_clusters=5)\n",
    "kmeans_sns.fit(sn)\n",
    "kmeans_sns.score(sn)"
   ]
  },
  {
   "cell_type": "code",
   "execution_count": null,
   "id": "809b37f1",
   "metadata": {},
   "outputs": [],
   "source": [
    "# NOW THE CUSTMOER.CLIENT WILL ASK FOR DATA WHICH FALL UNDER WHICH CLUSTER \n",
    "# EACH CUSTMOER(TARGET AUDIENCE) FALL"
   ]
  },
  {
   "cell_type": "code",
   "execution_count": 63,
   "id": "c5d576f4",
   "metadata": {
    "scrolled": false
   },
   "outputs": [
    {
     "data": {
      "text/html": [
       "<div>\n",
       "<style scoped>\n",
       "    .dataframe tbody tr th:only-of-type {\n",
       "        vertical-align: middle;\n",
       "    }\n",
       "\n",
       "    .dataframe tbody tr th {\n",
       "        vertical-align: top;\n",
       "    }\n",
       "\n",
       "    .dataframe thead th {\n",
       "        text-align: right;\n",
       "    }\n",
       "</style>\n",
       "<table border=\"1\" class=\"dataframe\">\n",
       "  <thead>\n",
       "    <tr style=\"text-align: right;\">\n",
       "      <th></th>\n",
       "      <th>gradyear</th>\n",
       "      <th>gender</th>\n",
       "      <th>age</th>\n",
       "      <th>friends</th>\n",
       "      <th>basketball</th>\n",
       "      <th>football</th>\n",
       "      <th>soccer</th>\n",
       "      <th>softball</th>\n",
       "      <th>volleyball</th>\n",
       "      <th>swimming</th>\n",
       "      <th>...</th>\n",
       "      <th>mall</th>\n",
       "      <th>shopping</th>\n",
       "      <th>clothes</th>\n",
       "      <th>hollister</th>\n",
       "      <th>abercrombie</th>\n",
       "      <th>die</th>\n",
       "      <th>death</th>\n",
       "      <th>drunk</th>\n",
       "      <th>drugs</th>\n",
       "      <th>Labels</th>\n",
       "    </tr>\n",
       "  </thead>\n",
       "  <tbody>\n",
       "    <tr>\n",
       "      <th>0</th>\n",
       "      <td>2006</td>\n",
       "      <td>0.0</td>\n",
       "      <td>18.982</td>\n",
       "      <td>7</td>\n",
       "      <td>0</td>\n",
       "      <td>0</td>\n",
       "      <td>0</td>\n",
       "      <td>0</td>\n",
       "      <td>0</td>\n",
       "      <td>0</td>\n",
       "      <td>...</td>\n",
       "      <td>0</td>\n",
       "      <td>0</td>\n",
       "      <td>0</td>\n",
       "      <td>0</td>\n",
       "      <td>0</td>\n",
       "      <td>0</td>\n",
       "      <td>0</td>\n",
       "      <td>0</td>\n",
       "      <td>0</td>\n",
       "      <td>1</td>\n",
       "    </tr>\n",
       "    <tr>\n",
       "      <th>1</th>\n",
       "      <td>2006</td>\n",
       "      <td>1.0</td>\n",
       "      <td>18.801</td>\n",
       "      <td>0</td>\n",
       "      <td>0</td>\n",
       "      <td>1</td>\n",
       "      <td>0</td>\n",
       "      <td>0</td>\n",
       "      <td>0</td>\n",
       "      <td>0</td>\n",
       "      <td>...</td>\n",
       "      <td>1</td>\n",
       "      <td>0</td>\n",
       "      <td>0</td>\n",
       "      <td>0</td>\n",
       "      <td>0</td>\n",
       "      <td>0</td>\n",
       "      <td>0</td>\n",
       "      <td>0</td>\n",
       "      <td>0</td>\n",
       "      <td>1</td>\n",
       "    </tr>\n",
       "    <tr>\n",
       "      <th>2</th>\n",
       "      <td>2006</td>\n",
       "      <td>0.0</td>\n",
       "      <td>18.335</td>\n",
       "      <td>69</td>\n",
       "      <td>0</td>\n",
       "      <td>1</td>\n",
       "      <td>0</td>\n",
       "      <td>0</td>\n",
       "      <td>0</td>\n",
       "      <td>0</td>\n",
       "      <td>...</td>\n",
       "      <td>0</td>\n",
       "      <td>0</td>\n",
       "      <td>0</td>\n",
       "      <td>0</td>\n",
       "      <td>0</td>\n",
       "      <td>0</td>\n",
       "      <td>1</td>\n",
       "      <td>0</td>\n",
       "      <td>0</td>\n",
       "      <td>4</td>\n",
       "    </tr>\n",
       "    <tr>\n",
       "      <th>3</th>\n",
       "      <td>2006</td>\n",
       "      <td>1.0</td>\n",
       "      <td>18.875</td>\n",
       "      <td>0</td>\n",
       "      <td>0</td>\n",
       "      <td>0</td>\n",
       "      <td>0</td>\n",
       "      <td>0</td>\n",
       "      <td>0</td>\n",
       "      <td>0</td>\n",
       "      <td>...</td>\n",
       "      <td>0</td>\n",
       "      <td>0</td>\n",
       "      <td>0</td>\n",
       "      <td>0</td>\n",
       "      <td>0</td>\n",
       "      <td>0</td>\n",
       "      <td>0</td>\n",
       "      <td>0</td>\n",
       "      <td>0</td>\n",
       "      <td>1</td>\n",
       "    </tr>\n",
       "    <tr>\n",
       "      <th>4</th>\n",
       "      <td>2006</td>\n",
       "      <td>1.0</td>\n",
       "      <td>18.995</td>\n",
       "      <td>10</td>\n",
       "      <td>0</td>\n",
       "      <td>0</td>\n",
       "      <td>0</td>\n",
       "      <td>0</td>\n",
       "      <td>0</td>\n",
       "      <td>0</td>\n",
       "      <td>...</td>\n",
       "      <td>0</td>\n",
       "      <td>2</td>\n",
       "      <td>0</td>\n",
       "      <td>0</td>\n",
       "      <td>0</td>\n",
       "      <td>0</td>\n",
       "      <td>0</td>\n",
       "      <td>1</td>\n",
       "      <td>1</td>\n",
       "      <td>1</td>\n",
       "    </tr>\n",
       "  </tbody>\n",
       "</table>\n",
       "<p>5 rows × 41 columns</p>\n",
       "</div>"
      ],
      "text/plain": [
       "   gradyear  gender     age  friends  basketball  football  soccer  softball  \\\n",
       "0      2006     0.0  18.982        7           0         0       0         0   \n",
       "1      2006     1.0  18.801        0           0         1       0         0   \n",
       "2      2006     0.0  18.335       69           0         1       0         0   \n",
       "3      2006     1.0  18.875        0           0         0       0         0   \n",
       "4      2006     1.0  18.995       10           0         0       0         0   \n",
       "\n",
       "   volleyball  swimming  ...  mall  shopping  clothes  hollister  abercrombie  \\\n",
       "0           0         0  ...     0         0        0          0            0   \n",
       "1           0         0  ...     1         0        0          0            0   \n",
       "2           0         0  ...     0         0        0          0            0   \n",
       "3           0         0  ...     0         0        0          0            0   \n",
       "4           0         0  ...     0         2        0          0            0   \n",
       "\n",
       "   die  death  drunk  drugs  Labels  \n",
       "0    0      0      0      0       1  \n",
       "1    0      0      0      0       1  \n",
       "2    0      1      0      0       4  \n",
       "3    0      0      0      0       1  \n",
       "4    0      0      1      1       1  \n",
       "\n",
       "[5 rows x 41 columns]"
      ]
     },
     "execution_count": 63,
     "metadata": {},
     "output_type": "execute_result"
    }
   ],
   "source": [
    "sn['Labels'] = list(kmeans_sns.labels_)\n",
    "\n",
    "sn.head()"
   ]
  },
  {
   "cell_type": "code",
   "execution_count": 2,
   "id": "d64e2056",
   "metadata": {},
   "outputs": [],
   "source": [
    "centroids = sn.Labels \n",
    "df = pd.DataFrame({'Centroids':sn,'SN':sn.columns})\n",
    "df"
   ]
  }
 ],
 "metadata": {
  "kernelspec": {
   "display_name": "Python 3 (ipykernel)",
   "language": "python",
   "name": "python3"
  },
  "language_info": {
   "codemirror_mode": {
    "name": "ipython",
    "version": 3
   },
   "file_extension": ".py",
   "mimetype": "text/x-python",
   "name": "python",
   "nbconvert_exporter": "python",
   "pygments_lexer": "ipython3",
   "version": "3.9.7"
  }
 },
 "nbformat": 4,
 "nbformat_minor": 5
}
