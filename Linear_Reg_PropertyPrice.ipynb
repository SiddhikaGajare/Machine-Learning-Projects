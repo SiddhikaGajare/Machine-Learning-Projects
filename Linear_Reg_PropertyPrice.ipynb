{
 "cells": [
  {
   "cell_type": "code",
   "execution_count": 3,
   "id": "73224e63",
   "metadata": {},
   "outputs": [
    {
     "data": {
      "text/html": [
       "<div>\n",
       "<style scoped>\n",
       "    .dataframe tbody tr th:only-of-type {\n",
       "        vertical-align: middle;\n",
       "    }\n",
       "\n",
       "    .dataframe tbody tr th {\n",
       "        vertical-align: top;\n",
       "    }\n",
       "\n",
       "    .dataframe thead th {\n",
       "        text-align: right;\n",
       "    }\n",
       "</style>\n",
       "<table border=\"1\" class=\"dataframe\">\n",
       "  <thead>\n",
       "    <tr style=\"text-align: right;\">\n",
       "      <th></th>\n",
       "      <th>Id</th>\n",
       "      <th>Building_Class</th>\n",
       "      <th>Zoning_Class</th>\n",
       "      <th>Lot_Extent</th>\n",
       "      <th>Lot_Size</th>\n",
       "      <th>Road_Type</th>\n",
       "      <th>Lane_Type</th>\n",
       "      <th>Property_Shape</th>\n",
       "      <th>Land_Outline</th>\n",
       "      <th>Utility_Type</th>\n",
       "      <th>...</th>\n",
       "      <th>Pool_Area</th>\n",
       "      <th>Pool_Quality</th>\n",
       "      <th>Fence_Quality</th>\n",
       "      <th>Miscellaneous_Feature</th>\n",
       "      <th>Miscellaneous_Value</th>\n",
       "      <th>Month_Sold</th>\n",
       "      <th>Year_Sold</th>\n",
       "      <th>Sale_Type</th>\n",
       "      <th>Sale_Condition</th>\n",
       "      <th>Sale_Price</th>\n",
       "    </tr>\n",
       "  </thead>\n",
       "  <tbody>\n",
       "    <tr>\n",
       "      <th>0</th>\n",
       "      <td>1</td>\n",
       "      <td>60</td>\n",
       "      <td>RLD</td>\n",
       "      <td>65.0</td>\n",
       "      <td>8450</td>\n",
       "      <td>Paved</td>\n",
       "      <td>NaN</td>\n",
       "      <td>Reg</td>\n",
       "      <td>Lvl</td>\n",
       "      <td>AllPub</td>\n",
       "      <td>...</td>\n",
       "      <td>0</td>\n",
       "      <td>NaN</td>\n",
       "      <td>NaN</td>\n",
       "      <td>NaN</td>\n",
       "      <td>0</td>\n",
       "      <td>2</td>\n",
       "      <td>2008</td>\n",
       "      <td>WD</td>\n",
       "      <td>Normal</td>\n",
       "      <td>208500</td>\n",
       "    </tr>\n",
       "    <tr>\n",
       "      <th>1</th>\n",
       "      <td>2</td>\n",
       "      <td>20</td>\n",
       "      <td>RLD</td>\n",
       "      <td>80.0</td>\n",
       "      <td>9600</td>\n",
       "      <td>Paved</td>\n",
       "      <td>NaN</td>\n",
       "      <td>Reg</td>\n",
       "      <td>Lvl</td>\n",
       "      <td>AllPub</td>\n",
       "      <td>...</td>\n",
       "      <td>0</td>\n",
       "      <td>NaN</td>\n",
       "      <td>NaN</td>\n",
       "      <td>NaN</td>\n",
       "      <td>0</td>\n",
       "      <td>5</td>\n",
       "      <td>2007</td>\n",
       "      <td>WD</td>\n",
       "      <td>Normal</td>\n",
       "      <td>181500</td>\n",
       "    </tr>\n",
       "    <tr>\n",
       "      <th>2</th>\n",
       "      <td>3</td>\n",
       "      <td>60</td>\n",
       "      <td>RLD</td>\n",
       "      <td>68.0</td>\n",
       "      <td>11250</td>\n",
       "      <td>Paved</td>\n",
       "      <td>NaN</td>\n",
       "      <td>IR1</td>\n",
       "      <td>Lvl</td>\n",
       "      <td>AllPub</td>\n",
       "      <td>...</td>\n",
       "      <td>0</td>\n",
       "      <td>NaN</td>\n",
       "      <td>NaN</td>\n",
       "      <td>NaN</td>\n",
       "      <td>0</td>\n",
       "      <td>9</td>\n",
       "      <td>2008</td>\n",
       "      <td>WD</td>\n",
       "      <td>Normal</td>\n",
       "      <td>223500</td>\n",
       "    </tr>\n",
       "    <tr>\n",
       "      <th>3</th>\n",
       "      <td>4</td>\n",
       "      <td>70</td>\n",
       "      <td>RLD</td>\n",
       "      <td>60.0</td>\n",
       "      <td>9550</td>\n",
       "      <td>Paved</td>\n",
       "      <td>NaN</td>\n",
       "      <td>IR1</td>\n",
       "      <td>Lvl</td>\n",
       "      <td>AllPub</td>\n",
       "      <td>...</td>\n",
       "      <td>0</td>\n",
       "      <td>NaN</td>\n",
       "      <td>NaN</td>\n",
       "      <td>NaN</td>\n",
       "      <td>0</td>\n",
       "      <td>2</td>\n",
       "      <td>2006</td>\n",
       "      <td>WD</td>\n",
       "      <td>Abnorml</td>\n",
       "      <td>140000</td>\n",
       "    </tr>\n",
       "    <tr>\n",
       "      <th>4</th>\n",
       "      <td>5</td>\n",
       "      <td>60</td>\n",
       "      <td>RLD</td>\n",
       "      <td>84.0</td>\n",
       "      <td>14260</td>\n",
       "      <td>Paved</td>\n",
       "      <td>NaN</td>\n",
       "      <td>IR1</td>\n",
       "      <td>Lvl</td>\n",
       "      <td>AllPub</td>\n",
       "      <td>...</td>\n",
       "      <td>0</td>\n",
       "      <td>NaN</td>\n",
       "      <td>NaN</td>\n",
       "      <td>NaN</td>\n",
       "      <td>0</td>\n",
       "      <td>12</td>\n",
       "      <td>2008</td>\n",
       "      <td>WD</td>\n",
       "      <td>Normal</td>\n",
       "      <td>250000</td>\n",
       "    </tr>\n",
       "  </tbody>\n",
       "</table>\n",
       "<p>5 rows × 81 columns</p>\n",
       "</div>"
      ],
      "text/plain": [
       "   Id  Building_Class Zoning_Class  Lot_Extent  Lot_Size Road_Type Lane_Type  \\\n",
       "0   1              60          RLD        65.0      8450     Paved       NaN   \n",
       "1   2              20          RLD        80.0      9600     Paved       NaN   \n",
       "2   3              60          RLD        68.0     11250     Paved       NaN   \n",
       "3   4              70          RLD        60.0      9550     Paved       NaN   \n",
       "4   5              60          RLD        84.0     14260     Paved       NaN   \n",
       "\n",
       "  Property_Shape Land_Outline Utility_Type  ... Pool_Area Pool_Quality  \\\n",
       "0            Reg          Lvl       AllPub  ...         0          NaN   \n",
       "1            Reg          Lvl       AllPub  ...         0          NaN   \n",
       "2            IR1          Lvl       AllPub  ...         0          NaN   \n",
       "3            IR1          Lvl       AllPub  ...         0          NaN   \n",
       "4            IR1          Lvl       AllPub  ...         0          NaN   \n",
       "\n",
       "  Fence_Quality Miscellaneous_Feature Miscellaneous_Value Month_Sold  \\\n",
       "0           NaN                   NaN                   0          2   \n",
       "1           NaN                   NaN                   0          5   \n",
       "2           NaN                   NaN                   0          9   \n",
       "3           NaN                   NaN                   0          2   \n",
       "4           NaN                   NaN                   0         12   \n",
       "\n",
       "  Year_Sold  Sale_Type  Sale_Condition  Sale_Price  \n",
       "0      2008         WD          Normal      208500  \n",
       "1      2007         WD          Normal      181500  \n",
       "2      2008         WD          Normal      223500  \n",
       "3      2006         WD         Abnorml      140000  \n",
       "4      2008         WD          Normal      250000  \n",
       "\n",
       "[5 rows x 81 columns]"
      ]
     },
     "execution_count": 3,
     "metadata": {},
     "output_type": "execute_result"
    }
   ],
   "source": [
    "import pandas as pd\n",
    "\n",
    "pa = pd.read_csv(\"Property_Price_Train.csv\")\n",
    "\n",
    "pa.head()"
   ]
  },
  {
   "cell_type": "code",
   "execution_count": 4,
   "id": "6d91bd5d",
   "metadata": {},
   "outputs": [
    {
     "data": {
      "text/plain": [
       "(1459, 81)"
      ]
     },
     "execution_count": 4,
     "metadata": {},
     "output_type": "execute_result"
    }
   ],
   "source": [
    "pa.shape"
   ]
  },
  {
   "cell_type": "code",
   "execution_count": 10,
   "id": "a69ac866",
   "metadata": {},
   "outputs": [],
   "source": [
    "pd.options.display.max_rows = None"
   ]
  },
  {
   "cell_type": "code",
   "execution_count": 11,
   "id": "4e0f5bf6",
   "metadata": {},
   "outputs": [
    {
     "data": {
      "text/plain": [
       "Id                              0\n",
       "Building_Class                  0\n",
       "Zoning_Class                    0\n",
       "Lot_Extent                    259\n",
       "Lot_Size                        0\n",
       "Road_Type                       0\n",
       "Lane_Type                    1368\n",
       "Property_Shape                  0\n",
       "Land_Outline                    0\n",
       "Utility_Type                    0\n",
       "Lot_Configuration               0\n",
       "Property_Slope                  0\n",
       "Neighborhood                    0\n",
       "Condition1                      0\n",
       "Condition2                      0\n",
       "House_Type                      0\n",
       "House_Design                    0\n",
       "Overall_Material                0\n",
       "House_Condition                 0\n",
       "Construction_Year               0\n",
       "Remodel_Year                    0\n",
       "Roof_Design                     0\n",
       "Roof_Quality                    0\n",
       "Exterior1st                     0\n",
       "Exterior2nd                     0\n",
       "Brick_Veneer_Type               8\n",
       "Brick_Veneer_Area               8\n",
       "Exterior_Material               0\n",
       "Exterior_Condition              0\n",
       "Foundation_Type                 0\n",
       "Basement_Height                37\n",
       "Basement_Condition             37\n",
       "Exposure_Level                 38\n",
       "BsmtFinType1                   37\n",
       "BsmtFinSF1                      0\n",
       "BsmtFinType2                   38\n",
       "BsmtFinSF2                      0\n",
       "BsmtUnfSF                       0\n",
       "Total_Basement_Area             0\n",
       "Heating_Type                    0\n",
       "Heating_Quality                 0\n",
       "Air_Conditioning                0\n",
       "Electrical_System               1\n",
       "First_Floor_Area                0\n",
       "Second_Floor_Area               0\n",
       "LowQualFinSF                    0\n",
       "Grade_Living_Area               0\n",
       "Underground_Full_Bathroom       0\n",
       "Underground_Half_Bathroom       0\n",
       "Full_Bathroom_Above_Grade       0\n",
       "Half_Bathroom_Above_Grade       0\n",
       "Bedroom_Above_Grade             0\n",
       "Kitchen_Above_Grade             0\n",
       "Kitchen_Quality                 0\n",
       "Rooms_Above_Grade               0\n",
       "Functional_Rate                 0\n",
       "Fireplaces                      0\n",
       "Fireplace_Quality             689\n",
       "Garage                         81\n",
       "Garage_Built_Year              81\n",
       "Garage_Finish_Year             81\n",
       "Garage_Size                     0\n",
       "Garage_Area                     0\n",
       "Garage_Quality                 81\n",
       "Garage_Condition               81\n",
       "Pavedd_Drive                    0\n",
       "W_Deck_Area                     0\n",
       "Open_Lobby_Area                 0\n",
       "Enclosed_Lobby_Area             0\n",
       "Three_Season_Lobby_Area         0\n",
       "Screen_Lobby_Area               0\n",
       "Pool_Area                       0\n",
       "Pool_Quality                 1452\n",
       "Fence_Quality                1178\n",
       "Miscellaneous_Feature        1405\n",
       "Miscellaneous_Value             0\n",
       "Month_Sold                      0\n",
       "Year_Sold                       0\n",
       "Sale_Type                       0\n",
       "Sale_Condition                  0\n",
       "Sale_Price                      0\n",
       "dtype: int64"
      ]
     },
     "execution_count": 11,
     "metadata": {},
     "output_type": "execute_result"
    }
   ],
   "source": [
    "pa.isnull().sum()"
   ]
  },
  {
   "cell_type": "code",
   "execution_count": 13,
   "id": "d9f94667",
   "metadata": {},
   "outputs": [
    {
     "data": {
      "text/plain": [
       "Id                            0.000000\n",
       "Building_Class                0.000000\n",
       "Zoning_Class                  0.000000\n",
       "Lot_Extent                   17.751885\n",
       "Lot_Size                      0.000000\n",
       "Road_Type                     0.000000\n",
       "Lane_Type                    93.762851\n",
       "Property_Shape                0.000000\n",
       "Land_Outline                  0.000000\n",
       "Utility_Type                  0.000000\n",
       "Lot_Configuration             0.000000\n",
       "Property_Slope                0.000000\n",
       "Neighborhood                  0.000000\n",
       "Condition1                    0.000000\n",
       "Condition2                    0.000000\n",
       "House_Type                    0.000000\n",
       "House_Design                  0.000000\n",
       "Overall_Material              0.000000\n",
       "House_Condition               0.000000\n",
       "Construction_Year             0.000000\n",
       "Remodel_Year                  0.000000\n",
       "Roof_Design                   0.000000\n",
       "Roof_Quality                  0.000000\n",
       "Exterior1st                   0.000000\n",
       "Exterior2nd                   0.000000\n",
       "Brick_Veneer_Type             0.548321\n",
       "Brick_Veneer_Area             0.548321\n",
       "Exterior_Material             0.000000\n",
       "Exterior_Condition            0.000000\n",
       "Foundation_Type               0.000000\n",
       "Basement_Height               2.535984\n",
       "Basement_Condition            2.535984\n",
       "Exposure_Level                2.604524\n",
       "BsmtFinType1                  2.535984\n",
       "BsmtFinSF1                    0.000000\n",
       "BsmtFinType2                  2.604524\n",
       "BsmtFinSF2                    0.000000\n",
       "BsmtUnfSF                     0.000000\n",
       "Total_Basement_Area           0.000000\n",
       "Heating_Type                  0.000000\n",
       "Heating_Quality               0.000000\n",
       "Air_Conditioning              0.000000\n",
       "Electrical_System             0.068540\n",
       "First_Floor_Area              0.000000\n",
       "Second_Floor_Area             0.000000\n",
       "LowQualFinSF                  0.000000\n",
       "Grade_Living_Area             0.000000\n",
       "Underground_Full_Bathroom     0.000000\n",
       "Underground_Half_Bathroom     0.000000\n",
       "Full_Bathroom_Above_Grade     0.000000\n",
       "Half_Bathroom_Above_Grade     0.000000\n",
       "Bedroom_Above_Grade           0.000000\n",
       "Kitchen_Above_Grade           0.000000\n",
       "Kitchen_Quality               0.000000\n",
       "Rooms_Above_Grade             0.000000\n",
       "Functional_Rate               0.000000\n",
       "Fireplaces                    0.000000\n",
       "Fireplace_Quality            47.224126\n",
       "Garage                        5.551748\n",
       "Garage_Built_Year             5.551748\n",
       "Garage_Finish_Year            5.551748\n",
       "Garage_Size                   0.000000\n",
       "Garage_Area                   0.000000\n",
       "Garage_Quality                5.551748\n",
       "Garage_Condition              5.551748\n",
       "Pavedd_Drive                  0.000000\n",
       "W_Deck_Area                   0.000000\n",
       "Open_Lobby_Area               0.000000\n",
       "Enclosed_Lobby_Area           0.000000\n",
       "Three_Season_Lobby_Area       0.000000\n",
       "Screen_Lobby_Area             0.000000\n",
       "Pool_Area                     0.000000\n",
       "Pool_Quality                 99.520219\n",
       "Fence_Quality                80.740233\n",
       "Miscellaneous_Feature        96.298835\n",
       "Miscellaneous_Value           0.000000\n",
       "Month_Sold                    0.000000\n",
       "Year_Sold                     0.000000\n",
       "Sale_Type                     0.000000\n",
       "Sale_Condition                0.000000\n",
       "Sale_Price                    0.000000\n",
       "dtype: float64"
      ]
     },
     "execution_count": 13,
     "metadata": {},
     "output_type": "execute_result"
    }
   ],
   "source": [
    "pa.isnull().sum() * 100 / pa.shape[0] *100"
   ]
  },
  {
   "cell_type": "code",
   "execution_count": 15,
   "id": "9d24de45",
   "metadata": {},
   "outputs": [
    {
     "data": {
      "text/plain": [
       "Index(['Lane_Type', 'Fireplace_Quality', 'Pool_Quality', 'Fence_Quality',\n",
       "       'Miscellaneous_Feature'],\n",
       "      dtype='object')"
      ]
     },
     "execution_count": 15,
     "metadata": {},
     "output_type": "execute_result"
    }
   ],
   "source": [
    "pa.columns[pa.isnull().sum() * 100 / pa.shape[0] > 40]"
   ]
  },
  {
   "cell_type": "code",
   "execution_count": 16,
   "id": "39b81319",
   "metadata": {},
   "outputs": [],
   "source": [
    "pa = pa.drop(['Lane_Type', 'Fireplace_Quality', 'Pool_Quality', 'Fence_Quality',\n",
    "       'Miscellaneous_Feature', 'Id'], axis = 1)"
   ]
  },
  {
   "cell_type": "code",
   "execution_count": 17,
   "id": "1a57b479",
   "metadata": {},
   "outputs": [
    {
     "data": {
      "text/plain": [
       "Index(['Lot_Extent', 'Brick_Veneer_Type', 'Brick_Veneer_Area',\n",
       "       'Basement_Height', 'Basement_Condition', 'Exposure_Level',\n",
       "       'BsmtFinType1', 'BsmtFinType2', 'Electrical_System', 'Garage',\n",
       "       'Garage_Built_Year', 'Garage_Finish_Year', 'Garage_Quality',\n",
       "       'Garage_Condition'],\n",
       "      dtype='object')"
      ]
     },
     "execution_count": 17,
     "metadata": {},
     "output_type": "execute_result"
    }
   ],
   "source": [
    "pa.columns[pa.isnull().sum() * 100 / pa.shape[0] > 0]"
   ]
  },
  {
   "cell_type": "code",
   "execution_count": 21,
   "id": "35e2e800",
   "metadata": {},
   "outputs": [],
   "source": [
    "pa.Lot_Extent.fillna(pa.Lot_Extent.mean(), inplace = True)\n",
    "pa.Brick_Veneer_Type.fillna('None', inplace = True)\n",
    "pa.Brick_Veneer_Area.fillna(pa.Brick_Veneer_Area.mean(), inplace = True)\n",
    "pa.Basement_Height.fillna('TA', inplace = True)\n",
    "pa.Basement_Condition.fillna('TA', inplace = True)\n",
    "pa.Exposure_Level.fillna('No', inplace = True)\n",
    "pa.BsmtFinType1.fillna('Unf', inplace = True)\n",
    "pa.BsmtFinType2.fillna('Unf', inplace = True)\n",
    "pa.Electrical_System.fillna('S8rkr', inplace = True)\n",
    "pa.Garage.fillna('Attchd', inplace = True)\n",
    "pa.Garage_Built_Year.fillna(pa.Garage_Built_Year.mean(), inplace = True)\n",
    "pa.Garage_Finish_Year.fillna('Unf', inplace = True)\n",
    "pa.Garage_Quality.fillna('TA', inplace = True)\n",
    "pa.Garage_Condition.fillna('TA', inplace = True)"
   ]
  },
  {
   "cell_type": "code",
   "execution_count": 23,
   "id": "6094ef23",
   "metadata": {},
   "outputs": [
    {
     "data": {
      "text/plain": [
       "Building_Class               0\n",
       "Zoning_Class                 0\n",
       "Lot_Extent                   0\n",
       "Lot_Size                     0\n",
       "Road_Type                    0\n",
       "Property_Shape               0\n",
       "Land_Outline                 0\n",
       "Utility_Type                 0\n",
       "Lot_Configuration            0\n",
       "Property_Slope               0\n",
       "Neighborhood                 0\n",
       "Condition1                   0\n",
       "Condition2                   0\n",
       "House_Type                   0\n",
       "House_Design                 0\n",
       "Overall_Material             0\n",
       "House_Condition              0\n",
       "Construction_Year            0\n",
       "Remodel_Year                 0\n",
       "Roof_Design                  0\n",
       "Roof_Quality                 0\n",
       "Exterior1st                  0\n",
       "Exterior2nd                  0\n",
       "Brick_Veneer_Type            0\n",
       "Brick_Veneer_Area            0\n",
       "Exterior_Material            0\n",
       "Exterior_Condition           0\n",
       "Foundation_Type              0\n",
       "Basement_Height              0\n",
       "Basement_Condition           0\n",
       "Exposure_Level               0\n",
       "BsmtFinType1                 0\n",
       "BsmtFinSF1                   0\n",
       "BsmtFinType2                 0\n",
       "BsmtFinSF2                   0\n",
       "BsmtUnfSF                    0\n",
       "Total_Basement_Area          0\n",
       "Heating_Type                 0\n",
       "Heating_Quality              0\n",
       "Air_Conditioning             0\n",
       "Electrical_System            0\n",
       "First_Floor_Area             0\n",
       "Second_Floor_Area            0\n",
       "LowQualFinSF                 0\n",
       "Grade_Living_Area            0\n",
       "Underground_Full_Bathroom    0\n",
       "Underground_Half_Bathroom    0\n",
       "Full_Bathroom_Above_Grade    0\n",
       "Half_Bathroom_Above_Grade    0\n",
       "Bedroom_Above_Grade          0\n",
       "Kitchen_Above_Grade          0\n",
       "Kitchen_Quality              0\n",
       "Rooms_Above_Grade            0\n",
       "Functional_Rate              0\n",
       "Fireplaces                   0\n",
       "Garage                       0\n",
       "Garage_Built_Year            0\n",
       "Garage_Finish_Year           0\n",
       "Garage_Size                  0\n",
       "Garage_Area                  0\n",
       "Garage_Quality               0\n",
       "Garage_Condition             0\n",
       "Pavedd_Drive                 0\n",
       "W_Deck_Area                  0\n",
       "Open_Lobby_Area              0\n",
       "Enclosed_Lobby_Area          0\n",
       "Three_Season_Lobby_Area      0\n",
       "Screen_Lobby_Area            0\n",
       "Pool_Area                    0\n",
       "Miscellaneous_Value          0\n",
       "Month_Sold                   0\n",
       "Year_Sold                    0\n",
       "Sale_Type                    0\n",
       "Sale_Condition               0\n",
       "Sale_Price                   0\n",
       "dtype: int64"
      ]
     },
     "execution_count": 23,
     "metadata": {},
     "output_type": "execute_result"
    }
   ],
   "source": [
    "pa.isnull().sum()"
   ]
  },
  {
   "cell_type": "code",
   "execution_count": 2,
   "id": "8e97762a",
   "metadata": {},
   "outputs": [
    {
     "ename": "NameError",
     "evalue": "name 'pa' is not defined",
     "output_type": "error",
     "traceback": [
      "\u001b[1;31m---------------------------------------------------------------------------\u001b[0m",
      "\u001b[1;31mNameError\u001b[0m                                 Traceback (most recent call last)",
      "\u001b[1;32m<ipython-input-2-2542af9b96bf>\u001b[0m in \u001b[0;36m<module>\u001b[1;34m\u001b[0m\n\u001b[1;32m----> 1\u001b[1;33m \u001b[0mpa\u001b[0m\u001b[1;33m.\u001b[0m\u001b[0mcolumns\u001b[0m \u001b[1;33m[\u001b[0m\u001b[0mpa\u001b[0m\u001b[1;33m.\u001b[0m\u001b[0misnull\u001b[0m\u001b[1;33m(\u001b[0m\u001b[1;33m)\u001b[0m\u001b[1;33m.\u001b[0m\u001b[0msum\u001b[0m\u001b[1;33m(\u001b[0m\u001b[1;33m)\u001b[0m \u001b[1;33m]\u001b[0m\u001b[1;33m\u001b[0m\u001b[1;33m\u001b[0m\u001b[0m\n\u001b[0m",
      "\u001b[1;31mNameError\u001b[0m: name 'pa' is not defined"
     ]
    }
   ],
   "source": [
    "pa.columns [pa.isnull().sum() ]"
   ]
  },
  {
   "cell_type": "code",
   "execution_count": 26,
   "id": "e1d0648e",
   "metadata": {},
   "outputs": [],
   "source": [
    "#pa.info() <- Switch Coulmn dtypes from object to non-object"
   ]
  },
  {
   "cell_type": "code",
   "execution_count": 27,
   "id": "0ac43f8f",
   "metadata": {},
   "outputs": [],
   "source": [
    "from sklearn.preprocessing import LabelEncoder\n",
    "\n",
    "le = LabelEncoder()"
   ]
  },
  {
   "cell_type": "code",
   "execution_count": 28,
   "id": "e623df59",
   "metadata": {},
   "outputs": [],
   "source": [
    "pa[pa.select_dtypes(include = ['object']).columns] = pa[pa.select_dtypes(include = ['object']).columns].apply(le.fit_transform)"
   ]
  },
  {
   "cell_type": "code",
   "execution_count": 29,
   "id": "2d2899e5",
   "metadata": {},
   "outputs": [
    {
     "name": "stdout",
     "output_type": "stream",
     "text": [
      "<class 'pandas.core.frame.DataFrame'>\n",
      "RangeIndex: 1459 entries, 0 to 1458\n",
      "Data columns (total 75 columns):\n",
      " #   Column                     Non-Null Count  Dtype  \n",
      "---  ------                     --------------  -----  \n",
      " 0   Building_Class             1459 non-null   int64  \n",
      " 1   Zoning_Class               1459 non-null   int32  \n",
      " 2   Lot_Extent                 1459 non-null   float64\n",
      " 3   Lot_Size                   1459 non-null   int64  \n",
      " 4   Road_Type                  1459 non-null   int32  \n",
      " 5   Property_Shape             1459 non-null   int32  \n",
      " 6   Land_Outline               1459 non-null   int32  \n",
      " 7   Utility_Type               1459 non-null   int32  \n",
      " 8   Lot_Configuration          1459 non-null   int32  \n",
      " 9   Property_Slope             1459 non-null   int32  \n",
      " 10  Neighborhood               1459 non-null   int32  \n",
      " 11  Condition1                 1459 non-null   int32  \n",
      " 12  Condition2                 1459 non-null   int32  \n",
      " 13  House_Type                 1459 non-null   int32  \n",
      " 14  House_Design               1459 non-null   int32  \n",
      " 15  Overall_Material           1459 non-null   int64  \n",
      " 16  House_Condition            1459 non-null   int64  \n",
      " 17  Construction_Year          1459 non-null   int64  \n",
      " 18  Remodel_Year               1459 non-null   int64  \n",
      " 19  Roof_Design                1459 non-null   int32  \n",
      " 20  Roof_Quality               1459 non-null   int32  \n",
      " 21  Exterior1st                1459 non-null   int32  \n",
      " 22  Exterior2nd                1459 non-null   int32  \n",
      " 23  Brick_Veneer_Type          1459 non-null   int32  \n",
      " 24  Brick_Veneer_Area          1459 non-null   float64\n",
      " 25  Exterior_Material          1459 non-null   int32  \n",
      " 26  Exterior_Condition         1459 non-null   int32  \n",
      " 27  Foundation_Type            1459 non-null   int32  \n",
      " 28  Basement_Height            1459 non-null   int32  \n",
      " 29  Basement_Condition         1459 non-null   int32  \n",
      " 30  Exposure_Level             1459 non-null   int32  \n",
      " 31  BsmtFinType1               1459 non-null   int32  \n",
      " 32  BsmtFinSF1                 1459 non-null   int64  \n",
      " 33  BsmtFinType2               1459 non-null   int32  \n",
      " 34  BsmtFinSF2                 1459 non-null   int64  \n",
      " 35  BsmtUnfSF                  1459 non-null   int64  \n",
      " 36  Total_Basement_Area        1459 non-null   int64  \n",
      " 37  Heating_Type               1459 non-null   int32  \n",
      " 38  Heating_Quality            1459 non-null   int32  \n",
      " 39  Air_Conditioning           1459 non-null   int32  \n",
      " 40  Electrical_System          1459 non-null   int32  \n",
      " 41  First_Floor_Area           1459 non-null   int64  \n",
      " 42  Second_Floor_Area          1459 non-null   int64  \n",
      " 43  LowQualFinSF               1459 non-null   int64  \n",
      " 44  Grade_Living_Area          1459 non-null   int64  \n",
      " 45  Underground_Full_Bathroom  1459 non-null   int64  \n",
      " 46  Underground_Half_Bathroom  1459 non-null   int64  \n",
      " 47  Full_Bathroom_Above_Grade  1459 non-null   int64  \n",
      " 48  Half_Bathroom_Above_Grade  1459 non-null   int64  \n",
      " 49  Bedroom_Above_Grade        1459 non-null   int64  \n",
      " 50  Kitchen_Above_Grade        1459 non-null   int64  \n",
      " 51  Kitchen_Quality            1459 non-null   int32  \n",
      " 52  Rooms_Above_Grade          1459 non-null   int64  \n",
      " 53  Functional_Rate            1459 non-null   int32  \n",
      " 54  Fireplaces                 1459 non-null   int64  \n",
      " 55  Garage                     1459 non-null   int32  \n",
      " 56  Garage_Built_Year          1459 non-null   float64\n",
      " 57  Garage_Finish_Year         1459 non-null   int32  \n",
      " 58  Garage_Size                1459 non-null   int64  \n",
      " 59  Garage_Area                1459 non-null   float64\n",
      " 60  Garage_Quality             1459 non-null   int32  \n",
      " 61  Garage_Condition           1459 non-null   int32  \n",
      " 62  Pavedd_Drive               1459 non-null   int32  \n",
      " 63  W_Deck_Area                1459 non-null   float64\n",
      " 64  Open_Lobby_Area            1459 non-null   float64\n",
      " 65  Enclosed_Lobby_Area        1459 non-null   float64\n",
      " 66  Three_Season_Lobby_Area    1459 non-null   int64  \n",
      " 67  Screen_Lobby_Area          1459 non-null   int64  \n",
      " 68  Pool_Area                  1459 non-null   int64  \n",
      " 69  Miscellaneous_Value        1459 non-null   int64  \n",
      " 70  Month_Sold                 1459 non-null   int64  \n",
      " 71  Year_Sold                  1459 non-null   int64  \n",
      " 72  Sale_Type                  1459 non-null   int32  \n",
      " 73  Sale_Condition             1459 non-null   int32  \n",
      " 74  Sale_Price                 1459 non-null   int64  \n",
      "dtypes: float64(7), int32(38), int64(30)\n",
      "memory usage: 638.4 KB\n"
     ]
    }
   ],
   "source": [
    "pa.info()"
   ]
  },
  {
   "cell_type": "code",
   "execution_count": 35,
   "id": "c30122b7",
   "metadata": {},
   "outputs": [
    {
     "data": {
      "text/plain": [
       "75"
      ]
     },
     "execution_count": 35,
     "metadata": {},
     "output_type": "execute_result"
    }
   ],
   "source": [
    "len(pa.columns[pa.dtypes != 'object']) # <- to check non object cols "
   ]
  },
  {
   "cell_type": "code",
   "execution_count": 41,
   "id": "de3f99c1",
   "metadata": {},
   "outputs": [],
   "source": [
    "# SAMPLING\n",
    "\n",
    "from sklearn.model_selection import train_test_split\n",
    "\n",
    "pa_train, pa_test = train_test_split(pa, test_size=0.2)"
   ]
  },
  {
   "cell_type": "code",
   "execution_count": 42,
   "id": "dd2d00dc",
   "metadata": {},
   "outputs": [
    {
     "data": {
      "text/html": [
       "<div>\n",
       "<style scoped>\n",
       "    .dataframe tbody tr th:only-of-type {\n",
       "        vertical-align: middle;\n",
       "    }\n",
       "\n",
       "    .dataframe tbody tr th {\n",
       "        vertical-align: top;\n",
       "    }\n",
       "\n",
       "    .dataframe thead th {\n",
       "        text-align: right;\n",
       "    }\n",
       "</style>\n",
       "<table border=\"1\" class=\"dataframe\">\n",
       "  <thead>\n",
       "    <tr style=\"text-align: right;\">\n",
       "      <th></th>\n",
       "      <th>Building_Class</th>\n",
       "      <th>Zoning_Class</th>\n",
       "      <th>Lot_Extent</th>\n",
       "      <th>Lot_Size</th>\n",
       "      <th>Road_Type</th>\n",
       "      <th>Property_Shape</th>\n",
       "      <th>Land_Outline</th>\n",
       "      <th>Utility_Type</th>\n",
       "      <th>Lot_Configuration</th>\n",
       "      <th>Property_Slope</th>\n",
       "      <th>...</th>\n",
       "      <th>Enclosed_Lobby_Area</th>\n",
       "      <th>Three_Season_Lobby_Area</th>\n",
       "      <th>Screen_Lobby_Area</th>\n",
       "      <th>Pool_Area</th>\n",
       "      <th>Miscellaneous_Value</th>\n",
       "      <th>Month_Sold</th>\n",
       "      <th>Year_Sold</th>\n",
       "      <th>Sale_Type</th>\n",
       "      <th>Sale_Condition</th>\n",
       "      <th>Sale_Price</th>\n",
       "    </tr>\n",
       "  </thead>\n",
       "  <tbody>\n",
       "    <tr>\n",
       "      <th>851</th>\n",
       "      <td>120</td>\n",
       "      <td>3</td>\n",
       "      <td>70.045833</td>\n",
       "      <td>3196</td>\n",
       "      <td>1</td>\n",
       "      <td>3</td>\n",
       "      <td>3</td>\n",
       "      <td>0</td>\n",
       "      <td>4</td>\n",
       "      <td>0</td>\n",
       "      <td>...</td>\n",
       "      <td>22.419169</td>\n",
       "      <td>0</td>\n",
       "      <td>0</td>\n",
       "      <td>0</td>\n",
       "      <td>0</td>\n",
       "      <td>5</td>\n",
       "      <td>2006</td>\n",
       "      <td>8</td>\n",
       "      <td>4</td>\n",
       "      <td>215000</td>\n",
       "    </tr>\n",
       "    <tr>\n",
       "      <th>291</th>\n",
       "      <td>190</td>\n",
       "      <td>3</td>\n",
       "      <td>55.000000</td>\n",
       "      <td>5687</td>\n",
       "      <td>1</td>\n",
       "      <td>3</td>\n",
       "      <td>0</td>\n",
       "      <td>0</td>\n",
       "      <td>4</td>\n",
       "      <td>0</td>\n",
       "      <td>...</td>\n",
       "      <td>83.673673</td>\n",
       "      <td>0</td>\n",
       "      <td>0</td>\n",
       "      <td>0</td>\n",
       "      <td>0</td>\n",
       "      <td>3</td>\n",
       "      <td>2008</td>\n",
       "      <td>8</td>\n",
       "      <td>4</td>\n",
       "      <td>135900</td>\n",
       "    </tr>\n",
       "    <tr>\n",
       "      <th>554</th>\n",
       "      <td>60</td>\n",
       "      <td>3</td>\n",
       "      <td>85.000000</td>\n",
       "      <td>10625</td>\n",
       "      <td>1</td>\n",
       "      <td>3</td>\n",
       "      <td>3</td>\n",
       "      <td>0</td>\n",
       "      <td>4</td>\n",
       "      <td>0</td>\n",
       "      <td>...</td>\n",
       "      <td>145.791628</td>\n",
       "      <td>0</td>\n",
       "      <td>0</td>\n",
       "      <td>0</td>\n",
       "      <td>0</td>\n",
       "      <td>8</td>\n",
       "      <td>2008</td>\n",
       "      <td>8</td>\n",
       "      <td>4</td>\n",
       "      <td>284000</td>\n",
       "    </tr>\n",
       "    <tr>\n",
       "      <th>956</th>\n",
       "      <td>160</td>\n",
       "      <td>4</td>\n",
       "      <td>24.000000</td>\n",
       "      <td>1300</td>\n",
       "      <td>1</td>\n",
       "      <td>3</td>\n",
       "      <td>3</td>\n",
       "      <td>0</td>\n",
       "      <td>4</td>\n",
       "      <td>0</td>\n",
       "      <td>...</td>\n",
       "      <td>-55.163491</td>\n",
       "      <td>0</td>\n",
       "      <td>0</td>\n",
       "      <td>0</td>\n",
       "      <td>0</td>\n",
       "      <td>5</td>\n",
       "      <td>2009</td>\n",
       "      <td>8</td>\n",
       "      <td>4</td>\n",
       "      <td>124000</td>\n",
       "    </tr>\n",
       "    <tr>\n",
       "      <th>12</th>\n",
       "      <td>20</td>\n",
       "      <td>3</td>\n",
       "      <td>70.045833</td>\n",
       "      <td>12968</td>\n",
       "      <td>1</td>\n",
       "      <td>1</td>\n",
       "      <td>3</td>\n",
       "      <td>0</td>\n",
       "      <td>4</td>\n",
       "      <td>0</td>\n",
       "      <td>...</td>\n",
       "      <td>19.654410</td>\n",
       "      <td>0</td>\n",
       "      <td>176</td>\n",
       "      <td>0</td>\n",
       "      <td>0</td>\n",
       "      <td>9</td>\n",
       "      <td>2008</td>\n",
       "      <td>8</td>\n",
       "      <td>4</td>\n",
       "      <td>144000</td>\n",
       "    </tr>\n",
       "  </tbody>\n",
       "</table>\n",
       "<p>5 rows × 75 columns</p>\n",
       "</div>"
      ],
      "text/plain": [
       "     Building_Class  Zoning_Class  Lot_Extent  Lot_Size  Road_Type  \\\n",
       "851             120             3   70.045833      3196          1   \n",
       "291             190             3   55.000000      5687          1   \n",
       "554              60             3   85.000000     10625          1   \n",
       "956             160             4   24.000000      1300          1   \n",
       "12               20             3   70.045833     12968          1   \n",
       "\n",
       "     Property_Shape  Land_Outline  Utility_Type  Lot_Configuration  \\\n",
       "851               3             3             0                  4   \n",
       "291               3             0             0                  4   \n",
       "554               3             3             0                  4   \n",
       "956               3             3             0                  4   \n",
       "12                1             3             0                  4   \n",
       "\n",
       "     Property_Slope  ...  Enclosed_Lobby_Area  Three_Season_Lobby_Area  \\\n",
       "851               0  ...            22.419169                        0   \n",
       "291               0  ...            83.673673                        0   \n",
       "554               0  ...           145.791628                        0   \n",
       "956               0  ...           -55.163491                        0   \n",
       "12                0  ...            19.654410                        0   \n",
       "\n",
       "     Screen_Lobby_Area  Pool_Area  Miscellaneous_Value  Month_Sold  Year_Sold  \\\n",
       "851                  0          0                    0           5       2006   \n",
       "291                  0          0                    0           3       2008   \n",
       "554                  0          0                    0           8       2008   \n",
       "956                  0          0                    0           5       2009   \n",
       "12                 176          0                    0           9       2008   \n",
       "\n",
       "     Sale_Type  Sale_Condition  Sale_Price  \n",
       "851          8               4      215000  \n",
       "291          8               4      135900  \n",
       "554          8               4      284000  \n",
       "956          8               4      124000  \n",
       "12           8               4      144000  \n",
       "\n",
       "[5 rows x 75 columns]"
      ]
     },
     "execution_count": 42,
     "metadata": {},
     "output_type": "execute_result"
    }
   ],
   "source": [
    "pa_train.shape\n",
    "pa_train.head()\n",
    "pa_test.shape\n",
    "pa_test.head()"
   ]
  },
  {
   "cell_type": "code",
   "execution_count": 43,
   "id": "a3be8e49",
   "metadata": {},
   "outputs": [],
   "source": [
    "pa_train_x = pa_train.iloc[ : , 0:-1] \n",
    "pa_train_y = pa_train.iloc[ : , -1] "
   ]
  },
  {
   "cell_type": "code",
   "execution_count": 44,
   "id": "14d82edc",
   "metadata": {},
   "outputs": [],
   "source": [
    "pa_test_x = pa_test.iloc[ : , 0:-1] \n",
    "pa_test_y = pa_test.iloc[ : , -1] "
   ]
  },
  {
   "cell_type": "code",
   "execution_count": 71,
   "id": "5f04e971",
   "metadata": {},
   "outputs": [
    {
     "data": {
      "text/plain": [
       "LinearRegression()"
      ]
     },
     "execution_count": 71,
     "metadata": {},
     "output_type": "execute_result"
    }
   ],
   "source": [
    "# BUILD THE MODEL USING TRAIN DATA\n",
    "\n",
    "from sklearn.linear_model import LinearRegression\n",
    "\n",
    "reg_pa = LinearRegression()\n",
    "reg_pa.fit(pa_train_x, pa_train_y)"
   ]
  },
  {
   "cell_type": "code",
   "execution_count": 72,
   "id": "9858fe7c",
   "metadata": {},
   "outputs": [
    {
     "data": {
      "text/plain": [
       "0.8834828692147983"
      ]
     },
     "execution_count": 72,
     "metadata": {},
     "output_type": "execute_result"
    }
   ],
   "source": [
    "Rsquare = reg_pa.score(pa_train_x, pa_train_y)\n",
    "Rsquare"
   ]
  },
  {
   "cell_type": "code",
   "execution_count": 73,
   "id": "15d35aba",
   "metadata": {},
   "outputs": [],
   "source": [
    "N = pa_train_x.shape[0]\n",
    "K = pa_train_x.shape[1]\n",
    "\n",
    "AdjRsquare = 1 - (1-Rsquare)*(N-1)/(N-K-1)\n",
    "# AdjRsquare = 1 - ((Rsquare * (N - 1)) / (N-K-1))"
   ]
  },
  {
   "cell_type": "code",
   "execution_count": 74,
   "id": "3a4566c4",
   "metadata": {},
   "outputs": [
    {
     "data": {
      "text/plain": [
       "0.8755870196927242"
      ]
     },
     "execution_count": 74,
     "metadata": {},
     "output_type": "execute_result"
    }
   ],
   "source": [
    "AdjRsquare"
   ]
  },
  {
   "cell_type": "code",
   "execution_count": 75,
   "id": "8fd9f660",
   "metadata": {},
   "outputs": [
    {
     "data": {
      "text/plain": [
       "670157.23835797"
      ]
     },
     "execution_count": 75,
     "metadata": {},
     "output_type": "execute_result"
    }
   ],
   "source": [
    "reg_pa.intercept_"
   ]
  },
  {
   "cell_type": "code",
   "execution_count": 76,
   "id": "beb2a1f8",
   "metadata": {},
   "outputs": [
    {
     "data": {
      "text/plain": [
       "array([-9.48143875e+01, -1.48339549e+03,  1.89680050e+01,  4.73534838e-01,\n",
       "        5.62310103e+04, -3.52476348e+02,  1.94061848e+03, -3.30006037e+04,\n",
       "       -4.26756623e+02,  7.99864095e+03,  3.53090673e+02, -1.18470846e+03,\n",
       "       -1.34694946e+04, -1.65973987e+03, -5.83508324e+02,  9.31857387e+03,\n",
       "        5.89925813e+03,  2.38537416e+02,  1.65893097e+01,  1.26376088e+03,\n",
       "        3.62970687e+03, -5.36684236e+02,  4.03009698e+02,  2.53927297e+03,\n",
       "        2.12849772e+01, -6.95884387e+03,  2.33483221e+02,  1.82313020e+03,\n",
       "       -7.03045013e+03,  1.52057868e+03, -3.09899063e+03,  5.44469384e+02,\n",
       "        1.63739053e+01,  9.24085285e+02,  4.08863947e+00, -2.87213804e+00,\n",
       "        1.75904068e+01, -2.62579911e+03, -1.07866143e+03, -2.53441847e+03,\n",
       "       -2.48832621e+02,  2.35766936e+01,  2.46691635e+01, -1.82239178e+01,\n",
       "        3.00219392e+01,  2.52937374e+03, -2.31544841e+03, -1.43142052e+03,\n",
       "        1.36723394e+03, -4.02500037e+03, -9.62168911e+03, -8.71283399e+03,\n",
       "        1.79301531e+03,  2.29038752e+03,  4.84200315e+03,  3.85968822e+02,\n",
       "        8.42528840e+01, -3.83458360e+02,  6.51142206e+03,  1.29799870e+00,\n",
       "       -1.28745337e+03,  2.64996209e+03,  9.48064303e+02, -2.75910439e+00,\n",
       "        5.45711506e+00,  2.25592492e+01,  2.98213890e+01,  3.10483938e+01,\n",
       "        8.01088700e+01, -1.19031660e-01,  9.22491293e+01, -6.89412547e+02,\n",
       "       -9.09254796e+02,  3.10351075e+03])"
      ]
     },
     "execution_count": 76,
     "metadata": {},
     "output_type": "execute_result"
    }
   ],
   "source": [
    "reg_pa.coef_"
   ]
  },
  {
   "cell_type": "code",
   "execution_count": 77,
   "id": "c6856285",
   "metadata": {},
   "outputs": [
    {
     "data": {
      "text/html": [
       "<div>\n",
       "<style scoped>\n",
       "    .dataframe tbody tr th:only-of-type {\n",
       "        vertical-align: middle;\n",
       "    }\n",
       "\n",
       "    .dataframe tbody tr th {\n",
       "        vertical-align: top;\n",
       "    }\n",
       "\n",
       "    .dataframe thead th {\n",
       "        text-align: right;\n",
       "    }\n",
       "</style>\n",
       "<table border=\"1\" class=\"dataframe\">\n",
       "  <thead>\n",
       "    <tr style=\"text-align: right;\">\n",
       "      <th></th>\n",
       "      <th>Columns</th>\n",
       "      <th>Slope</th>\n",
       "    </tr>\n",
       "  </thead>\n",
       "  <tbody>\n",
       "    <tr>\n",
       "      <th>7</th>\n",
       "      <td>Utility_Type</td>\n",
       "      <td>-33000.603685</td>\n",
       "    </tr>\n",
       "    <tr>\n",
       "      <th>12</th>\n",
       "      <td>Condition2</td>\n",
       "      <td>-13469.494618</td>\n",
       "    </tr>\n",
       "    <tr>\n",
       "      <th>50</th>\n",
       "      <td>Kitchen_Above_Grade</td>\n",
       "      <td>-9621.689105</td>\n",
       "    </tr>\n",
       "    <tr>\n",
       "      <th>51</th>\n",
       "      <td>Kitchen_Quality</td>\n",
       "      <td>-8712.833993</td>\n",
       "    </tr>\n",
       "    <tr>\n",
       "      <th>28</th>\n",
       "      <td>Basement_Height</td>\n",
       "      <td>-7030.450132</td>\n",
       "    </tr>\n",
       "    <tr>\n",
       "      <th>25</th>\n",
       "      <td>Exterior_Material</td>\n",
       "      <td>-6958.843873</td>\n",
       "    </tr>\n",
       "    <tr>\n",
       "      <th>49</th>\n",
       "      <td>Bedroom_Above_Grade</td>\n",
       "      <td>-4025.000372</td>\n",
       "    </tr>\n",
       "    <tr>\n",
       "      <th>30</th>\n",
       "      <td>Exposure_Level</td>\n",
       "      <td>-3098.990633</td>\n",
       "    </tr>\n",
       "    <tr>\n",
       "      <th>37</th>\n",
       "      <td>Heating_Type</td>\n",
       "      <td>-2625.799106</td>\n",
       "    </tr>\n",
       "    <tr>\n",
       "      <th>39</th>\n",
       "      <td>Air_Conditioning</td>\n",
       "      <td>-2534.418471</td>\n",
       "    </tr>\n",
       "    <tr>\n",
       "      <th>46</th>\n",
       "      <td>Underground_Half_Bathroom</td>\n",
       "      <td>-2315.448406</td>\n",
       "    </tr>\n",
       "    <tr>\n",
       "      <th>13</th>\n",
       "      <td>House_Type</td>\n",
       "      <td>-1659.739870</td>\n",
       "    </tr>\n",
       "    <tr>\n",
       "      <th>1</th>\n",
       "      <td>Zoning_Class</td>\n",
       "      <td>-1483.395488</td>\n",
       "    </tr>\n",
       "    <tr>\n",
       "      <th>47</th>\n",
       "      <td>Full_Bathroom_Above_Grade</td>\n",
       "      <td>-1431.420524</td>\n",
       "    </tr>\n",
       "    <tr>\n",
       "      <th>60</th>\n",
       "      <td>Garage_Quality</td>\n",
       "      <td>-1287.453368</td>\n",
       "    </tr>\n",
       "    <tr>\n",
       "      <th>11</th>\n",
       "      <td>Condition1</td>\n",
       "      <td>-1184.708458</td>\n",
       "    </tr>\n",
       "    <tr>\n",
       "      <th>38</th>\n",
       "      <td>Heating_Quality</td>\n",
       "      <td>-1078.661433</td>\n",
       "    </tr>\n",
       "    <tr>\n",
       "      <th>72</th>\n",
       "      <td>Sale_Type</td>\n",
       "      <td>-909.254796</td>\n",
       "    </tr>\n",
       "    <tr>\n",
       "      <th>71</th>\n",
       "      <td>Year_Sold</td>\n",
       "      <td>-689.412547</td>\n",
       "    </tr>\n",
       "    <tr>\n",
       "      <th>14</th>\n",
       "      <td>House_Design</td>\n",
       "      <td>-583.508324</td>\n",
       "    </tr>\n",
       "    <tr>\n",
       "      <th>21</th>\n",
       "      <td>Exterior1st</td>\n",
       "      <td>-536.684236</td>\n",
       "    </tr>\n",
       "    <tr>\n",
       "      <th>8</th>\n",
       "      <td>Lot_Configuration</td>\n",
       "      <td>-426.756623</td>\n",
       "    </tr>\n",
       "    <tr>\n",
       "      <th>57</th>\n",
       "      <td>Garage_Finish_Year</td>\n",
       "      <td>-383.458360</td>\n",
       "    </tr>\n",
       "    <tr>\n",
       "      <th>5</th>\n",
       "      <td>Property_Shape</td>\n",
       "      <td>-352.476348</td>\n",
       "    </tr>\n",
       "    <tr>\n",
       "      <th>40</th>\n",
       "      <td>Electrical_System</td>\n",
       "      <td>-248.832621</td>\n",
       "    </tr>\n",
       "    <tr>\n",
       "      <th>0</th>\n",
       "      <td>Building_Class</td>\n",
       "      <td>-94.814388</td>\n",
       "    </tr>\n",
       "    <tr>\n",
       "      <th>43</th>\n",
       "      <td>LowQualFinSF</td>\n",
       "      <td>-18.223918</td>\n",
       "    </tr>\n",
       "    <tr>\n",
       "      <th>35</th>\n",
       "      <td>BsmtUnfSF</td>\n",
       "      <td>-2.872138</td>\n",
       "    </tr>\n",
       "    <tr>\n",
       "      <th>63</th>\n",
       "      <td>W_Deck_Area</td>\n",
       "      <td>-2.759104</td>\n",
       "    </tr>\n",
       "    <tr>\n",
       "      <th>69</th>\n",
       "      <td>Miscellaneous_Value</td>\n",
       "      <td>-0.119032</td>\n",
       "    </tr>\n",
       "    <tr>\n",
       "      <th>3</th>\n",
       "      <td>Lot_Size</td>\n",
       "      <td>0.473535</td>\n",
       "    </tr>\n",
       "    <tr>\n",
       "      <th>59</th>\n",
       "      <td>Garage_Area</td>\n",
       "      <td>1.297999</td>\n",
       "    </tr>\n",
       "    <tr>\n",
       "      <th>34</th>\n",
       "      <td>BsmtFinSF2</td>\n",
       "      <td>4.088639</td>\n",
       "    </tr>\n",
       "    <tr>\n",
       "      <th>64</th>\n",
       "      <td>Open_Lobby_Area</td>\n",
       "      <td>5.457115</td>\n",
       "    </tr>\n",
       "    <tr>\n",
       "      <th>32</th>\n",
       "      <td>BsmtFinSF1</td>\n",
       "      <td>16.373905</td>\n",
       "    </tr>\n",
       "    <tr>\n",
       "      <th>18</th>\n",
       "      <td>Remodel_Year</td>\n",
       "      <td>16.589310</td>\n",
       "    </tr>\n",
       "    <tr>\n",
       "      <th>36</th>\n",
       "      <td>Total_Basement_Area</td>\n",
       "      <td>17.590407</td>\n",
       "    </tr>\n",
       "    <tr>\n",
       "      <th>2</th>\n",
       "      <td>Lot_Extent</td>\n",
       "      <td>18.968005</td>\n",
       "    </tr>\n",
       "    <tr>\n",
       "      <th>24</th>\n",
       "      <td>Brick_Veneer_Area</td>\n",
       "      <td>21.284977</td>\n",
       "    </tr>\n",
       "    <tr>\n",
       "      <th>65</th>\n",
       "      <td>Enclosed_Lobby_Area</td>\n",
       "      <td>22.559249</td>\n",
       "    </tr>\n",
       "    <tr>\n",
       "      <th>41</th>\n",
       "      <td>First_Floor_Area</td>\n",
       "      <td>23.576694</td>\n",
       "    </tr>\n",
       "    <tr>\n",
       "      <th>42</th>\n",
       "      <td>Second_Floor_Area</td>\n",
       "      <td>24.669164</td>\n",
       "    </tr>\n",
       "    <tr>\n",
       "      <th>66</th>\n",
       "      <td>Three_Season_Lobby_Area</td>\n",
       "      <td>29.821389</td>\n",
       "    </tr>\n",
       "    <tr>\n",
       "      <th>44</th>\n",
       "      <td>Grade_Living_Area</td>\n",
       "      <td>30.021939</td>\n",
       "    </tr>\n",
       "    <tr>\n",
       "      <th>67</th>\n",
       "      <td>Screen_Lobby_Area</td>\n",
       "      <td>31.048394</td>\n",
       "    </tr>\n",
       "    <tr>\n",
       "      <th>68</th>\n",
       "      <td>Pool_Area</td>\n",
       "      <td>80.108870</td>\n",
       "    </tr>\n",
       "    <tr>\n",
       "      <th>56</th>\n",
       "      <td>Garage_Built_Year</td>\n",
       "      <td>84.252884</td>\n",
       "    </tr>\n",
       "    <tr>\n",
       "      <th>70</th>\n",
       "      <td>Month_Sold</td>\n",
       "      <td>92.249129</td>\n",
       "    </tr>\n",
       "    <tr>\n",
       "      <th>26</th>\n",
       "      <td>Exterior_Condition</td>\n",
       "      <td>233.483221</td>\n",
       "    </tr>\n",
       "    <tr>\n",
       "      <th>17</th>\n",
       "      <td>Construction_Year</td>\n",
       "      <td>238.537416</td>\n",
       "    </tr>\n",
       "    <tr>\n",
       "      <th>10</th>\n",
       "      <td>Neighborhood</td>\n",
       "      <td>353.090673</td>\n",
       "    </tr>\n",
       "    <tr>\n",
       "      <th>55</th>\n",
       "      <td>Garage</td>\n",
       "      <td>385.968822</td>\n",
       "    </tr>\n",
       "    <tr>\n",
       "      <th>22</th>\n",
       "      <td>Exterior2nd</td>\n",
       "      <td>403.009698</td>\n",
       "    </tr>\n",
       "    <tr>\n",
       "      <th>31</th>\n",
       "      <td>BsmtFinType1</td>\n",
       "      <td>544.469384</td>\n",
       "    </tr>\n",
       "    <tr>\n",
       "      <th>33</th>\n",
       "      <td>BsmtFinType2</td>\n",
       "      <td>924.085285</td>\n",
       "    </tr>\n",
       "    <tr>\n",
       "      <th>62</th>\n",
       "      <td>Pavedd_Drive</td>\n",
       "      <td>948.064303</td>\n",
       "    </tr>\n",
       "    <tr>\n",
       "      <th>19</th>\n",
       "      <td>Roof_Design</td>\n",
       "      <td>1263.760884</td>\n",
       "    </tr>\n",
       "    <tr>\n",
       "      <th>48</th>\n",
       "      <td>Half_Bathroom_Above_Grade</td>\n",
       "      <td>1367.233940</td>\n",
       "    </tr>\n",
       "    <tr>\n",
       "      <th>29</th>\n",
       "      <td>Basement_Condition</td>\n",
       "      <td>1520.578677</td>\n",
       "    </tr>\n",
       "    <tr>\n",
       "      <th>52</th>\n",
       "      <td>Rooms_Above_Grade</td>\n",
       "      <td>1793.015311</td>\n",
       "    </tr>\n",
       "    <tr>\n",
       "      <th>27</th>\n",
       "      <td>Foundation_Type</td>\n",
       "      <td>1823.130202</td>\n",
       "    </tr>\n",
       "    <tr>\n",
       "      <th>6</th>\n",
       "      <td>Land_Outline</td>\n",
       "      <td>1940.618478</td>\n",
       "    </tr>\n",
       "    <tr>\n",
       "      <th>53</th>\n",
       "      <td>Functional_Rate</td>\n",
       "      <td>2290.387517</td>\n",
       "    </tr>\n",
       "    <tr>\n",
       "      <th>45</th>\n",
       "      <td>Underground_Full_Bathroom</td>\n",
       "      <td>2529.373743</td>\n",
       "    </tr>\n",
       "    <tr>\n",
       "      <th>23</th>\n",
       "      <td>Brick_Veneer_Type</td>\n",
       "      <td>2539.272970</td>\n",
       "    </tr>\n",
       "    <tr>\n",
       "      <th>61</th>\n",
       "      <td>Garage_Condition</td>\n",
       "      <td>2649.962090</td>\n",
       "    </tr>\n",
       "    <tr>\n",
       "      <th>73</th>\n",
       "      <td>Sale_Condition</td>\n",
       "      <td>3103.510755</td>\n",
       "    </tr>\n",
       "    <tr>\n",
       "      <th>20</th>\n",
       "      <td>Roof_Quality</td>\n",
       "      <td>3629.706874</td>\n",
       "    </tr>\n",
       "    <tr>\n",
       "      <th>54</th>\n",
       "      <td>Fireplaces</td>\n",
       "      <td>4842.003148</td>\n",
       "    </tr>\n",
       "    <tr>\n",
       "      <th>16</th>\n",
       "      <td>House_Condition</td>\n",
       "      <td>5899.258131</td>\n",
       "    </tr>\n",
       "    <tr>\n",
       "      <th>58</th>\n",
       "      <td>Garage_Size</td>\n",
       "      <td>6511.422055</td>\n",
       "    </tr>\n",
       "    <tr>\n",
       "      <th>9</th>\n",
       "      <td>Property_Slope</td>\n",
       "      <td>7998.640949</td>\n",
       "    </tr>\n",
       "    <tr>\n",
       "      <th>15</th>\n",
       "      <td>Overall_Material</td>\n",
       "      <td>9318.573874</td>\n",
       "    </tr>\n",
       "    <tr>\n",
       "      <th>4</th>\n",
       "      <td>Road_Type</td>\n",
       "      <td>56231.010281</td>\n",
       "    </tr>\n",
       "  </tbody>\n",
       "</table>\n",
       "</div>"
      ],
      "text/plain": [
       "                      Columns         Slope\n",
       "7                Utility_Type -33000.603685\n",
       "12                 Condition2 -13469.494618\n",
       "50        Kitchen_Above_Grade  -9621.689105\n",
       "51            Kitchen_Quality  -8712.833993\n",
       "28            Basement_Height  -7030.450132\n",
       "25          Exterior_Material  -6958.843873\n",
       "49        Bedroom_Above_Grade  -4025.000372\n",
       "30             Exposure_Level  -3098.990633\n",
       "37               Heating_Type  -2625.799106\n",
       "39           Air_Conditioning  -2534.418471\n",
       "46  Underground_Half_Bathroom  -2315.448406\n",
       "13                 House_Type  -1659.739870\n",
       "1                Zoning_Class  -1483.395488\n",
       "47  Full_Bathroom_Above_Grade  -1431.420524\n",
       "60             Garage_Quality  -1287.453368\n",
       "11                 Condition1  -1184.708458\n",
       "38            Heating_Quality  -1078.661433\n",
       "72                  Sale_Type   -909.254796\n",
       "71                  Year_Sold   -689.412547\n",
       "14               House_Design   -583.508324\n",
       "21                Exterior1st   -536.684236\n",
       "8           Lot_Configuration   -426.756623\n",
       "57         Garage_Finish_Year   -383.458360\n",
       "5              Property_Shape   -352.476348\n",
       "40          Electrical_System   -248.832621\n",
       "0              Building_Class    -94.814388\n",
       "43               LowQualFinSF    -18.223918\n",
       "35                  BsmtUnfSF     -2.872138\n",
       "63                W_Deck_Area     -2.759104\n",
       "69        Miscellaneous_Value     -0.119032\n",
       "3                    Lot_Size      0.473535\n",
       "59                Garage_Area      1.297999\n",
       "34                 BsmtFinSF2      4.088639\n",
       "64            Open_Lobby_Area      5.457115\n",
       "32                 BsmtFinSF1     16.373905\n",
       "18               Remodel_Year     16.589310\n",
       "36        Total_Basement_Area     17.590407\n",
       "2                  Lot_Extent     18.968005\n",
       "24          Brick_Veneer_Area     21.284977\n",
       "65        Enclosed_Lobby_Area     22.559249\n",
       "41           First_Floor_Area     23.576694\n",
       "42          Second_Floor_Area     24.669164\n",
       "66    Three_Season_Lobby_Area     29.821389\n",
       "44          Grade_Living_Area     30.021939\n",
       "67          Screen_Lobby_Area     31.048394\n",
       "68                  Pool_Area     80.108870\n",
       "56          Garage_Built_Year     84.252884\n",
       "70                 Month_Sold     92.249129\n",
       "26         Exterior_Condition    233.483221\n",
       "17          Construction_Year    238.537416\n",
       "10               Neighborhood    353.090673\n",
       "55                     Garage    385.968822\n",
       "22                Exterior2nd    403.009698\n",
       "31               BsmtFinType1    544.469384\n",
       "33               BsmtFinType2    924.085285\n",
       "62               Pavedd_Drive    948.064303\n",
       "19                Roof_Design   1263.760884\n",
       "48  Half_Bathroom_Above_Grade   1367.233940\n",
       "29         Basement_Condition   1520.578677\n",
       "52          Rooms_Above_Grade   1793.015311\n",
       "27            Foundation_Type   1823.130202\n",
       "6                Land_Outline   1940.618478\n",
       "53            Functional_Rate   2290.387517\n",
       "45  Underground_Full_Bathroom   2529.373743\n",
       "23          Brick_Veneer_Type   2539.272970\n",
       "61           Garage_Condition   2649.962090\n",
       "73             Sale_Condition   3103.510755\n",
       "20               Roof_Quality   3629.706874\n",
       "54                 Fireplaces   4842.003148\n",
       "16            House_Condition   5899.258131\n",
       "58                Garage_Size   6511.422055\n",
       "9              Property_Slope   7998.640949\n",
       "15           Overall_Material   9318.573874\n",
       "4                   Road_Type  56231.010281"
      ]
     },
     "execution_count": 77,
     "metadata": {},
     "output_type": "execute_result"
    }
   ],
   "source": [
    "# Basically the coeff tells us the correlation/impact of each col on the target col\n",
    "feature_slope = pd.DataFrame({\"Columns\" : pa_train_x.columns, \"Slope\" : reg_pa.coef_})\n",
    "feature_slope.sort_values('Slope')"
   ]
  },
  {
   "cell_type": "code",
   "execution_count": 82,
   "id": "1bb01802",
   "metadata": {},
   "outputs": [],
   "source": [
    "import numpy as np\n",
    "\n",
    "pred_train = reg_pa.predict(pa_train_x) # predicted y values from train set\n",
    "pred_test = reg_pa.predict(pa_test_x) # predicted y values from test set\n",
    "\n",
    "err_train = pa_train_y - pred_train\n",
    "err_test = pa_test_y - pred_test"
   ]
  },
  {
   "cell_type": "code",
   "execution_count": 83,
   "id": "a91b3ac5",
   "metadata": {},
   "outputs": [
    {
     "data": {
      "text/plain": [
       "-7.551533729476406e-11"
      ]
     },
     "execution_count": 83,
     "metadata": {},
     "output_type": "execute_result"
    }
   ],
   "source": [
    "np.mean(err_train)"
   ]
  },
  {
   "cell_type": "code",
   "execution_count": 84,
   "id": "ca892485",
   "metadata": {},
   "outputs": [
    {
     "data": {
      "text/plain": [
       "181181.62210796916"
      ]
     },
     "execution_count": 84,
     "metadata": {},
     "output_type": "execute_result"
    }
   ],
   "source": [
    "np.mean(pa_train_y)"
   ]
  },
  {
   "cell_type": "code",
   "execution_count": 88,
   "id": "890987e1",
   "metadata": {},
   "outputs": [
    {
     "data": {
      "image/png": "[encoded data removed]",
      "text/plain": [
       "<Figure size 432x288 with 1 Axes>"
      ]
     },
     "metadata": {
      "needs_background": "light"
     },
     "output_type": "display_data"
    }
   ],
   "source": [
    "import matplotlib.pyplot as plt\n",
    "\n",
    "plt.plot(err_train, \"*\");"
   ]
  },
  {
   "cell_type": "code",
   "execution_count": 87,
   "id": "502067d2",
   "metadata": {},
   "outputs": [
    {
     "data": {
      "image/png": "[encoded data removed]",
      "text/plain": [
       "<Figure size 432x288 with 1 Axes>"
      ]
     },
     "metadata": {
      "needs_background": "light"
     },
     "output_type": "display_data"
    }
   ],
   "source": [
    "plt.hist(err_train, bins = 20, color='r');"
   ]
  },
  {
   "cell_type": "code",
   "execution_count": 89,
   "id": "43f07528",
   "metadata": {},
   "outputs": [],
   "source": [
    "pred_actual = pd.DataFrame({'Predict' : pred_train, 'Actual' : pa_train_y})"
   ]
  },
  {
   "cell_type": "code",
   "execution_count": 91,
   "id": "34122283",
   "metadata": {},
   "outputs": [
    {
     "data": {
      "text/html": [
       "<div>\n",
       "<style scoped>\n",
       "    .dataframe tbody tr th:only-of-type {\n",
       "        vertical-align: middle;\n",
       "    }\n",
       "\n",
       "    .dataframe tbody tr th {\n",
       "        vertical-align: top;\n",
       "    }\n",
       "\n",
       "    .dataframe thead th {\n",
       "        text-align: right;\n",
       "    }\n",
       "</style>\n",
       "<table border=\"1\" class=\"dataframe\">\n",
       "  <thead>\n",
       "    <tr style=\"text-align: right;\">\n",
       "      <th></th>\n",
       "      <th>Predict</th>\n",
       "      <th>Actual</th>\n",
       "    </tr>\n",
       "  </thead>\n",
       "  <tbody>\n",
       "    <tr>\n",
       "      <th>851</th>\n",
       "      <td>196809.439170</td>\n",
       "      <td>215000</td>\n",
       "    </tr>\n",
       "    <tr>\n",
       "      <th>291</th>\n",
       "      <td>117645.071925</td>\n",
       "      <td>135900</td>\n",
       "    </tr>\n",
       "  </tbody>\n",
       "</table>\n",
       "</div>"
      ],
      "text/plain": [
       "           Predict  Actual\n",
       "851  196809.439170  215000\n",
       "291  117645.071925  135900"
      ]
     },
     "execution_count": 91,
     "metadata": {},
     "output_type": "execute_result"
    }
   ],
   "source": [
    "pred_actual.head(2)"
   ]
  },
  {
   "cell_type": "code",
   "execution_count": 92,
   "id": "f4425d8f",
   "metadata": {
    "scrolled": false
   },
   "outputs": [
    {
     "name": "stderr",
     "output_type": "stream",
     "text": [
      "D:\\DataScience_Utilities\\lib\\site-packages\\seaborn\\_decorators.py:36: FutureWarning: Pass the following variables as keyword args: x, y. From version 0.12, the only valid positional argument will be `data`, and passing other arguments without an explicit keyword will result in an error or misinterpretation.\n",
      "  warnings.warn(\n"
     ]
    },
    {
     "data": {
      "image/png": "[encoded data removed]",
      "text/plain": [
       "<Figure size 432x288 with 1 Axes>"
      ]
     },
     "metadata": {
      "needs_background": "light"
     },
     "output_type": "display_data"
    }
   ],
   "source": [
    "import seaborn as sns\n",
    "\n",
    "sns.regplot('Actual', 'Predict', data=pred_actual);"
   ]
  },
  {
   "cell_type": "code",
   "execution_count": 95,
   "id": "fdd9db17",
   "metadata": {},
   "outputs": [
    {
     "data": {
      "text/plain": [
       "13.66910576462176"
      ]
     },
     "execution_count": 95,
     "metadata": {},
     "output_type": "execute_result"
    }
   ],
   "source": [
    "mape_test = np.mean(np.abs(err_test * 100 / pa_test_y))\n",
    "\n",
    "mape_test"
   ]
  },
  {
   "cell_type": "code",
   "execution_count": null,
   "id": "b63c41bb",
   "metadata": {},
   "outputs": [],
   "source": [
    "# REMOVE OUTLIERS from the whole data in order to get the proper regrssion"
   ]
  },
  {
   "cell_type": "code",
   "execution_count": 96,
   "id": "0b45ec23",
   "metadata": {},
   "outputs": [],
   "source": [
    "def remove_outliers(df,   col,  k):   \n",
    "        mean = df[col].mean()\n",
    "        global df1  # output \n",
    "        sd = df[col].std()    \n",
    "        final_list = [x for x in df[col] if (x > mean - k * sd)]\n",
    "        final_list = [x for x in final_list if (x < mean + k * sd)]       \n",
    "        df1 = df.loc[df[col].isin(final_list)] ; print(df1.shape)     \n",
    "        print(\"Number of outliers removed == >\"   ,  df.shape[0]  - df1.shape[0])\n"
   ]
  },
  {
   "cell_type": "code",
   "execution_count": 97,
   "id": "4108ff78",
   "metadata": {},
   "outputs": [
    {
     "name": "stdout",
     "output_type": "stream",
     "text": [
      "(1396, 75)\n",
      "Number of outliers removed == > 63\n"
     ]
    }
   ],
   "source": [
    "remove_outliers(pa, 'Sale_Price', 2)"
   ]
  },
  {
   "cell_type": "code",
   "execution_count": 98,
   "id": "22770ec2",
   "metadata": {},
   "outputs": [],
   "source": [
    "# put the df1 i.e the clean outlier less data into actual dataset and run from sampling\n",
    "pa = df1"
   ]
  },
  {
   "cell_type": "code",
   "execution_count": 99,
   "id": "0045f82f",
   "metadata": {},
   "outputs": [],
   "source": [
    "# SAMPLING\n",
    "\n",
    "from sklearn.model_selection import train_test_split\n",
    "\n",
    "pa_train, pa_test = train_test_split(pa, test_size=0.2)"
   ]
  },
  {
   "cell_type": "code",
   "execution_count": 100,
   "id": "c87abc82",
   "metadata": {},
   "outputs": [],
   "source": [
    "pa_train_x = pa_train.iloc[ : , 0:-1] \n",
    "pa_train_y = pa_train.iloc[ : , -1] \n",
    "\n",
    "pa_test_x = pa_test.iloc[ : , 0:-1] \n",
    "pa_test_y = pa_test.iloc[ : , -1] "
   ]
  },
  {
   "cell_type": "code",
   "execution_count": 101,
   "id": "674ba600",
   "metadata": {},
   "outputs": [
    {
     "data": {
      "text/plain": [
       "LinearRegression()"
      ]
     },
     "execution_count": 101,
     "metadata": {},
     "output_type": "execute_result"
    }
   ],
   "source": [
    "# BUILD THE MODEL USING TRAIN DATA\n",
    "\n",
    "from sklearn.linear_model import LinearRegression\n",
    "\n",
    "reg_pa = LinearRegression()\n",
    "reg_pa.fit(pa_train_x, pa_train_y)"
   ]
  },
  {
   "cell_type": "code",
   "execution_count": 102,
   "id": "16f8588e",
   "metadata": {},
   "outputs": [
    {
     "data": {
      "text/plain": [
       "0.8542810161824208"
      ]
     },
     "execution_count": 102,
     "metadata": {},
     "output_type": "execute_result"
    }
   ],
   "source": [
    "Rsquare = reg_pa.score(pa_train_x, pa_train_y)\n",
    "Rsquare"
   ]
  },
  {
   "cell_type": "code",
   "execution_count": 104,
   "id": "7cb16d72",
   "metadata": {},
   "outputs": [
    {
     "data": {
      "text/plain": [
       "0.8439225101281452"
      ]
     },
     "execution_count": 104,
     "metadata": {},
     "output_type": "execute_result"
    }
   ],
   "source": [
    "N = pa_train_x.shape[0]\n",
    "K = pa_train_x.shape[1]\n",
    "\n",
    "AdjRsquare = 1 - (1-Rsquare)*(N-1)/(N-K-1)\n",
    "# AdjRsquare = 1 - ((Rsquare * (N - 1)) / (N-K-1))\n",
    "\n",
    "AdjRsquare"
   ]
  },
  {
   "cell_type": "code",
   "execution_count": 105,
   "id": "86d85e71",
   "metadata": {},
   "outputs": [],
   "source": [
    "import numpy as np\n",
    "\n",
    "pred_train = reg_pa.predict(pa_train_x) # predicted y values from train set\n",
    "pred_test = reg_pa.predict(pa_test_x) # predicted y values from test set\n",
    "\n",
    "err_train = pa_train_y - pred_train\n",
    "err_test = pa_test_y - pred_test"
   ]
  },
  {
   "cell_type": "code",
   "execution_count": 106,
   "id": "e3b24eee",
   "metadata": {},
   "outputs": [
    {
     "data": {
      "image/png": "[encoded data removed]",
      "text/plain": [
       "<Figure size 432x288 with 1 Axes>"
      ]
     },
     "metadata": {
      "needs_background": "light"
     },
     "output_type": "display_data"
    }
   ],
   "source": [
    "import matplotlib.pyplot as plt\n",
    "\n",
    "plt.plot(err_train, \"*\");"
   ]
  },
  {
   "cell_type": "code",
   "execution_count": 107,
   "id": "e9d9dacc",
   "metadata": {},
   "outputs": [
    {
     "data": {
      "image/png": "[encoded data removed]",
      "text/plain": [
       "<Figure size 432x288 with 1 Axes>"
      ]
     },
     "metadata": {
      "needs_background": "light"
     },
     "output_type": "display_data"
    }
   ],
   "source": [
    "plt.hist(err_train, bins = 20, color='r');"
   ]
  },
  {
   "cell_type": "code",
   "execution_count": 108,
   "id": "5845fb43",
   "metadata": {},
   "outputs": [
    {
     "name": "stderr",
     "output_type": "stream",
     "text": [
      "D:\\DataScience_Utilities\\lib\\site-packages\\seaborn\\_decorators.py:36: FutureWarning: Pass the following variables as keyword args: x, y. From version 0.12, the only valid positional argument will be `data`, and passing other arguments without an explicit keyword will result in an error or misinterpretation.\n",
      "  warnings.warn(\n"
     ]
    },
    {
     "data": {
      "image/png": "[encoded data removed]",
      "text/plain": [
       "<Figure size 432x288 with 1 Axes>"
      ]
     },
     "metadata": {
      "needs_background": "light"
     },
     "output_type": "display_data"
    }
   ],
   "source": [
    "pred_actual = pd.DataFrame({'Actual': cn_y_test, 'Predict' : pred_y})\n",
    "\n",
    "import seaborn as sns\n",
    "\n",
    "sns.regplot('Actual', 'Predict', data=pred_actual);"
   ]
  },
  {
   "cell_type": "code",
   "execution_count": 109,
   "id": "23ba0cef",
   "metadata": {},
   "outputs": [
    {
     "data": {
      "text/plain": [
       "11.06244327068616"
      ]
     },
     "execution_count": 109,
     "metadata": {},
     "output_type": "execute_result"
    }
   ],
   "source": [
    "mape_test = np.mean(np.abs(err_test * 100 / pa_test_y))\n",
    "\n",
    "mape_test # MAPE should dec after removing the outliers"
   ]
  },
  {
   "cell_type": "code",
   "execution_count": null,
   "id": "39aa7688",
   "metadata": {},
   "outputs": [],
   "source": [
    "# Car price prediction\n",
    "\n",
    "# col Z is the target var\n",
    "\n",
    "# replace the ? with NaN\n",
    "\n",
    "# replace the num_of_cylinder and num_of_doors with actual  numbers"
   ]
  },
  {
   "cell_type": "code",
   "execution_count": null,
   "id": "44b0959f",
   "metadata": {},
   "outputs": [],
   "source": [
    "# Linear Regession explanation Youtube\n",
    "\n",
    "# https://www.youtube.com/playlist?list=PLDPOLXrquMHCuZIrtTgQ-fRnSb8JSQzGL\n"
   ]
  }
 ],
 "metadata": {
  "kernelspec": {
   "display_name": "Python 3 (ipykernel)",
   "language": "python",
   "name": "python3"
  },
  "language_info": {
   "codemirror_mode": {
    "name": "ipython",
    "version": 3
   },
   "file_extension": ".py",
   "mimetype": "text/x-python",
   "name": "python",
   "nbconvert_exporter": "python",
   "pygments_lexer": "ipython3",
   "version": "3.9.7"
  }
 },
 "nbformat": 4,
 "nbformat_minor": 5
}
