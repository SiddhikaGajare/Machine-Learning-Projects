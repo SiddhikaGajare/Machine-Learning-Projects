{
 "cells": [
  {
   "cell_type": "code",
   "execution_count": 38,
   "id": "2232f7ff",
   "metadata": {},
   "outputs": [],
   "source": [
    "import pandas as pd"
   ]
  },
  {
   "cell_type": "code",
   "execution_count": 39,
   "id": "d16cc7b8",
   "metadata": {},
   "outputs": [],
   "source": [
    "cr = pd.read_csv(r\"CreditRisk.csv\")"
   ]
  },
  {
   "cell_type": "code",
   "execution_count": 40,
   "id": "082369f5",
   "metadata": {},
   "outputs": [
    {
     "data": {
      "text/html": [
       "<div>\n",
       "<style scoped>\n",
       "    .dataframe tbody tr th:only-of-type {\n",
       "        vertical-align: middle;\n",
       "    }\n",
       "\n",
       "    .dataframe tbody tr th {\n",
       "        vertical-align: top;\n",
       "    }\n",
       "\n",
       "    .dataframe thead th {\n",
       "        text-align: right;\n",
       "    }\n",
       "</style>\n",
       "<table border=\"1\" class=\"dataframe\">\n",
       "  <thead>\n",
       "    <tr style=\"text-align: right;\">\n",
       "      <th></th>\n",
       "      <th>Loan_ID</th>\n",
       "      <th>Gender</th>\n",
       "      <th>Married</th>\n",
       "      <th>Dependents</th>\n",
       "      <th>Education</th>\n",
       "      <th>Self_Employed</th>\n",
       "      <th>ApplicantIncome</th>\n",
       "      <th>CoapplicantIncome</th>\n",
       "      <th>LoanAmount</th>\n",
       "      <th>Loan_Amount_Term</th>\n",
       "      <th>Credit_History</th>\n",
       "      <th>Property_Area</th>\n",
       "      <th>Loan_Status</th>\n",
       "    </tr>\n",
       "  </thead>\n",
       "  <tbody>\n",
       "    <tr>\n",
       "      <th>0</th>\n",
       "      <td>LP001002</td>\n",
       "      <td>Male</td>\n",
       "      <td>No</td>\n",
       "      <td>0.0</td>\n",
       "      <td>Graduate</td>\n",
       "      <td>No</td>\n",
       "      <td>5849</td>\n",
       "      <td>0.0</td>\n",
       "      <td>NaN</td>\n",
       "      <td>360.0</td>\n",
       "      <td>1.0</td>\n",
       "      <td>Urban</td>\n",
       "      <td>Y</td>\n",
       "    </tr>\n",
       "    <tr>\n",
       "      <th>1</th>\n",
       "      <td>LP001003</td>\n",
       "      <td>Male</td>\n",
       "      <td>Yes</td>\n",
       "      <td>1.0</td>\n",
       "      <td>Graduate</td>\n",
       "      <td>No</td>\n",
       "      <td>4583</td>\n",
       "      <td>1508.0</td>\n",
       "      <td>128.0</td>\n",
       "      <td>360.0</td>\n",
       "      <td>1.0</td>\n",
       "      <td>Rural</td>\n",
       "      <td>N</td>\n",
       "    </tr>\n",
       "    <tr>\n",
       "      <th>2</th>\n",
       "      <td>LP001005</td>\n",
       "      <td>Male</td>\n",
       "      <td>Yes</td>\n",
       "      <td>0.0</td>\n",
       "      <td>Graduate</td>\n",
       "      <td>Yes</td>\n",
       "      <td>3000</td>\n",
       "      <td>0.0</td>\n",
       "      <td>66.0</td>\n",
       "      <td>360.0</td>\n",
       "      <td>1.0</td>\n",
       "      <td>Urban</td>\n",
       "      <td>Y</td>\n",
       "    </tr>\n",
       "    <tr>\n",
       "      <th>3</th>\n",
       "      <td>LP001006</td>\n",
       "      <td>Male</td>\n",
       "      <td>Yes</td>\n",
       "      <td>0.0</td>\n",
       "      <td>Not Graduate</td>\n",
       "      <td>No</td>\n",
       "      <td>2583</td>\n",
       "      <td>2358.0</td>\n",
       "      <td>120.0</td>\n",
       "      <td>360.0</td>\n",
       "      <td>1.0</td>\n",
       "      <td>Urban</td>\n",
       "      <td>Y</td>\n",
       "    </tr>\n",
       "    <tr>\n",
       "      <th>4</th>\n",
       "      <td>LP001008</td>\n",
       "      <td>Male</td>\n",
       "      <td>No</td>\n",
       "      <td>0.0</td>\n",
       "      <td>Graduate</td>\n",
       "      <td>No</td>\n",
       "      <td>6000</td>\n",
       "      <td>0.0</td>\n",
       "      <td>141.0</td>\n",
       "      <td>360.0</td>\n",
       "      <td>1.0</td>\n",
       "      <td>Urban</td>\n",
       "      <td>Y</td>\n",
       "    </tr>\n",
       "  </tbody>\n",
       "</table>\n",
       "</div>"
      ],
      "text/plain": [
       "    Loan_ID Gender Married  Dependents     Education Self_Employed  \\\n",
       "0  LP001002   Male      No         0.0      Graduate            No   \n",
       "1  LP001003   Male     Yes         1.0      Graduate            No   \n",
       "2  LP001005   Male     Yes         0.0      Graduate           Yes   \n",
       "3  LP001006   Male     Yes         0.0  Not Graduate            No   \n",
       "4  LP001008   Male      No         0.0      Graduate            No   \n",
       "\n",
       "   ApplicantIncome  CoapplicantIncome  LoanAmount  Loan_Amount_Term  \\\n",
       "0             5849                0.0         NaN             360.0   \n",
       "1             4583             1508.0       128.0             360.0   \n",
       "2             3000                0.0        66.0             360.0   \n",
       "3             2583             2358.0       120.0             360.0   \n",
       "4             6000                0.0       141.0             360.0   \n",
       "\n",
       "   Credit_History Property_Area Loan_Status  \n",
       "0             1.0         Urban           Y  \n",
       "1             1.0         Rural           N  \n",
       "2             1.0         Urban           Y  \n",
       "3             1.0         Urban           Y  \n",
       "4             1.0         Urban           Y  "
      ]
     },
     "execution_count": 40,
     "metadata": {},
     "output_type": "execute_result"
    }
   ],
   "source": [
    "cr.head()"
   ]
  },
  {
   "cell_type": "code",
   "execution_count": 41,
   "id": "3ff1f3be",
   "metadata": {},
   "outputs": [
    {
     "data": {
      "text/plain": [
       "Loan_ID               0\n",
       "Gender               24\n",
       "Married               3\n",
       "Dependents           25\n",
       "Education             0\n",
       "Self_Employed        55\n",
       "ApplicantIncome       0\n",
       "CoapplicantIncome     0\n",
       "LoanAmount           27\n",
       "Loan_Amount_Term     20\n",
       "Credit_History       79\n",
       "Property_Area         0\n",
       "Loan_Status           0\n",
       "dtype: int64"
      ]
     },
     "execution_count": 41,
     "metadata": {},
     "output_type": "execute_result"
    }
   ],
   "source": [
    "cr.isnull().sum()"
   ]
  },
  {
   "cell_type": "code",
   "execution_count": 42,
   "id": "4bcc34cd",
   "metadata": {},
   "outputs": [],
   "source": [
    "cr.Gender              = cr.Gender.fillna('Male')\n",
    "cr.Married             = cr.Married .fillna('No')\n",
    "cr.Dependents          = cr.Dependents.fillna(0)\n",
    "cr.Self_Employed       = cr.Self_Employed .fillna('No')\n",
    "cr.LoanAmount          = cr.LoanAmount.fillna(cr.LoanAmount.mean())\n",
    "cr.Loan_Amount_Term    = cr.Loan_Amount_Term.fillna(cr.Loan_Amount_Term.mean())\n",
    "cr.Credit_History      = cr.Credit_History.fillna(0)"
   ]
  },
  {
   "cell_type": "code",
   "execution_count": 43,
   "id": "fdf4c0f9",
   "metadata": {},
   "outputs": [
    {
     "name": "stdout",
     "output_type": "stream",
     "text": [
      "<class 'pandas.core.frame.DataFrame'>\n",
      "RangeIndex: 981 entries, 0 to 980\n",
      "Data columns (total 13 columns):\n",
      " #   Column             Non-Null Count  Dtype  \n",
      "---  ------             --------------  -----  \n",
      " 0   Loan_ID            981 non-null    object \n",
      " 1   Gender             981 non-null    object \n",
      " 2   Married            981 non-null    object \n",
      " 3   Dependents         981 non-null    float64\n",
      " 4   Education          981 non-null    object \n",
      " 5   Self_Employed      981 non-null    object \n",
      " 6   ApplicantIncome    981 non-null    int64  \n",
      " 7   CoapplicantIncome  981 non-null    float64\n",
      " 8   LoanAmount         981 non-null    float64\n",
      " 9   Loan_Amount_Term   981 non-null    float64\n",
      " 10  Credit_History     981 non-null    float64\n",
      " 11  Property_Area      981 non-null    object \n",
      " 12  Loan_Status        981 non-null    object \n",
      "dtypes: float64(5), int64(1), object(7)\n",
      "memory usage: 99.8+ KB\n"
     ]
    }
   ],
   "source": [
    "cr.info()"
   ]
  },
  {
   "cell_type": "code",
   "execution_count": 44,
   "id": "1fe2251e",
   "metadata": {},
   "outputs": [],
   "source": [
    "cr  = cr.drop(['Loan_ID'], axis = 1)"
   ]
  },
  {
   "cell_type": "code",
   "execution_count": 45,
   "id": "8255fec4",
   "metadata": {},
   "outputs": [],
   "source": [
    "cr.Gender  = cr.Gender.replace({'Male': 1, 'Female': 0})\n",
    "cr.Married  = cr.Married.replace({'Yes' : 1, 'No':0 })\n",
    "cr.Education  = cr.Education.replace({'Graduate':1 , 'Not Graduate': 0})\n",
    "cr.Self_Employed  = cr.Self_Employed.replace({'Yes' : 1, 'No':0 })\n",
    "cr.Property_Area  =cr.Property_Area .replace({'Rural':0 , 'Semiurban': 1 , 'Urban': 2})\n",
    "cr.Loan_Status   = cr.Loan_Status.replace({ 'Y': 1 , 'N': 0})"
   ]
  },
  {
   "cell_type": "code",
   "execution_count": 46,
   "id": "8cb76db1",
   "metadata": {},
   "outputs": [],
   "source": [
    "cr_x = cr.iloc[ : , 0:-1]\n",
    "cr_y = cr.iloc[ : , -1]"
   ]
  },
  {
   "cell_type": "code",
   "execution_count": 47,
   "id": "6d9e45e0",
   "metadata": {},
   "outputs": [],
   "source": [
    "import numpy as np\n",
    "\n",
    "cr_x1 = cr_x\n",
    "cr_x_con = np.array(cr_x)\n",
    "cr_y_con = np.array(cr_y)"
   ]
  },
  {
   "cell_type": "code",
   "execution_count": 30,
   "id": "dfce7cd7",
   "metadata": {},
   "outputs": [
    {
     "name": "stdout",
     "output_type": "stream",
     "text": [
      "Iteration: \t1 / 25\n",
      "Confirmed: \t0\n",
      "Tentative: \t11\n",
      "Rejected: \t0\n",
      "Iteration: \t2 / 25\n",
      "Confirmed: \t0\n",
      "Tentative: \t11\n",
      "Rejected: \t0\n",
      "Iteration: \t3 / 25\n",
      "Confirmed: \t0\n",
      "Tentative: \t11\n",
      "Rejected: \t0\n",
      "Iteration: \t4 / 25\n",
      "Confirmed: \t0\n",
      "Tentative: \t11\n",
      "Rejected: \t0\n",
      "Iteration: \t5 / 25\n",
      "Confirmed: \t0\n",
      "Tentative: \t11\n",
      "Rejected: \t0\n",
      "Iteration: \t6 / 25\n",
      "Confirmed: \t0\n",
      "Tentative: \t11\n",
      "Rejected: \t0\n",
      "Iteration: \t7 / 25\n",
      "Confirmed: \t0\n",
      "Tentative: \t11\n",
      "Rejected: \t0\n",
      "Iteration: \t8 / 25\n",
      "Confirmed: \t3\n",
      "Tentative: \t0\n",
      "Rejected: \t8\n",
      "\n",
      "\n",
      "BorutaPy finished running.\n",
      "\n",
      "Iteration: \t9 / 25\n",
      "Confirmed: \t3\n",
      "Tentative: \t0\n",
      "Rejected: \t8\n"
     ]
    },
    {
     "data": {
      "text/plain": [
       "BorutaPy(estimator=RandomForestClassifier(n_estimators=1000,\n",
       "                                          random_state=RandomState(MT19937) at 0x172AC244840),\n",
       "         max_iter=25, random_state=RandomState(MT19937) at 0x172AC244840,\n",
       "         verbose=2)"
      ]
     },
     "execution_count": 30,
     "metadata": {},
     "output_type": "execute_result"
    }
   ],
   "source": [
    "from sklearn.ensemble import RandomForestClassifier\n",
    "from boruta import BorutaPy\n",
    "\n",
    "rf = RandomForestClassifier()\n",
    "\n",
    "boruta_feature_selector  = BorutaPy(rf, max_iter=25, verbose=2)\n",
    "boruta_feature_selector.fit(cr_x_con, cr_y_con)"
   ]
  },
  {
   "cell_type": "code",
   "execution_count": 31,
   "id": "c7ce11a0",
   "metadata": {},
   "outputs": [
    {
     "data": {
      "text/plain": [
       "array([False, False, False, False, False,  True, False,  True, False,\n",
       "        True, False])"
      ]
     },
     "execution_count": 31,
     "metadata": {},
     "output_type": "execute_result"
    }
   ],
   "source": [
    "boruta_feature_selector.support_"
   ]
  },
  {
   "cell_type": "code",
   "execution_count": 36,
   "id": "4a02bcc2",
   "metadata": {},
   "outputs": [],
   "source": [
    "boruta_feature_selection = pd.DataFrame({'Var':cr_x.columns, 'Imp':boruta_feature_selector.support_})"
   ]
  },
  {
   "cell_type": "code",
   "execution_count": 37,
   "id": "eb0111c5",
   "metadata": {},
   "outputs": [
    {
     "data": {
      "text/html": [
       "<div>\n",
       "<style scoped>\n",
       "    .dataframe tbody tr th:only-of-type {\n",
       "        vertical-align: middle;\n",
       "    }\n",
       "\n",
       "    .dataframe tbody tr th {\n",
       "        vertical-align: top;\n",
       "    }\n",
       "\n",
       "    .dataframe thead th {\n",
       "        text-align: right;\n",
       "    }\n",
       "</style>\n",
       "<table border=\"1\" class=\"dataframe\">\n",
       "  <thead>\n",
       "    <tr style=\"text-align: right;\">\n",
       "      <th></th>\n",
       "      <th>Var</th>\n",
       "      <th>Imp</th>\n",
       "    </tr>\n",
       "  </thead>\n",
       "  <tbody>\n",
       "    <tr>\n",
       "      <th>0</th>\n",
       "      <td>Gender</td>\n",
       "      <td>False</td>\n",
       "    </tr>\n",
       "    <tr>\n",
       "      <th>1</th>\n",
       "      <td>Married</td>\n",
       "      <td>False</td>\n",
       "    </tr>\n",
       "    <tr>\n",
       "      <th>2</th>\n",
       "      <td>Dependents</td>\n",
       "      <td>False</td>\n",
       "    </tr>\n",
       "    <tr>\n",
       "      <th>3</th>\n",
       "      <td>Education</td>\n",
       "      <td>False</td>\n",
       "    </tr>\n",
       "    <tr>\n",
       "      <th>4</th>\n",
       "      <td>Self_Employed</td>\n",
       "      <td>False</td>\n",
       "    </tr>\n",
       "    <tr>\n",
       "      <th>5</th>\n",
       "      <td>ApplicantIncome</td>\n",
       "      <td>True</td>\n",
       "    </tr>\n",
       "    <tr>\n",
       "      <th>6</th>\n",
       "      <td>CoapplicantIncome</td>\n",
       "      <td>False</td>\n",
       "    </tr>\n",
       "    <tr>\n",
       "      <th>7</th>\n",
       "      <td>LoanAmount</td>\n",
       "      <td>True</td>\n",
       "    </tr>\n",
       "    <tr>\n",
       "      <th>8</th>\n",
       "      <td>Loan_Amount_Term</td>\n",
       "      <td>False</td>\n",
       "    </tr>\n",
       "    <tr>\n",
       "      <th>9</th>\n",
       "      <td>Credit_History</td>\n",
       "      <td>True</td>\n",
       "    </tr>\n",
       "    <tr>\n",
       "      <th>10</th>\n",
       "      <td>Property_Area</td>\n",
       "      <td>False</td>\n",
       "    </tr>\n",
       "  </tbody>\n",
       "</table>\n",
       "</div>"
      ],
      "text/plain": [
       "                  Var    Imp\n",
       "0              Gender  False\n",
       "1             Married  False\n",
       "2          Dependents  False\n",
       "3           Education  False\n",
       "4       Self_Employed  False\n",
       "5     ApplicantIncome   True\n",
       "6   CoapplicantIncome  False\n",
       "7          LoanAmount   True\n",
       "8    Loan_Amount_Term  False\n",
       "9      Credit_History   True\n",
       "10      Property_Area  False"
      ]
     },
     "execution_count": 37,
     "metadata": {},
     "output_type": "execute_result"
    }
   ],
   "source": [
    "boruta_feature_selection"
   ]
  },
  {
   "cell_type": "markdown",
   "id": "409154b7",
   "metadata": {},
   "source": [
    "# Feature selection with RFE"
   ]
  },
  {
   "cell_type": "code",
   "execution_count": null,
   "id": "19f69e05",
   "metadata": {},
   "outputs": [],
   "source": [
    "cr_x = cr.iloc[ : , 0:-1]\n",
    "cr_y = cr.iloc[ : , -1]"
   ]
  },
  {
   "cell_type": "code",
   "execution_count": 50,
   "id": "5fd0f738",
   "metadata": {},
   "outputs": [
    {
     "name": "stderr",
     "output_type": "stream",
     "text": [
      "C:\\Users\\PRIME\\anaconda3\\lib\\site-packages\\sklearn\\utils\\validation.py:70: FutureWarning: Pass n_features_to_select=2 as keyword args. From version 1.0 (renaming of 0.25) passing these as positional arguments will result in an error\n",
      "  warnings.warn(f\"Pass {args_msg} as keyword args. From version \"\n"
     ]
    }
   ],
   "source": [
    "from sklearn.feature_selection import RFE\n",
    "from sklearn.ensemble import RandomForestClassifier\n",
    "\n",
    "rfe = RandomForestClassifier()\n",
    "rfe = RFE(rf, 2)"
   ]
  },
  {
   "cell_type": "code",
   "execution_count": 51,
   "id": "a5f53c63",
   "metadata": {},
   "outputs": [
    {
     "data": {
      "text/plain": [
       "RFE(estimator=RandomForestClassifier(n_estimators=1000,\n",
       "                                     random_state=RandomState(MT19937) at 0x172AC244840),\n",
       "    n_features_to_select=2)"
      ]
     },
     "execution_count": 51,
     "metadata": {},
     "output_type": "execute_result"
    }
   ],
   "source": [
    "rfe.fit(cr_x, cr_y)"
   ]
  },
  {
   "cell_type": "code",
   "execution_count": 52,
   "id": "74e39062",
   "metadata": {},
   "outputs": [
    {
     "data": {
      "text/plain": [
       "array([False, False, False, False, False,  True, False,  True, False,\n",
       "       False, False])"
      ]
     },
     "execution_count": 52,
     "metadata": {},
     "output_type": "execute_result"
    }
   ],
   "source": [
    "rfe.support_"
   ]
  },
  {
   "cell_type": "code",
   "execution_count": 64,
   "id": "18c05afb",
   "metadata": {},
   "outputs": [],
   "source": [
    "rfe_feature_selection = pd.DataFrame({'Var':cr_x.columns, 'Imp':rfe.support_})"
   ]
  },
  {
   "cell_type": "code",
   "execution_count": 66,
   "id": "86019ef5",
   "metadata": {
    "scrolled": true
   },
   "outputs": [
    {
     "data": {
      "text/html": [
       "<div>\n",
       "<style scoped>\n",
       "    .dataframe tbody tr th:only-of-type {\n",
       "        vertical-align: middle;\n",
       "    }\n",
       "\n",
       "    .dataframe tbody tr th {\n",
       "        vertical-align: top;\n",
       "    }\n",
       "\n",
       "    .dataframe thead th {\n",
       "        text-align: right;\n",
       "    }\n",
       "</style>\n",
       "<table border=\"1\" class=\"dataframe\">\n",
       "  <thead>\n",
       "    <tr style=\"text-align: right;\">\n",
       "      <th></th>\n",
       "      <th>Var</th>\n",
       "      <th>Imp</th>\n",
       "    </tr>\n",
       "  </thead>\n",
       "  <tbody>\n",
       "    <tr>\n",
       "      <th>5</th>\n",
       "      <td>ApplicantIncome</td>\n",
       "      <td>True</td>\n",
       "    </tr>\n",
       "    <tr>\n",
       "      <th>7</th>\n",
       "      <td>LoanAmount</td>\n",
       "      <td>True</td>\n",
       "    </tr>\n",
       "    <tr>\n",
       "      <th>0</th>\n",
       "      <td>Gender</td>\n",
       "      <td>False</td>\n",
       "    </tr>\n",
       "    <tr>\n",
       "      <th>1</th>\n",
       "      <td>Married</td>\n",
       "      <td>False</td>\n",
       "    </tr>\n",
       "    <tr>\n",
       "      <th>2</th>\n",
       "      <td>Dependents</td>\n",
       "      <td>False</td>\n",
       "    </tr>\n",
       "    <tr>\n",
       "      <th>3</th>\n",
       "      <td>Education</td>\n",
       "      <td>False</td>\n",
       "    </tr>\n",
       "    <tr>\n",
       "      <th>4</th>\n",
       "      <td>Self_Employed</td>\n",
       "      <td>False</td>\n",
       "    </tr>\n",
       "    <tr>\n",
       "      <th>6</th>\n",
       "      <td>CoapplicantIncome</td>\n",
       "      <td>False</td>\n",
       "    </tr>\n",
       "    <tr>\n",
       "      <th>8</th>\n",
       "      <td>Loan_Amount_Term</td>\n",
       "      <td>False</td>\n",
       "    </tr>\n",
       "    <tr>\n",
       "      <th>9</th>\n",
       "      <td>Credit_History</td>\n",
       "      <td>False</td>\n",
       "    </tr>\n",
       "    <tr>\n",
       "      <th>10</th>\n",
       "      <td>Property_Area</td>\n",
       "      <td>False</td>\n",
       "    </tr>\n",
       "  </tbody>\n",
       "</table>\n",
       "</div>"
      ],
      "text/plain": [
       "                  Var    Imp\n",
       "5     ApplicantIncome   True\n",
       "7          LoanAmount   True\n",
       "0              Gender  False\n",
       "1             Married  False\n",
       "2          Dependents  False\n",
       "3           Education  False\n",
       "4       Self_Employed  False\n",
       "6   CoapplicantIncome  False\n",
       "8    Loan_Amount_Term  False\n",
       "9      Credit_History  False\n",
       "10      Property_Area  False"
      ]
     },
     "execution_count": 66,
     "metadata": {},
     "output_type": "execute_result"
    }
   ],
   "source": [
    "rfe_feature_selection.sort_values('Imp', ascending = False )"
   ]
  },
  {
   "cell_type": "code",
   "execution_count": 67,
   "id": "139f2da9",
   "metadata": {},
   "outputs": [],
   "source": [
    "from sklearn.model_selection import cross_val_score\n",
    "\n",
    "scores_rf = cross_val_score(rf, cr_x, cr_y, cv=7)"
   ]
  },
  {
   "cell_type": "code",
   "execution_count": 68,
   "id": "08b4012c",
   "metadata": {},
   "outputs": [
    {
     "data": {
      "text/plain": [
       "array([0.78723404, 0.75      , 0.75714286, 0.77142857, 0.81428571,\n",
       "       0.87142857, 0.82857143])"
      ]
     },
     "execution_count": 68,
     "metadata": {},
     "output_type": "execute_result"
    }
   ],
   "source": [
    "scores_rf"
   ]
  },
  {
   "cell_type": "code",
   "execution_count": 72,
   "id": "548a0887",
   "metadata": {},
   "outputs": [
    {
     "data": {
      "text/plain": [
       "0.75"
      ]
     },
     "execution_count": 72,
     "metadata": {},
     "output_type": "execute_result"
    }
   ],
   "source": [
    "scores_rf.mean()\n",
    "scores_rf.max()\n",
    "scores_rf.min()"
   ]
  },
  {
   "cell_type": "code",
   "execution_count": 11,
   "id": "f7e29535",
   "metadata": {},
   "outputs": [],
   "source": [
    "from sklearn.model_selection  import train_test_split\n",
    "\n",
    "cr_train , cr_test = train_test_split(cr , test_size=  .2)"
   ]
  },
  {
   "cell_type": "code",
   "execution_count": 43,
   "id": "d017f3fa",
   "metadata": {},
   "outputs": [],
   "source": [
    "cr_train_x   =   cr_train.iloc[: , 0:-1]\n",
    "cr_train_y   = cr_train.iloc[: , -1]\n",
    "\n",
    "cr_test_x  =    cr_test.iloc[: , 0:-1]\n",
    "cr_test_y  =   cr_test.iloc[: , -1]"
   ]
  },
  {
   "cell_type": "code",
   "execution_count": 44,
   "id": "54315085",
   "metadata": {},
   "outputs": [],
   "source": [
    "#  model building"
   ]
  },
  {
   "cell_type": "code",
   "execution_count": 45,
   "id": "b41f6a2d",
   "metadata": {},
   "outputs": [],
   "source": [
    "from  sklearn.linear_model  import LogisticRegression\n",
    "glm  = LogisticRegression()"
   ]
  },
  {
   "cell_type": "code",
   "execution_count": 46,
   "id": "acb974f3",
   "metadata": {},
   "outputs": [
    {
     "name": "stderr",
     "output_type": "stream",
     "text": [
      "C:\\Users\\pranj\\anaconda3\\lib\\site-packages\\sklearn\\linear_model\\_logistic.py:763: ConvergenceWarning: lbfgs failed to converge (status=1):\n",
      "STOP: TOTAL NO. of ITERATIONS REACHED LIMIT.\n",
      "\n",
      "Increase the number of iterations (max_iter) or scale the data as shown in:\n",
      "    https://scikit-learn.org/stable/modules/preprocessing.html\n",
      "Please also refer to the documentation for alternative solver options:\n",
      "    https://scikit-learn.org/stable/modules/linear_model.html#logistic-regression\n",
      "  n_iter_i = _check_optimize_result(\n"
     ]
    },
    {
     "data": {
      "text/plain": [
       "LogisticRegression()"
      ]
     },
     "execution_count": 46,
     "metadata": {},
     "output_type": "execute_result"
    }
   ],
   "source": [
    "glm.fit(cr_train_x , cr_train_y)"
   ]
  },
  {
   "cell_type": "code",
   "execution_count": 47,
   "id": "5ba22558",
   "metadata": {},
   "outputs": [
    {
     "data": {
      "text/plain": [
       "array([0, 1, 0, 1, 0, 1, 0, 1, 1, 1, 0, 0, 1, 0, 0, 1, 1, 1, 1, 1, 1, 1,\n",
       "       1, 0, 1, 0, 1, 1, 1, 0, 0, 0, 1, 1, 1, 1, 1, 1, 1, 1, 1, 1, 1, 1,\n",
       "       1, 1, 1, 1, 1, 0, 1, 1, 1, 1, 1, 1, 1, 1, 1, 1, 1, 1, 1, 1, 0, 1,\n",
       "       1, 1, 1, 1, 1, 1, 0, 0, 1, 1, 0, 1, 1, 1, 1, 0, 1, 1, 1, 0, 0, 1,\n",
       "       1, 0, 1, 0, 1, 1, 1, 1, 1, 0, 1, 1, 1, 1, 1, 1, 0, 1, 1, 1, 1, 1,\n",
       "       0, 1, 1, 1, 1, 1, 1, 1, 1, 1, 1, 1, 1, 1, 1, 1, 1, 1, 1, 1, 1, 0,\n",
       "       1, 1, 0, 1, 0, 1, 1, 1, 1, 1, 1, 1, 1, 0, 0, 1, 1, 1, 1, 1, 1, 0,\n",
       "       1, 1, 0, 1, 1, 1, 1, 1, 1, 1, 1, 1, 1, 1, 1, 1, 1, 1, 1, 1, 1, 1,\n",
       "       1, 1, 1, 1, 1, 1, 1, 1, 1, 1, 1, 1, 1, 1, 1, 1, 1, 0, 1, 1, 1],\n",
       "      dtype=int64)"
      ]
     },
     "execution_count": 47,
     "metadata": {},
     "output_type": "execute_result"
    }
   ],
   "source": [
    "pred_cr = glm.predict(cr_test_x)\n",
    "pred_cr"
   ]
  },
  {
   "cell_type": "code",
   "execution_count": 48,
   "id": "726d3199",
   "metadata": {},
   "outputs": [],
   "source": [
    "from sklearn.metrics  import confusion_matrix"
   ]
  },
  {
   "cell_type": "code",
   "execution_count": 49,
   "id": "1a5e40a6",
   "metadata": {},
   "outputs": [
    {
     "data": {
      "text/plain": [
       "array([[ 25,  28],\n",
       "       [  9, 135]], dtype=int64)"
      ]
     },
     "execution_count": 49,
     "metadata": {},
     "output_type": "execute_result"
    }
   ],
   "source": [
    "tab_cr  = confusion_matrix(cr_test_y , pred_cr)\n",
    "tab_cr"
   ]
  },
  {
   "cell_type": "code",
   "execution_count": 55,
   "id": "45a4a558",
   "metadata": {},
   "outputs": [
    {
     "data": {
      "text/plain": [
       "81.21827411167513"
      ]
     },
     "execution_count": 55,
     "metadata": {},
     "output_type": "execute_result"
    }
   ],
   "source": [
    " tab_cr.diagonal().sum()  * 100/ tab_cr.sum()"
   ]
  },
  {
   "cell_type": "code",
   "execution_count": 56,
   "id": "7e7d9c90",
   "metadata": {},
   "outputs": [],
   "source": [
    "from sklearn.metrics  import accuracy_score"
   ]
  },
  {
   "cell_type": "code",
   "execution_count": 57,
   "id": "bdc13966",
   "metadata": {},
   "outputs": [
    {
     "data": {
      "text/plain": [
       "0.8121827411167513"
      ]
     },
     "execution_count": 57,
     "metadata": {},
     "output_type": "execute_result"
    }
   ],
   "source": [
    "accuracy_score(cr_test_y , pred_cr)"
   ]
  },
  {
   "cell_type": "code",
   "execution_count": 58,
   "id": "53e0095d",
   "metadata": {},
   "outputs": [],
   "source": [
    "from sklearn.metrics  import precision_score"
   ]
  },
  {
   "cell_type": "code",
   "execution_count": 59,
   "id": "30e366ec",
   "metadata": {},
   "outputs": [
    {
     "data": {
      "text/plain": [
       "0.8282208588957055"
      ]
     },
     "execution_count": 59,
     "metadata": {},
     "output_type": "execute_result"
    }
   ],
   "source": [
    "135 / ( 135 +28)"
   ]
  },
  {
   "cell_type": "code",
   "execution_count": 61,
   "id": "f3564f96",
   "metadata": {},
   "outputs": [
    {
     "data": {
      "text/plain": [
       "0.8282208588957055"
      ]
     },
     "execution_count": 61,
     "metadata": {},
     "output_type": "execute_result"
    }
   ],
   "source": [
    "precision_score(cr_test_y , pred_cr)"
   ]
  },
  {
   "cell_type": "code",
   "execution_count": 62,
   "id": "47e0ae6c",
   "metadata": {},
   "outputs": [],
   "source": [
    "from sklearn.metrics  import recall_score"
   ]
  },
  {
   "cell_type": "code",
   "execution_count": 63,
   "id": "a7416b50",
   "metadata": {},
   "outputs": [
    {
     "data": {
      "text/plain": [
       "0.9375"
      ]
     },
     "execution_count": 63,
     "metadata": {},
     "output_type": "execute_result"
    }
   ],
   "source": [
    "135 / ( 135 + 9)"
   ]
  },
  {
   "cell_type": "code",
   "execution_count": 64,
   "id": "6da0f408",
   "metadata": {},
   "outputs": [
    {
     "data": {
      "text/plain": [
       "0.9375"
      ]
     },
     "execution_count": 64,
     "metadata": {},
     "output_type": "execute_result"
    }
   ],
   "source": [
    "recall_score(cr_test_y , pred_cr)"
   ]
  },
  {
   "cell_type": "code",
   "execution_count": 65,
   "id": "004dabdf",
   "metadata": {},
   "outputs": [],
   "source": [
    "from sklearn.metrics  import f1_score"
   ]
  },
  {
   "cell_type": "code",
   "execution_count": 66,
   "id": "5c777b95",
   "metadata": {},
   "outputs": [
    {
     "data": {
      "text/plain": [
       "0.8794788273615635"
      ]
     },
     "execution_count": 66,
     "metadata": {},
     "output_type": "execute_result"
    }
   ],
   "source": [
    "f1_score(cr_test_y , pred_cr)"
   ]
  },
  {
   "cell_type": "code",
   "execution_count": 67,
   "id": "c031c132",
   "metadata": {},
   "outputs": [
    {
     "data": {
      "text/plain": [
       "0.8794788273615635"
      ]
     },
     "execution_count": 67,
     "metadata": {},
     "output_type": "execute_result"
    }
   ],
   "source": [
    " 2* .8282208588957055  *  .9375  / ( .8282208588957055  + .9375)"
   ]
  },
  {
   "cell_type": "code",
   "execution_count": 68,
   "id": "7276f8d7",
   "metadata": {},
   "outputs": [
    {
     "data": {
      "text/plain": [
       "array([[0.50830073, 0.49169927],\n",
       "       [0.11289115, 0.88710885],\n",
       "       [0.60075388, 0.39924612],\n",
       "       [0.1108799 , 0.8891201 ],\n",
       "       [0.58236685, 0.41763315],\n",
       "       [0.09433118, 0.90566882],\n",
       "       [0.66482506, 0.33517494],\n",
       "       [0.10584582, 0.89415418],\n",
       "       [0.2446927 , 0.7553073 ],\n",
       "       [0.3368292 , 0.6631708 ],\n",
       "       [0.74370408, 0.25629592],\n",
       "       [0.5769614 , 0.4230386 ],\n",
       "       [0.0895831 , 0.9104169 ],\n",
       "       [0.66932591, 0.33067409],\n",
       "       [0.57762386, 0.42237614],\n",
       "       [0.09248354, 0.90751646],\n",
       "       [0.19859398, 0.80140602],\n",
       "       [0.24434431, 0.75565569],\n",
       "       [0.13881334, 0.86118666],\n",
       "       [0.15813535, 0.84186465],\n",
       "       [0.19411006, 0.80588994],\n",
       "       [0.08589845, 0.91410155],\n",
       "       [0.14002446, 0.85997554],\n",
       "       [0.63231677, 0.36768323],\n",
       "       [0.09287289, 0.90712711],\n",
       "       [0.5309003 , 0.4690997 ],\n",
       "       [0.44693901, 0.55306099],\n",
       "       [0.08376496, 0.91623504],\n",
       "       [0.47516551, 0.52483449],\n",
       "       [0.69937087, 0.30062913],\n",
       "       [0.5144847 , 0.4855153 ],\n",
       "       [0.61471264, 0.38528736],\n",
       "       [0.14497486, 0.85502514],\n",
       "       [0.19399024, 0.80600976],\n",
       "       [0.24098106, 0.75901894],\n",
       "       [0.25367106, 0.74632894],\n",
       "       [0.24860569, 0.75139431],\n",
       "       [0.09594096, 0.90405904],\n",
       "       [0.25504803, 0.74495197],\n",
       "       [0.0865951 , 0.9134049 ],\n",
       "       [0.09013392, 0.90986608],\n",
       "       [0.164908  , 0.835092  ],\n",
       "       [0.20505169, 0.79494831],\n",
       "       [0.38462611, 0.61537389],\n",
       "       [0.45454709, 0.54545291],\n",
       "       [0.24877336, 0.75122664],\n",
       "       [0.14361084, 0.85638916],\n",
       "       [0.1136062 , 0.8863938 ],\n",
       "       [0.19830894, 0.80169106],\n",
       "       [0.54984242, 0.45015758],\n",
       "       [0.14013296, 0.85986704],\n",
       "       [0.03436044, 0.96563956],\n",
       "       [0.19611937, 0.80388063],\n",
       "       [0.1201674 , 0.8798326 ],\n",
       "       [0.11123787, 0.88876213],\n",
       "       [0.12958926, 0.87041074],\n",
       "       [0.33149174, 0.66850826],\n",
       "       [0.45949982, 0.54050018],\n",
       "       [0.07356713, 0.92643287],\n",
       "       [0.21280793, 0.78719207],\n",
       "       [0.11935238, 0.88064762],\n",
       "       [0.14395437, 0.85604563],\n",
       "       [0.12558157, 0.87441843],\n",
       "       [0.07426529, 0.92573471],\n",
       "       [0.76550974, 0.23449026],\n",
       "       [0.22400035, 0.77599965],\n",
       "       [0.13340573, 0.86659427],\n",
       "       [0.10471307, 0.89528693],\n",
       "       [0.11749164, 0.88250836],\n",
       "       [0.12726457, 0.87273543],\n",
       "       [0.19382543, 0.80617457],\n",
       "       [0.09163764, 0.90836236],\n",
       "       [0.65572568, 0.34427432],\n",
       "       [0.6882545 , 0.3117455 ],\n",
       "       [0.08764661, 0.91235339],\n",
       "       [0.18971274, 0.81028726],\n",
       "       [0.66662727, 0.33337273],\n",
       "       [0.07436736, 0.92563264],\n",
       "       [0.07796433, 0.92203567],\n",
       "       [0.1382398 , 0.8617602 ],\n",
       "       [0.10315861, 0.89684139],\n",
       "       [0.6410428 , 0.3589572 ],\n",
       "       [0.0903788 , 0.9096212 ],\n",
       "       [0.15410158, 0.84589842],\n",
       "       [0.26014665, 0.73985335],\n",
       "       [0.73535389, 0.26464611],\n",
       "       [0.53794138, 0.46205862],\n",
       "       [0.1280882 , 0.8719118 ],\n",
       "       [0.43474047, 0.56525953],\n",
       "       [0.6858789 , 0.3141211 ],\n",
       "       [0.27651653, 0.72348347],\n",
       "       [0.62882847, 0.37117153],\n",
       "       [0.08744812, 0.91255188],\n",
       "       [0.05897322, 0.94102678],\n",
       "       [0.1482136 , 0.8517864 ],\n",
       "       [0.16373664, 0.83626336],\n",
       "       [0.39171081, 0.60828919],\n",
       "       [0.62684992, 0.37315008],\n",
       "       [0.25795309, 0.74204691],\n",
       "       [0.25768593, 0.74231407],\n",
       "       [0.1287191 , 0.8712809 ],\n",
       "       [0.19177209, 0.80822791],\n",
       "       [0.31999716, 0.68000284],\n",
       "       [0.19807785, 0.80192215],\n",
       "       [0.67900925, 0.32099075],\n",
       "       [0.13620054, 0.86379946],\n",
       "       [0.29250728, 0.70749272],\n",
       "       [0.16581657, 0.83418343],\n",
       "       [0.10185453, 0.89814547],\n",
       "       [0.37918103, 0.62081897],\n",
       "       [0.67360948, 0.32639052],\n",
       "       [0.12323903, 0.87676097],\n",
       "       [0.48340881, 0.51659119],\n",
       "       [0.16147337, 0.83852663],\n",
       "       [0.16904523, 0.83095477],\n",
       "       [0.03795882, 0.96204118],\n",
       "       [0.1949204 , 0.8050796 ],\n",
       "       [0.08779751, 0.91220249],\n",
       "       [0.24671095, 0.75328905],\n",
       "       [0.13657936, 0.86342064],\n",
       "       [0.12482075, 0.87517925],\n",
       "       [0.17468319, 0.82531681],\n",
       "       [0.16110822, 0.83889178],\n",
       "       [0.14267664, 0.85732336],\n",
       "       [0.07853624, 0.92146376],\n",
       "       [0.11093143, 0.88906857],\n",
       "       [0.2676682 , 0.7323318 ],\n",
       "       [0.3518369 , 0.6481631 ],\n",
       "       [0.26409087, 0.73590913],\n",
       "       [0.45149584, 0.54850416],\n",
       "       [0.13239618, 0.86760382],\n",
       "       [0.52088515, 0.47911485],\n",
       "       [0.26115605, 0.73884395],\n",
       "       [0.12248358, 0.87751642],\n",
       "       [0.57954729, 0.42045271],\n",
       "       [0.3466888 , 0.6533112 ],\n",
       "       [0.613189  , 0.386811  ],\n",
       "       [0.15038324, 0.84961676],\n",
       "       [0.33789139, 0.66210861],\n",
       "       [0.11499114, 0.88500886],\n",
       "       [0.16487709, 0.83512291],\n",
       "       [0.09983493, 0.90016507],\n",
       "       [0.32990423, 0.67009577],\n",
       "       [0.2881984 , 0.7118016 ],\n",
       "       [0.11681042, 0.88318958],\n",
       "       [0.62795714, 0.37204286],\n",
       "       [0.5466832 , 0.4533168 ],\n",
       "       [0.1289692 , 0.8710308 ],\n",
       "       [0.20722558, 0.79277442],\n",
       "       [0.27366863, 0.72633137],\n",
       "       [0.19406958, 0.80593042],\n",
       "       [0.25559292, 0.74440708],\n",
       "       [0.20189594, 0.79810406],\n",
       "       [0.66055968, 0.33944032],\n",
       "       [0.21792274, 0.78207726],\n",
       "       [0.20586395, 0.79413605],\n",
       "       [0.69237156, 0.30762844],\n",
       "       [0.0899852 , 0.9100148 ],\n",
       "       [0.24452422, 0.75547578],\n",
       "       [0.26406193, 0.73593807],\n",
       "       [0.11407238, 0.88592762],\n",
       "       [0.11644741, 0.88355259],\n",
       "       [0.18590214, 0.81409786],\n",
       "       [0.31083383, 0.68916617],\n",
       "       [0.06936411, 0.93063589],\n",
       "       [0.09163276, 0.90836724],\n",
       "       [0.17034701, 0.82965299],\n",
       "       [0.1346892 , 0.8653108 ],\n",
       "       [0.07771005, 0.92228995],\n",
       "       [0.17102081, 0.82897919],\n",
       "       [0.49665309, 0.50334691],\n",
       "       [0.24802782, 0.75197218],\n",
       "       [0.18637699, 0.81362301],\n",
       "       [0.25211378, 0.74788622],\n",
       "       [0.10060256, 0.89939744],\n",
       "       [0.22149798, 0.77850202],\n",
       "       [0.19256241, 0.80743759],\n",
       "       [0.07021218, 0.92978782],\n",
       "       [0.29905594, 0.70094406],\n",
       "       [0.07390248, 0.92609752],\n",
       "       [0.2771954 , 0.7228046 ],\n",
       "       [0.18443484, 0.81556516],\n",
       "       [0.09237059, 0.90762941],\n",
       "       [0.23169915, 0.76830085],\n",
       "       [0.24775432, 0.75224568],\n",
       "       [0.15435657, 0.84564343],\n",
       "       [0.48634501, 0.51365499],\n",
       "       [0.14460577, 0.85539423],\n",
       "       [0.20157176, 0.79842824],\n",
       "       [0.11148094, 0.88851906],\n",
       "       [0.38612248, 0.61387752],\n",
       "       [0.13318843, 0.86681157],\n",
       "       [0.49748007, 0.50251993],\n",
       "       [0.80343811, 0.19656189],\n",
       "       [0.20300825, 0.79699175],\n",
       "       [0.06605419, 0.93394581],\n",
       "       [0.15474475, 0.84525525]])"
      ]
     },
     "execution_count": 68,
     "metadata": {},
     "output_type": "execute_result"
    }
   ],
   "source": [
    "glm.predict_proba(cr_test_x)"
   ]
  },
  {
   "cell_type": "code",
   "execution_count": 69,
   "id": "15462a7c",
   "metadata": {},
   "outputs": [
    {
     "data": {
      "text/plain": [
       "197"
      ]
     },
     "execution_count": 69,
     "metadata": {},
     "output_type": "execute_result"
    }
   ],
   "source": [
    "len(glm.predict_proba(cr_test_x))"
   ]
  },
  {
   "cell_type": "code",
   "execution_count": 70,
   "id": "20e66a42",
   "metadata": {},
   "outputs": [
    {
     "data": {
      "text/plain": [
       "(197, 11)"
      ]
     },
     "execution_count": 70,
     "metadata": {},
     "output_type": "execute_result"
    }
   ],
   "source": [
    "cr_test_x.shape"
   ]
  },
  {
   "cell_type": "code",
   "execution_count": 71,
   "id": "c2483964",
   "metadata": {},
   "outputs": [
    {
     "data": {
      "text/plain": [
       "1.0"
      ]
     },
     "execution_count": 71,
     "metadata": {},
     "output_type": "execute_result"
    }
   ],
   "source": [
    ".50830073 + 0.49169927"
   ]
  },
  {
   "cell_type": "code",
   "execution_count": 72,
   "id": "f24ad97c",
   "metadata": {},
   "outputs": [
    {
     "data": {
      "text/plain": [
       "1.0"
      ]
     },
     "execution_count": 72,
     "metadata": {},
     "output_type": "execute_result"
    }
   ],
   "source": [
    ".57762386 +0.42237614"
   ]
  },
  {
   "cell_type": "code",
   "execution_count": 77,
   "id": "a2cff01d",
   "metadata": {},
   "outputs": [],
   "source": [
    "pred_cr = glm.predict(cr_test_x)  # preiction in classes\n",
    "#pred_cr"
   ]
  },
  {
   "cell_type": "code",
   "execution_count": 81,
   "id": "e0c551f4",
   "metadata": {},
   "outputs": [],
   "source": [
    "pred_prob =glm.predict_proba(cr_test_x)\n",
    "#pred_prob"
   ]
  },
  {
   "cell_type": "code",
   "execution_count": 80,
   "id": "67c4ac45",
   "metadata": {},
   "outputs": [],
   "source": [
    "#pred_prob[: , 1]"
   ]
  },
  {
   "cell_type": "code",
   "execution_count": 74,
   "id": "43e3d10b",
   "metadata": {},
   "outputs": [],
   "source": [
    "from sklearn.metrics   import  roc_auc_score\n",
    "from sklearn.metrics   import  roc_curve"
   ]
  },
  {
   "cell_type": "code",
   "execution_count": 82,
   "id": "7f163e86",
   "metadata": {},
   "outputs": [
    {
     "data": {
      "text/plain": [
       "0.7045990566037736"
      ]
     },
     "execution_count": 82,
     "metadata": {},
     "output_type": "execute_result"
    }
   ],
   "source": [
    "roc_auc_score(cr_test_y, pred_cr)  # area under the curve value "
   ]
  },
  {
   "cell_type": "code",
   "execution_count": 84,
   "id": "5cb860c5",
   "metadata": {},
   "outputs": [],
   "source": [
    " fpr , tpr ,threshold  = roc_curve(cr_test_y  , pred_prob[: , 1])"
   ]
  },
  {
   "cell_type": "code",
   "execution_count": 88,
   "id": "8e48cdb6",
   "metadata": {},
   "outputs": [],
   "source": [
    "#fpr"
   ]
  },
  {
   "cell_type": "code",
   "execution_count": 89,
   "id": "21f78788",
   "metadata": {},
   "outputs": [],
   "source": [
    "#tpr"
   ]
  },
  {
   "cell_type": "code",
   "execution_count": 90,
   "id": "ec07f9d5",
   "metadata": {},
   "outputs": [],
   "source": [
    "import matplotlib.pyplot  as plt"
   ]
  },
  {
   "cell_type": "code",
   "execution_count": 100,
   "id": "961fcf1c",
   "metadata": {},
   "outputs": [
    {
     "data": {
      "text/plain": [
       "0.7045990566037736"
      ]
     },
     "execution_count": 100,
     "metadata": {},
     "output_type": "execute_result"
    }
   ],
   "source": [
    "Area = roc_auc_score(cr_test_y, pred_cr)\n",
    "Area "
   ]
  },
  {
   "cell_type": "code",
   "execution_count": 103,
   "id": "2627eaae",
   "metadata": {},
   "outputs": [],
   "source": [
    "import numpy as np\n",
    "Area = np.round(Area, 3)"
   ]
  },
  {
   "cell_type": "code",
   "execution_count": 104,
   "id": "f8aa85b6",
   "metadata": {},
   "outputs": [
    {
     "data": {
      "text/plain": [
       "Text(0.5, 0.4, '0.705')"
      ]
     },
     "execution_count": 104,
     "metadata": {},
     "output_type": "execute_result"
    },
    {
     "data": {
      "image/png": "[encoded data removed]",
      "text/plain": [
       "<Figure size 432x288 with 1 Axes>"
      ]
     },
     "metadata": {
      "needs_background": "light"
     },
     "output_type": "display_data"
    }
   ],
   "source": [
    "plt.plot(fpr, tpr )\n",
    "plt.xlabel(\"False Postive values\")\n",
    "plt.ylabel(\"True Negative values \")\n",
    "plt.title(\"AUROC curve on Credit Risk Data\")\n",
    "plt.grid()\n",
    "plt.text(x = .5 , y = .5 , s =\" AUROC is \")\n",
    "plt.text(x = .5 , y = .4 , s = Area)"
   ]
  },
  {
   "cell_type": "code",
   "execution_count": 105,
   "id": "484ba2f7",
   "metadata": {},
   "outputs": [],
   "source": [
    "#  problems statemet 2"
   ]
  },
  {
   "cell_type": "code",
   "execution_count": 120,
   "id": "ba1fffb9",
   "metadata": {},
   "outputs": [],
   "source": [
    "pred_prob_full  = glm.predict_proba(cr.iloc[: , 0: -1])"
   ]
  },
  {
   "cell_type": "code",
   "execution_count": 121,
   "id": "984bad5d",
   "metadata": {},
   "outputs": [],
   "source": [
    "pred_prob_full  = pd.DataFrame(pred_prob_full)"
   ]
  },
  {
   "cell_type": "code",
   "execution_count": 124,
   "id": "8d0289a0",
   "metadata": {},
   "outputs": [],
   "source": [
    "pred_prob_full  = pred_prob_full.rename(columns= {pred_prob_full.columns[0]  :'Prob0'  , \n",
    "                                                  pred_prob_full.columns[1]  : 'Prob1'})"
   ]
  },
  {
   "cell_type": "code",
   "execution_count": 128,
   "id": "f4c06d7a",
   "metadata": {},
   "outputs": [
    {
     "data": {
      "text/html": [
       "<div>\n",
       "<style scoped>\n",
       "    .dataframe tbody tr th:only-of-type {\n",
       "        vertical-align: middle;\n",
       "    }\n",
       "\n",
       "    .dataframe tbody tr th {\n",
       "        vertical-align: top;\n",
       "    }\n",
       "\n",
       "    .dataframe thead th {\n",
       "        text-align: right;\n",
       "    }\n",
       "</style>\n",
       "<table border=\"1\" class=\"dataframe\">\n",
       "  <thead>\n",
       "    <tr style=\"text-align: right;\">\n",
       "      <th></th>\n",
       "      <th>Loan_ID</th>\n",
       "      <th>Gender</th>\n",
       "      <th>Married</th>\n",
       "      <th>Dependents</th>\n",
       "      <th>Education</th>\n",
       "      <th>Self_Employed</th>\n",
       "      <th>ApplicantIncome</th>\n",
       "      <th>CoapplicantIncome</th>\n",
       "      <th>LoanAmount</th>\n",
       "      <th>Loan_Amount_Term</th>\n",
       "      <th>Credit_History</th>\n",
       "      <th>Property_Area</th>\n",
       "      <th>Loan_Status</th>\n",
       "    </tr>\n",
       "  </thead>\n",
       "  <tbody>\n",
       "    <tr>\n",
       "      <th>0</th>\n",
       "      <td>LP001002</td>\n",
       "      <td>Male</td>\n",
       "      <td>No</td>\n",
       "      <td>0.0</td>\n",
       "      <td>Graduate</td>\n",
       "      <td>No</td>\n",
       "      <td>5849</td>\n",
       "      <td>0.0</td>\n",
       "      <td>NaN</td>\n",
       "      <td>360.0</td>\n",
       "      <td>1.0</td>\n",
       "      <td>Urban</td>\n",
       "      <td>Y</td>\n",
       "    </tr>\n",
       "  </tbody>\n",
       "</table>\n",
       "</div>"
      ],
      "text/plain": [
       "    Loan_ID Gender Married  Dependents Education Self_Employed  \\\n",
       "0  LP001002   Male      No         0.0  Graduate            No   \n",
       "\n",
       "   ApplicantIncome  CoapplicantIncome  LoanAmount  Loan_Amount_Term  \\\n",
       "0             5849                0.0         NaN             360.0   \n",
       "\n",
       "   Credit_History Property_Area Loan_Status  \n",
       "0             1.0         Urban           Y  "
      ]
     },
     "execution_count": 128,
     "metadata": {},
     "output_type": "execute_result"
    }
   ],
   "source": [
    "cr = pd.read_csv(r\"C:\\Users\\pranj\\OneDrive\\Documents\\CreditRisk.csv\")\n",
    "cr.head(1)"
   ]
  },
  {
   "cell_type": "code",
   "execution_count": 129,
   "id": "ac1253bd",
   "metadata": {},
   "outputs": [],
   "source": [
    "pred_prob_full['LoanIdCustomer']   = cr.Loan_ID"
   ]
  },
  {
   "cell_type": "code",
   "execution_count": 130,
   "id": "b3aa43bb",
   "metadata": {},
   "outputs": [
    {
     "data": {
      "text/html": [
       "<div>\n",
       "<style scoped>\n",
       "    .dataframe tbody tr th:only-of-type {\n",
       "        vertical-align: middle;\n",
       "    }\n",
       "\n",
       "    .dataframe tbody tr th {\n",
       "        vertical-align: top;\n",
       "    }\n",
       "\n",
       "    .dataframe thead th {\n",
       "        text-align: right;\n",
       "    }\n",
       "</style>\n",
       "<table border=\"1\" class=\"dataframe\">\n",
       "  <thead>\n",
       "    <tr style=\"text-align: right;\">\n",
       "      <th></th>\n",
       "      <th>Prob0</th>\n",
       "      <th>Prob1</th>\n",
       "      <th>LoanIdCustomer</th>\n",
       "    </tr>\n",
       "  </thead>\n",
       "  <tbody>\n",
       "    <tr>\n",
       "      <th>0</th>\n",
       "      <td>0.113745</td>\n",
       "      <td>0.886255</td>\n",
       "      <td>LP001002</td>\n",
       "    </tr>\n",
       "    <tr>\n",
       "      <th>1</th>\n",
       "      <td>0.204137</td>\n",
       "      <td>0.795863</td>\n",
       "      <td>LP001003</td>\n",
       "    </tr>\n",
       "    <tr>\n",
       "      <th>2</th>\n",
       "      <td>0.059720</td>\n",
       "      <td>0.940280</td>\n",
       "      <td>LP001005</td>\n",
       "    </tr>\n",
       "    <tr>\n",
       "      <th>3</th>\n",
       "      <td>0.121637</td>\n",
       "      <td>0.878363</td>\n",
       "      <td>LP001006</td>\n",
       "    </tr>\n",
       "    <tr>\n",
       "      <th>4</th>\n",
       "      <td>0.113329</td>\n",
       "      <td>0.886671</td>\n",
       "      <td>LP001008</td>\n",
       "    </tr>\n",
       "  </tbody>\n",
       "</table>\n",
       "</div>"
      ],
      "text/plain": [
       "      Prob0     Prob1 LoanIdCustomer\n",
       "0  0.113745  0.886255       LP001002\n",
       "1  0.204137  0.795863       LP001003\n",
       "2  0.059720  0.940280       LP001005\n",
       "3  0.121637  0.878363       LP001006\n",
       "4  0.113329  0.886671       LP001008"
      ]
     },
     "execution_count": 130,
     "metadata": {},
     "output_type": "execute_result"
    }
   ],
   "source": [
    "pred_prob_full.head()"
   ]
  },
  {
   "cell_type": "code",
   "execution_count": 132,
   "id": "33d8ab77",
   "metadata": {},
   "outputs": [
    {
     "data": {
      "text/html": [
       "<div>\n",
       "<style scoped>\n",
       "    .dataframe tbody tr th:only-of-type {\n",
       "        vertical-align: middle;\n",
       "    }\n",
       "\n",
       "    .dataframe tbody tr th {\n",
       "        vertical-align: top;\n",
       "    }\n",
       "\n",
       "    .dataframe thead th {\n",
       "        text-align: right;\n",
       "    }\n",
       "</style>\n",
       "<table border=\"1\" class=\"dataframe\">\n",
       "  <thead>\n",
       "    <tr style=\"text-align: right;\">\n",
       "      <th></th>\n",
       "      <th>Prob0</th>\n",
       "      <th>Prob1</th>\n",
       "      <th>LoanIdCustomer</th>\n",
       "    </tr>\n",
       "  </thead>\n",
       "  <tbody>\n",
       "    <tr>\n",
       "      <th>686</th>\n",
       "      <td>0.031083</td>\n",
       "      <td>0.968917</td>\n",
       "      <td>LP001375</td>\n",
       "    </tr>\n",
       "    <tr>\n",
       "      <th>14</th>\n",
       "      <td>0.034360</td>\n",
       "      <td>0.965640</td>\n",
       "      <td>LP001030</td>\n",
       "    </tr>\n",
       "    <tr>\n",
       "      <th>575</th>\n",
       "      <td>0.034560</td>\n",
       "      <td>0.965440</td>\n",
       "      <td>LP002868</td>\n",
       "    </tr>\n",
       "    <tr>\n",
       "      <th>164</th>\n",
       "      <td>0.034569</td>\n",
       "      <td>0.965431</td>\n",
       "      <td>LP001572</td>\n",
       "    </tr>\n",
       "    <tr>\n",
       "      <th>133</th>\n",
       "      <td>0.035527</td>\n",
       "      <td>0.964473</td>\n",
       "      <td>LP001482</td>\n",
       "    </tr>\n",
       "    <tr>\n",
       "      <th>...</th>\n",
       "      <td>...</td>\n",
       "      <td>...</td>\n",
       "      <td>...</td>\n",
       "    </tr>\n",
       "    <tr>\n",
       "      <th>177</th>\n",
       "      <td>0.835557</td>\n",
       "      <td>0.164443</td>\n",
       "      <td>LP001610</td>\n",
       "    </tr>\n",
       "    <tr>\n",
       "      <th>696</th>\n",
       "      <td>0.835929</td>\n",
       "      <td>0.164071</td>\n",
       "      <td>LP001445</td>\n",
       "    </tr>\n",
       "    <tr>\n",
       "      <th>925</th>\n",
       "      <td>0.860293</td>\n",
       "      <td>0.139707</td>\n",
       "      <td>LP002747</td>\n",
       "    </tr>\n",
       "    <tr>\n",
       "      <th>639</th>\n",
       "      <td>0.864353</td>\n",
       "      <td>0.135647</td>\n",
       "      <td>LP001153</td>\n",
       "    </tr>\n",
       "    <tr>\n",
       "      <th>600</th>\n",
       "      <td>0.877264</td>\n",
       "      <td>0.122736</td>\n",
       "      <td>LP002949</td>\n",
       "    </tr>\n",
       "  </tbody>\n",
       "</table>\n",
       "<p>981 rows × 3 columns</p>\n",
       "</div>"
      ],
      "text/plain": [
       "        Prob0     Prob1 LoanIdCustomer\n",
       "686  0.031083  0.968917       LP001375\n",
       "14   0.034360  0.965640       LP001030\n",
       "575  0.034560  0.965440       LP002868\n",
       "164  0.034569  0.965431       LP001572\n",
       "133  0.035527  0.964473       LP001482\n",
       "..        ...       ...            ...\n",
       "177  0.835557  0.164443       LP001610\n",
       "696  0.835929  0.164071       LP001445\n",
       "925  0.860293  0.139707       LP002747\n",
       "639  0.864353  0.135647       LP001153\n",
       "600  0.877264  0.122736       LP002949\n",
       "\n",
       "[981 rows x 3 columns]"
      ]
     },
     "execution_count": 132,
     "metadata": {},
     "output_type": "execute_result"
    }
   ],
   "source": [
    "pred_prob_full  =   pred_prob_full.sort_values('Prob1', ascending= False)\n",
    "pred_prob_full"
   ]
  },
  {
   "cell_type": "code",
   "execution_count": null,
   "id": "58682dcf",
   "metadata": {},
   "outputs": [],
   "source": []
  }
 ],
 "metadata": {
  "kernelspec": {
   "display_name": "Python 3 (ipykernel)",
   "language": "python",
   "name": "python3"
  },
  "language_info": {
   "codemirror_mode": {
    "name": "ipython",
    "version": 3
   },
   "file_extension": ".py",
   "mimetype": "text/x-python",
   "name": "python",
   "nbconvert_exporter": "python",
   "pygments_lexer": "ipython3",
   "version": "3.9.7"
  }
 },
 "nbformat": 4,
 "nbformat_minor": 5
}
